{
 "cells": [
  {
   "cell_type": "markdown",
   "id": "adjustable-crime",
   "metadata": {},
   "source": [
    "# Observability facilities\n",
    "\n",
    "Third party software stack to keep an eye on your experiment or gather some metrics.\n",
    "\n",
    "---\n",
    "\n",
    "- Website: https://discovery.gitlabpages.inria.fr/enoslib/index.html\n",
    "- Instant chat: https://framateam.org/enoslib\n",
    "- Source code: https://gitlab.inria.fr/discovery/enoslib\n",
    "\n",
    "\n",
    "---\n",
    "\n",
    "More generally, useful service for the experimentation are consolidated through `Services`.\n",
    "In particular, EnOSlib has some some Services which deal with the problem of getting some insight on what's running on remote nodes. \n",
    "\n",
    "A Service is a python object which exposes three main methods:\n",
    "\n",
    "- `deploy`: which deploy the service\n",
    "- `destroy`: remove stop the service\n",
    "- `backup`: retrieve some states of the services (e.g monitoring information)\n",
    "\n",
    "Usually a service is used as follow:\n",
    "\n",
    "```python\n",
    "service = Service(*args, **kwargs)\n",
    "service.deploy()\n",
    "...\n",
    "# do stuffs\n",
    "...\n",
    "service.backup()\n",
    "service.destroy()\n",
    "```\n",
    "\n",
    "\n",
    "But it's sometime useful to use a Context Manager when working with module:\n",
    "\n",
    "```python\n",
    "with Service(*args, **kwargs) as service:\n",
    "    ...\n",
    "    # do stuffs\n",
    "    ...\n",
    "```\n",
    "\n",
    "This allows for\n",
    "\n",
    "- running the service for some time depending on what's inside the context manager\n",
    "- cleaning (and backuping) stuffs automatically at the end\n",
    "\n",
    "---\n",
    "\n",
    "**Prerequisites:**\n",
    "- A Grid'5000 account\n",
    "- A working EnOSlib environment and Jupyter (not included in EnOSlib dependencies, but `pip install jupyterlab` will install it)\n",
    "- Some visualization tools: `matplotlib`, `seaborn`\n",
    "- Packet manipulation tool: `scapy`\n",
    "\n",
    "\n"
   ]
  },
  {
   "cell_type": "markdown",
   "id": "worse-equity",
   "metadata": {},
   "source": [
    "## Common setup"
   ]
  },
  {
   "cell_type": "code",
   "execution_count": 1,
   "id": "stylish-bahamas",
   "metadata": {},
   "outputs": [
    {
     "name": "stdout",
     "output_type": "stream",
     "text": [
      "Note: Openstack clients not installed\n"
     ]
    }
   ],
   "source": [
    "import enoslib as en\n",
    "\n",
    "# Enable rich logging\n",
    "_ = en.init_logging()"
   ]
  },
  {
   "cell_type": "code",
   "execution_count": 2,
   "id": "dressed-mentor",
   "metadata": {},
   "outputs": [
    {
     "data": {
      "text/html": [
       "\n",
       "        <style> .enoslib {\n",
       "    width: auto;\n",
       "}\n",
       "\n",
       ".enoslib_object {\n",
       "    width: auto;\n",
       "    font-size: 1em;\n",
       "    line-height: 1.5;\n",
       "    background-color: rgb(250, 249, 249);\n",
       "    font-family: 'Segoe UI';\n",
       "    color: black;\n",
       "}\n",
       "\n",
       ".enoslib_object ul {\n",
       "    padding: 0;\n",
       "}\n",
       "\n",
       ".enoslib_object input+label {\n",
       "    margin-bottom: 0%;\n",
       "}\n",
       "\n",
       ".object_name {\n",
       "    padding: 6px 0 6px 3px;\n",
       "    border-bottom-width: 1px;\n",
       "    border-bottom-style: solid;\n",
       "    border-bottom-color: #777;\n",
       "    color: #555;\n",
       "}\n",
       "\n",
       ".object_name>div,\n",
       ".object_name>ul {\n",
       "    display: inline;\n",
       "    margin-top: 0;\n",
       "    margin-bottom: 0;\n",
       "}\n",
       "\n",
       "ul.enoslist {\n",
       "    list-style: none !important;\n",
       "    padding: 3px !important;\n",
       "    margin: 0 !important;\n",
       "}\n",
       "\n",
       "input.att+label {\n",
       "    display: inline-block;\n",
       "    /*width: 140px;*/\n",
       "    color: rgb(36, 35, 35);\n",
       "    font-weight: 500;\n",
       "    padding: 4px 0 2px 0;\n",
       "}\n",
       "\n",
       "input.att:enabled+label {\n",
       "    cursor: pointer;\n",
       "    width: auto;\n",
       "}\n",
       "\n",
       "input.att {\n",
       "    display: none;\n",
       "}\n",
       "\n",
       "input.att+label:before {\n",
       "    display: inline-block;\n",
       "    content: '►';\n",
       "    font-size: 11px;\n",
       "    width: 15px;\n",
       "    text-align: center;\n",
       "}\n",
       "\n",
       "input.att:checked+label:before {\n",
       "    content: '▼';\n",
       "}\n",
       "\n",
       "input.att:disabled+label:before {\n",
       "    content: none;\n",
       "}\n",
       "\n",
       "input.att+label>span {\n",
       "    display: inline-block;\n",
       "    margin-left: 4px;\n",
       "}\n",
       "\n",
       "input.att+label>span.len {\n",
       "    font-size: small;\n",
       "}\n",
       "\n",
       "input.att:checked+label>span.len {\n",
       "    display: none;\n",
       "}\n",
       "\n",
       "label+span {\n",
       "    color: rgb(70, 69, 69);\n",
       "}\n",
       "\n",
       "input.att~ul {\n",
       "    display: none;\n",
       "}\n",
       "\n",
       "input.att:checked~ul {\n",
       "    display: block;\n",
       "}\n",
       "\n",
       "table {\n",
       "    width: auto;\n",
       "    border-collapse: collapse;\n",
       "    margin: 2%;\n",
       "}\n",
       "\n",
       "td,\n",
       "th {\n",
       "    padding: 8px;\n",
       "    height: 15px;\n",
       "    font-size: small;\n",
       "}\n",
       "\n",
       "td {\n",
       "    text-align: left !important;\n",
       "    color: rgb(160, 160, 160)\n",
       "}\n",
       "\n",
       "th {\n",
       "    text-align: center;\n",
       "    color: black;\n",
       "}\n",
       "\n",
       "input~ul {\n",
       "    position: relative;\n",
       "    left: 25px;\n",
       "}\n",
       "\n",
       "input.att~table {\n",
       "    display: none;\n",
       "}\n",
       "\n",
       "input.att:checked~table {\n",
       "    display: block;\n",
       "} </style>\n",
       "        <div class=\"enoslib\">\n",
       "        <div class=\"enoslib_object\">\n",
       "            <div class=\"object_name\">\n",
       "                &lt;class &#x27;enoslib.infra.enos_g5k.configuration.Configuration&#x27;&gt;@0x7f22292f40a0\n",
       "            </div>\n",
       "            <ul class=\"enoslist\">\n",
       "                \n",
       "        <li>\n",
       "        <input type=\"checkbox\" id=\"dhcp-1f107241-ef3b-4b42-bb1e-624135f0ab16\" class=\"att\" disabled=\"\">\n",
       "        <label for=\"dhcp-1f107241-ef3b-4b42-bb1e-624135f0ab16\">\n",
       "            <span>dhcp:&nbsp;</span>\n",
       "        </label>\n",
       "        <span>True</span>\n",
       "        </li>\n",
       "        <li>\n",
       "        <input type=\"checkbox\" id=\"force_deploy-1e929100-c27c-4f35-a592-ab77e0e6d841\" class=\"att\" disabled=\"\">\n",
       "        <label for=\"force_deploy-1e929100-c27c-4f35-a592-ab77e0e6d841\">\n",
       "            <span>force_deploy:&nbsp;</span>\n",
       "        </label>\n",
       "        <span>False</span>\n",
       "        </li>\n",
       "        <li>\n",
       "        <input type=\"checkbox\" id=\"env_name-eb5a215c-1235-445c-a59c-6854f73114eb\" class=\"att\" disabled=\"\">\n",
       "        <label for=\"env_name-eb5a215c-1235-445c-a59c-6854f73114eb\">\n",
       "            <span>env_name:&nbsp;</span>\n",
       "        </label>\n",
       "        <span>debian11-x64-nfs</span>\n",
       "        </li>\n",
       "        <li>\n",
       "        <input type=\"checkbox\" id=\"job_name-8c91dc73-f7d4-487f-b293-6d2cc7734e6f\" class=\"att\" disabled=\"\">\n",
       "        <label for=\"job_name-8c91dc73-f7d4-487f-b293-6d2cc7734e6f\">\n",
       "            <span>job_name:&nbsp;</span>\n",
       "        </label>\n",
       "        <span>enoslib_observability</span>\n",
       "        </li>\n",
       "        <li>\n",
       "        <input type=\"checkbox\" id=\"job_type-cc7f5741-d919-4c3d-9a1c-fa6b76658be9\" class=\"att\" disabled=\"\">\n",
       "        <label for=\"job_type-cc7f5741-d919-4c3d-9a1c-fa6b76658be9\">\n",
       "            <span>job_type:&nbsp;</span>\n",
       "        </label>\n",
       "        <span>allow_classic_ssh</span>\n",
       "        </li>\n",
       "        <li>\n",
       "        <input type=\"checkbox\" id=\"key-042b0003-46a2-4b70-8159-99409631fccc\" class=\"att\" disabled=\"\">\n",
       "        <label for=\"key-042b0003-46a2-4b70-8159-99409631fccc\">\n",
       "            <span>key:&nbsp;</span>\n",
       "        </label>\n",
       "        <span>/home/msimonin/.ssh/id_rsa.pub</span>\n",
       "        </li>\n",
       "        <li>\n",
       "        <input type=\"checkbox\" id=\"queue-2f0d8eb6-bedc-4992-a067-dc7e9b68e407\" class=\"att\" disabled=\"\">\n",
       "        <label for=\"queue-2f0d8eb6-bedc-4992-a067-dc7e9b68e407\">\n",
       "            <span>queue:&nbsp;</span>\n",
       "        </label>\n",
       "        <span>default</span>\n",
       "        </li>\n",
       "        <li>\n",
       "        <input type=\"checkbox\" id=\"walltime-27aff3b5-d629-4b4b-a1e3-f540e9159deb\" class=\"att\" disabled=\"\">\n",
       "        <label for=\"walltime-27aff3b5-d629-4b4b-a1e3-f540e9159deb\">\n",
       "            <span>walltime:&nbsp;</span>\n",
       "        </label>\n",
       "        <span>02:00:00</span>\n",
       "        </li>\n",
       "                <li>\n",
       "                    <input type=\"checkbox\" id=\"resources-2dd9e4a8-f111-4774-92f4-548e4308a155\" class=\"att\">\n",
       "                    <label for=\"resources-2dd9e4a8-f111-4774-92f4-548e4308a155\">resources <span class=\"len\">(2)</span></label>\n",
       "                    <ul id=\"resources\" class=\"enoslist\">\n",
       "                        \n",
       "                <li>\n",
       "                    <input type=\"checkbox\" id=\"machines-07b498a6-9dd7-4363-a176-a99df0ee899f\" class=\"att\">\n",
       "                    <label for=\"machines-07b498a6-9dd7-4363-a176-a99df0ee899f\">machines <span class=\"len\">(2)</span></label>\n",
       "                    <ul id=\"machines\" class=\"enoslist\">\n",
       "                        <table><thead><tr><th>roles</th><th>primary_network</th><th>secondary_networks</th><th>cluster</th><th>nodes</th></tr></thead><tbody><tr><td><ul class=\"list\"><li>control</li><li>xp</li></ul></td><td>39892d07-de61-4e58-8888-c5b0cc1b03b5</td><td></td><td>parasilo</td><td>1</td></tr><tr><td><ul class=\"list\"><li>agent</li><li>xp</li></ul></td><td>39892d07-de61-4e58-8888-c5b0cc1b03b5</td><td></td><td>parasilo</td><td>1</td></tr></tbody></table>\n",
       "                    </ul>\n",
       "                </li>\n",
       "                \n",
       "                <li>\n",
       "                    <input type=\"checkbox\" id=\"networks-bb70b8dc-dbf5-40b3-9256-1e237fb20dec\" class=\"att\">\n",
       "                    <label for=\"networks-bb70b8dc-dbf5-40b3-9256-1e237fb20dec\">networks <span class=\"len\">(1)</span></label>\n",
       "                    <ul id=\"networks\" class=\"enoslist\">\n",
       "                        <table><thead><tr><th>id</th><th>type</th><th>roles</th><th>site</th></tr></thead><tbody><tr><td>39892d07-de61-4e58-8888-c5b0cc1b03b5</td><td>prod</td><td><ul class=\"list\"><li>my_network</li></ul></td><td>rennes</td></tr></tbody></table>\n",
       "                    </ul>\n",
       "                </li>\n",
       "                \n",
       "                    </ul>\n",
       "                </li>\n",
       "                \n",
       "            </ul>\n",
       "                </div>\n",
       "        </div>\n",
       "    "
      ],
      "text/plain": [
       "Conf@0x7f22292f40a0\n",
       "{\n",
       "    \"dhcp\": true,\n",
       "    \"force_deploy\": false,\n",
       "    \"env_name\": \"debian11-x64-nfs\",\n",
       "    \"job_name\": \"enoslib_observability\",\n",
       "    \"job_type\": \"allow_classic_ssh\",\n",
       "    \"key\": \"/home/msimonin/.ssh/id_rsa.pub\",\n",
       "    \"queue\": \"default\",\n",
       "    \"walltime\": \"02:00:00\",\n",
       "    \"resources\": {\n",
       "        \"machines\": [\n",
       "            {\n",
       "                \"roles\": [\n",
       "                    \"control\",\n",
       "                    \"xp\"\n",
       "                ],\n",
       "                \"primary_network\": \"39892d07-de61-4e58-8888-c5b0cc1b03b5\",\n",
       "                \"secondary_networks\": [],\n",
       "                \"cluster\": \"parasilo\",\n",
       "                \"nodes\": 1\n",
       "            },\n",
       "            {\n",
       "                \"roles\": [\n",
       "                    \"agent\",\n",
       "                    \"xp\"\n",
       "                ],\n",
       "                \"primary_network\": \"39892d07-de61-4e58-8888-c5b0cc1b03b5\",\n",
       "                \"secondary_networks\": [],\n",
       "                \"cluster\": \"parasilo\",\n",
       "                \"nodes\": 1\n",
       "            }\n",
       "        ],\n",
       "        \"networks\": [\n",
       "            {\n",
       "                \"id\": \"39892d07-de61-4e58-8888-c5b0cc1b03b5\",\n",
       "                \"type\": \"prod\",\n",
       "                \"roles\": [\n",
       "                    \"my_network\"\n",
       "                ],\n",
       "                \"site\": \"rennes\"\n",
       "            }\n",
       "        ]\n",
       "    }\n",
       "}"
      ]
     },
     "execution_count": 2,
     "metadata": {},
     "output_type": "execute_result"
    }
   ],
   "source": [
    "# claim the resources\n",
    "network = en.G5kNetworkConf(type=\"prod\", roles=[\"my_network\"], site=\"rennes\")\n",
    "\n",
    "conf = (\n",
    "    en.G5kConf.from_settings(job_type=\"allow_classic_ssh\", job_name=\"enoslib_observability\")\n",
    "    .add_network_conf(network)\n",
    "    .add_machine(\n",
    "        roles=[\"control\", \"xp\"], cluster=\"parasilo\", nodes=1, primary_network=network\n",
    "    )\n",
    "    .add_machine(\n",
    "        roles=[\"agent\", \"xp\"], cluster=\"parasilo\", nodes=1, primary_network=network\n",
    "    )\n",
    "    .finalize()\n",
    ")\n",
    "conf"
   ]
  },
  {
   "cell_type": "code",
   "execution_count": 3,
   "id": "corrected-analysis",
   "metadata": {},
   "outputs": [
    {
     "data": {
      "text/html": [
       "<pre style=\"white-space:pre;overflow-x:auto;line-height:normal;font-family:Menlo,'DejaVu Sans Mono',consolas,'Courier New',monospace\"><span style=\"color: #000080; text-decoration-color: #000080\">INFO    </span> Reloading enoslib_observability from grenoble                   <a href=\"file:///home/msimonin/workspace/repos/enoslib/enoslib/infra/enos_g5k/g5k_api_utils.py\"><span style=\"color: #7f7f7f; text-decoration-color: #7f7f7f\">g5k_api_utils.py</span></a><span style=\"color: #7f7f7f; text-decoration-color: #7f7f7f\">:</span><a href=\"file:///home/msimonin/workspace/repos/enoslib/enoslib/infra/enos_g5k/g5k_api_utils.py#175\"><span style=\"color: #7f7f7f; text-decoration-color: #7f7f7f\">175</span></a>\n",
       "</pre>\n"
      ],
      "text/plain": [
       "\u001b[34mINFO    \u001b[0m Reloading enoslib_observability from grenoble                   \u001b]8;id=984047;file:///home/msimonin/workspace/repos/enoslib/enoslib/infra/enos_g5k/g5k_api_utils.py\u001b\\\u001b[2mg5k_api_utils.py\u001b[0m\u001b]8;;\u001b\\\u001b[2m:\u001b[0m\u001b]8;id=274134;file:///home/msimonin/workspace/repos/enoslib/enoslib/infra/enos_g5k/g5k_api_utils.py#175\u001b\\\u001b[2m175\u001b[0m\u001b]8;;\u001b\\\n"
      ]
     },
     "metadata": {},
     "output_type": "display_data"
    },
    {
     "data": {
      "text/html": [
       "<pre style=\"white-space:pre;overflow-x:auto;line-height:normal;font-family:Menlo,'DejaVu Sans Mono',consolas,'Courier New',monospace\"><span style=\"color: #000080; text-decoration-color: #000080\">INFO    </span> Reloading enoslib_observability from lille                      <a href=\"file:///home/msimonin/workspace/repos/enoslib/enoslib/infra/enos_g5k/g5k_api_utils.py\"><span style=\"color: #7f7f7f; text-decoration-color: #7f7f7f\">g5k_api_utils.py</span></a><span style=\"color: #7f7f7f; text-decoration-color: #7f7f7f\">:</span><a href=\"file:///home/msimonin/workspace/repos/enoslib/enoslib/infra/enos_g5k/g5k_api_utils.py#175\"><span style=\"color: #7f7f7f; text-decoration-color: #7f7f7f\">175</span></a>\n",
       "</pre>\n"
      ],
      "text/plain": [
       "\u001b[34mINFO    \u001b[0m Reloading enoslib_observability from lille                      \u001b]8;id=944417;file:///home/msimonin/workspace/repos/enoslib/enoslib/infra/enos_g5k/g5k_api_utils.py\u001b\\\u001b[2mg5k_api_utils.py\u001b[0m\u001b]8;;\u001b\\\u001b[2m:\u001b[0m\u001b]8;id=697910;file:///home/msimonin/workspace/repos/enoslib/enoslib/infra/enos_g5k/g5k_api_utils.py#175\u001b\\\u001b[2m175\u001b[0m\u001b]8;;\u001b\\\n"
      ]
     },
     "metadata": {},
     "output_type": "display_data"
    },
    {
     "data": {
      "text/html": [
       "<pre style=\"white-space:pre;overflow-x:auto;line-height:normal;font-family:Menlo,'DejaVu Sans Mono',consolas,'Courier New',monospace\"><span style=\"color: #000080; text-decoration-color: #000080\">INFO    </span> Reloading enoslib_observability from luxembourg                 <a href=\"file:///home/msimonin/workspace/repos/enoslib/enoslib/infra/enos_g5k/g5k_api_utils.py\"><span style=\"color: #7f7f7f; text-decoration-color: #7f7f7f\">g5k_api_utils.py</span></a><span style=\"color: #7f7f7f; text-decoration-color: #7f7f7f\">:</span><a href=\"file:///home/msimonin/workspace/repos/enoslib/enoslib/infra/enos_g5k/g5k_api_utils.py#175\"><span style=\"color: #7f7f7f; text-decoration-color: #7f7f7f\">175</span></a>\n",
       "</pre>\n"
      ],
      "text/plain": [
       "\u001b[34mINFO    \u001b[0m Reloading enoslib_observability from luxembourg                 \u001b]8;id=59479;file:///home/msimonin/workspace/repos/enoslib/enoslib/infra/enos_g5k/g5k_api_utils.py\u001b\\\u001b[2mg5k_api_utils.py\u001b[0m\u001b]8;;\u001b\\\u001b[2m:\u001b[0m\u001b]8;id=166624;file:///home/msimonin/workspace/repos/enoslib/enoslib/infra/enos_g5k/g5k_api_utils.py#175\u001b\\\u001b[2m175\u001b[0m\u001b]8;;\u001b\\\n"
      ]
     },
     "metadata": {},
     "output_type": "display_data"
    },
    {
     "data": {
      "text/html": [
       "<pre style=\"white-space:pre;overflow-x:auto;line-height:normal;font-family:Menlo,'DejaVu Sans Mono',consolas,'Courier New',monospace\"><span style=\"color: #000080; text-decoration-color: #000080\">INFO    </span> Reloading enoslib_observability from lyon                       <a href=\"file:///home/msimonin/workspace/repos/enoslib/enoslib/infra/enos_g5k/g5k_api_utils.py\"><span style=\"color: #7f7f7f; text-decoration-color: #7f7f7f\">g5k_api_utils.py</span></a><span style=\"color: #7f7f7f; text-decoration-color: #7f7f7f\">:</span><a href=\"file:///home/msimonin/workspace/repos/enoslib/enoslib/infra/enos_g5k/g5k_api_utils.py#175\"><span style=\"color: #7f7f7f; text-decoration-color: #7f7f7f\">175</span></a>\n",
       "</pre>\n"
      ],
      "text/plain": [
       "\u001b[34mINFO    \u001b[0m Reloading enoslib_observability from lyon                       \u001b]8;id=924134;file:///home/msimonin/workspace/repos/enoslib/enoslib/infra/enos_g5k/g5k_api_utils.py\u001b\\\u001b[2mg5k_api_utils.py\u001b[0m\u001b]8;;\u001b\\\u001b[2m:\u001b[0m\u001b]8;id=729866;file:///home/msimonin/workspace/repos/enoslib/enoslib/infra/enos_g5k/g5k_api_utils.py#175\u001b\\\u001b[2m175\u001b[0m\u001b]8;;\u001b\\\n"
      ]
     },
     "metadata": {},
     "output_type": "display_data"
    },
    {
     "data": {
      "text/html": [
       "<pre style=\"white-space:pre;overflow-x:auto;line-height:normal;font-family:Menlo,'DejaVu Sans Mono',consolas,'Courier New',monospace\"><span style=\"color: #000080; text-decoration-color: #000080\">INFO    </span> Reloading enoslib_observability from nantes                     <a href=\"file:///home/msimonin/workspace/repos/enoslib/enoslib/infra/enos_g5k/g5k_api_utils.py\"><span style=\"color: #7f7f7f; text-decoration-color: #7f7f7f\">g5k_api_utils.py</span></a><span style=\"color: #7f7f7f; text-decoration-color: #7f7f7f\">:</span><a href=\"file:///home/msimonin/workspace/repos/enoslib/enoslib/infra/enos_g5k/g5k_api_utils.py#175\"><span style=\"color: #7f7f7f; text-decoration-color: #7f7f7f\">175</span></a>\n",
       "</pre>\n"
      ],
      "text/plain": [
       "\u001b[34mINFO    \u001b[0m Reloading enoslib_observability from nantes                     \u001b]8;id=123598;file:///home/msimonin/workspace/repos/enoslib/enoslib/infra/enos_g5k/g5k_api_utils.py\u001b\\\u001b[2mg5k_api_utils.py\u001b[0m\u001b]8;;\u001b\\\u001b[2m:\u001b[0m\u001b]8;id=158105;file:///home/msimonin/workspace/repos/enoslib/enoslib/infra/enos_g5k/g5k_api_utils.py#175\u001b\\\u001b[2m175\u001b[0m\u001b]8;;\u001b\\\n"
      ]
     },
     "metadata": {},
     "output_type": "display_data"
    },
    {
     "data": {
      "text/html": [
       "<pre style=\"white-space:pre;overflow-x:auto;line-height:normal;font-family:Menlo,'DejaVu Sans Mono',consolas,'Courier New',monospace\"><span style=\"color: #000080; text-decoration-color: #000080\">INFO    </span> Reloading enoslib_observability from rennes                     <a href=\"file:///home/msimonin/workspace/repos/enoslib/enoslib/infra/enos_g5k/g5k_api_utils.py\"><span style=\"color: #7f7f7f; text-decoration-color: #7f7f7f\">g5k_api_utils.py</span></a><span style=\"color: #7f7f7f; text-decoration-color: #7f7f7f\">:</span><a href=\"file:///home/msimonin/workspace/repos/enoslib/enoslib/infra/enos_g5k/g5k_api_utils.py#175\"><span style=\"color: #7f7f7f; text-decoration-color: #7f7f7f\">175</span></a>\n",
       "</pre>\n"
      ],
      "text/plain": [
       "\u001b[34mINFO    \u001b[0m Reloading enoslib_observability from rennes                     \u001b]8;id=588331;file:///home/msimonin/workspace/repos/enoslib/enoslib/infra/enos_g5k/g5k_api_utils.py\u001b\\\u001b[2mg5k_api_utils.py\u001b[0m\u001b]8;;\u001b\\\u001b[2m:\u001b[0m\u001b]8;id=955668;file:///home/msimonin/workspace/repos/enoslib/enoslib/infra/enos_g5k/g5k_api_utils.py#175\u001b\\\u001b[2m175\u001b[0m\u001b]8;;\u001b\\\n"
      ]
     },
     "metadata": {},
     "output_type": "display_data"
    },
    {
     "data": {
      "text/html": [
       "<pre style=\"white-space:pre;overflow-x:auto;line-height:normal;font-family:Menlo,'DejaVu Sans Mono',consolas,'Courier New',monospace\"><span style=\"color: #000080; text-decoration-color: #000080\">INFO    </span> Reloading <span style=\"color: #008080; text-decoration-color: #008080; font-weight: bold\">1870616</span> from rennes                                   <a href=\"file:///home/msimonin/workspace/repos/enoslib/enoslib/infra/enos_g5k/g5k_api_utils.py\"><span style=\"color: #7f7f7f; text-decoration-color: #7f7f7f\">g5k_api_utils.py</span></a><span style=\"color: #7f7f7f; text-decoration-color: #7f7f7f\">:</span><a href=\"file:///home/msimonin/workspace/repos/enoslib/enoslib/infra/enos_g5k/g5k_api_utils.py#180\"><span style=\"color: #7f7f7f; text-decoration-color: #7f7f7f\">180</span></a>\n",
       "</pre>\n"
      ],
      "text/plain": [
       "\u001b[34mINFO    \u001b[0m Reloading \u001b[1;36m1870616\u001b[0m from rennes                                   \u001b]8;id=583923;file:///home/msimonin/workspace/repos/enoslib/enoslib/infra/enos_g5k/g5k_api_utils.py\u001b\\\u001b[2mg5k_api_utils.py\u001b[0m\u001b]8;;\u001b\\\u001b[2m:\u001b[0m\u001b]8;id=839932;file:///home/msimonin/workspace/repos/enoslib/enoslib/infra/enos_g5k/g5k_api_utils.py#180\u001b\\\u001b[2m180\u001b[0m\u001b]8;;\u001b\\\n"
      ]
     },
     "metadata": {},
     "output_type": "display_data"
    },
    {
     "data": {
      "text/html": [
       "<pre style=\"white-space:pre;overflow-x:auto;line-height:normal;font-family:Menlo,'DejaVu Sans Mono',consolas,'Courier New',monospace\"><span style=\"color: #000080; text-decoration-color: #000080\">INFO    </span> Reloading enoslib_observability from sophia                     <a href=\"file:///home/msimonin/workspace/repos/enoslib/enoslib/infra/enos_g5k/g5k_api_utils.py\"><span style=\"color: #7f7f7f; text-decoration-color: #7f7f7f\">g5k_api_utils.py</span></a><span style=\"color: #7f7f7f; text-decoration-color: #7f7f7f\">:</span><a href=\"file:///home/msimonin/workspace/repos/enoslib/enoslib/infra/enos_g5k/g5k_api_utils.py#175\"><span style=\"color: #7f7f7f; text-decoration-color: #7f7f7f\">175</span></a>\n",
       "</pre>\n"
      ],
      "text/plain": [
       "\u001b[34mINFO    \u001b[0m Reloading enoslib_observability from sophia                     \u001b]8;id=371872;file:///home/msimonin/workspace/repos/enoslib/enoslib/infra/enos_g5k/g5k_api_utils.py\u001b\\\u001b[2mg5k_api_utils.py\u001b[0m\u001b]8;;\u001b\\\u001b[2m:\u001b[0m\u001b]8;id=119328;file:///home/msimonin/workspace/repos/enoslib/enoslib/infra/enos_g5k/g5k_api_utils.py#175\u001b\\\u001b[2m175\u001b[0m\u001b]8;;\u001b\\\n"
      ]
     },
     "metadata": {},
     "output_type": "display_data"
    },
    {
     "data": {
      "text/html": [
       "<pre style=\"white-space:pre;overflow-x:auto;line-height:normal;font-family:Menlo,'DejaVu Sans Mono',consolas,'Courier New',monospace\"><span style=\"color: #000080; text-decoration-color: #000080\">INFO    </span> Waiting for <span style=\"color: #008080; text-decoration-color: #008080; font-weight: bold\">1870616</span> on rennes <span style=\"font-weight: bold\">[</span><span style=\"color: #008080; text-decoration-color: #008080; font-weight: bold\">2022</span>-<span style=\"color: #008080; text-decoration-color: #008080; font-weight: bold\">01</span>-<span style=\"color: #008080; text-decoration-color: #008080; font-weight: bold\">18</span> <span style=\"color: #00ff00; text-decoration-color: #00ff00; font-weight: bold\">14:19:24</span><span style=\"font-weight: bold\">]</span>             <a href=\"file:///home/msimonin/workspace/repos/enoslib/enoslib/infra/enos_g5k/g5k_api_utils.py\"><span style=\"color: #7f7f7f; text-decoration-color: #7f7f7f\">g5k_api_utils.py</span></a><span style=\"color: #7f7f7f; text-decoration-color: #7f7f7f\">:</span><a href=\"file:///home/msimonin/workspace/repos/enoslib/enoslib/infra/enos_g5k/g5k_api_utils.py#317\"><span style=\"color: #7f7f7f; text-decoration-color: #7f7f7f\">317</span></a>\n",
       "</pre>\n"
      ],
      "text/plain": [
       "\u001b[34mINFO    \u001b[0m Waiting for \u001b[1;36m1870616\u001b[0m on rennes \u001b[1m[\u001b[0m\u001b[1;36m2022\u001b[0m-\u001b[1;36m01\u001b[0m-\u001b[1;36m18\u001b[0m \u001b[1;92m14:19:24\u001b[0m\u001b[1m]\u001b[0m             \u001b]8;id=942280;file:///home/msimonin/workspace/repos/enoslib/enoslib/infra/enos_g5k/g5k_api_utils.py\u001b\\\u001b[2mg5k_api_utils.py\u001b[0m\u001b]8;;\u001b\\\u001b[2m:\u001b[0m\u001b]8;id=832630;file:///home/msimonin/workspace/repos/enoslib/enoslib/infra/enos_g5k/g5k_api_utils.py#317\u001b\\\u001b[2m317\u001b[0m\u001b]8;;\u001b\\\n"
      ]
     },
     "metadata": {},
     "output_type": "display_data"
    },
    {
     "data": {
      "text/html": [
       "<pre style=\"white-space:pre;overflow-x:auto;line-height:normal;font-family:Menlo,'DejaVu Sans Mono',consolas,'Courier New',monospace\"><span style=\"color: #000080; text-decoration-color: #000080\">INFO    </span> All jobs are Running !                                          <a href=\"file:///home/msimonin/workspace/repos/enoslib/enoslib/infra/enos_g5k/g5k_api_utils.py\"><span style=\"color: #7f7f7f; text-decoration-color: #7f7f7f\">g5k_api_utils.py</span></a><span style=\"color: #7f7f7f; text-decoration-color: #7f7f7f\">:</span><a href=\"file:///home/msimonin/workspace/repos/enoslib/enoslib/infra/enos_g5k/g5k_api_utils.py#324\"><span style=\"color: #7f7f7f; text-decoration-color: #7f7f7f\">324</span></a>\n",
       "</pre>\n"
      ],
      "text/plain": [
       "\u001b[34mINFO    \u001b[0m All jobs are Running !                                          \u001b]8;id=545758;file:///home/msimonin/workspace/repos/enoslib/enoslib/infra/enos_g5k/g5k_api_utils.py\u001b\\\u001b[2mg5k_api_utils.py\u001b[0m\u001b]8;;\u001b\\\u001b[2m:\u001b[0m\u001b]8;id=761969;file:///home/msimonin/workspace/repos/enoslib/enoslib/infra/enos_g5k/g5k_api_utils.py#324\u001b\\\u001b[2m324\u001b[0m\u001b]8;;\u001b\\\n"
      ]
     },
     "metadata": {},
     "output_type": "display_data"
    },
    {
     "data": {
      "text/html": [
       "\n",
       "        <style> .enoslib {\n",
       "    width: auto;\n",
       "}\n",
       "\n",
       ".enoslib_object {\n",
       "    width: auto;\n",
       "    font-size: 1em;\n",
       "    line-height: 1.5;\n",
       "    background-color: rgb(250, 249, 249);\n",
       "    font-family: 'Segoe UI';\n",
       "    color: black;\n",
       "}\n",
       "\n",
       ".enoslib_object ul {\n",
       "    padding: 0;\n",
       "}\n",
       "\n",
       ".enoslib_object input+label {\n",
       "    margin-bottom: 0%;\n",
       "}\n",
       "\n",
       ".object_name {\n",
       "    padding: 6px 0 6px 3px;\n",
       "    border-bottom-width: 1px;\n",
       "    border-bottom-style: solid;\n",
       "    border-bottom-color: #777;\n",
       "    color: #555;\n",
       "}\n",
       "\n",
       ".object_name>div,\n",
       ".object_name>ul {\n",
       "    display: inline;\n",
       "    margin-top: 0;\n",
       "    margin-bottom: 0;\n",
       "}\n",
       "\n",
       "ul.enoslist {\n",
       "    list-style: none !important;\n",
       "    padding: 3px !important;\n",
       "    margin: 0 !important;\n",
       "}\n",
       "\n",
       "input.att+label {\n",
       "    display: inline-block;\n",
       "    /*width: 140px;*/\n",
       "    color: rgb(36, 35, 35);\n",
       "    font-weight: 500;\n",
       "    padding: 4px 0 2px 0;\n",
       "}\n",
       "\n",
       "input.att:enabled+label {\n",
       "    cursor: pointer;\n",
       "    width: auto;\n",
       "}\n",
       "\n",
       "input.att {\n",
       "    display: none;\n",
       "}\n",
       "\n",
       "input.att+label:before {\n",
       "    display: inline-block;\n",
       "    content: '►';\n",
       "    font-size: 11px;\n",
       "    width: 15px;\n",
       "    text-align: center;\n",
       "}\n",
       "\n",
       "input.att:checked+label:before {\n",
       "    content: '▼';\n",
       "}\n",
       "\n",
       "input.att:disabled+label:before {\n",
       "    content: none;\n",
       "}\n",
       "\n",
       "input.att+label>span {\n",
       "    display: inline-block;\n",
       "    margin-left: 4px;\n",
       "}\n",
       "\n",
       "input.att+label>span.len {\n",
       "    font-size: small;\n",
       "}\n",
       "\n",
       "input.att:checked+label>span.len {\n",
       "    display: none;\n",
       "}\n",
       "\n",
       "label+span {\n",
       "    color: rgb(70, 69, 69);\n",
       "}\n",
       "\n",
       "input.att~ul {\n",
       "    display: none;\n",
       "}\n",
       "\n",
       "input.att:checked~ul {\n",
       "    display: block;\n",
       "}\n",
       "\n",
       "table {\n",
       "    width: auto;\n",
       "    border-collapse: collapse;\n",
       "    margin: 2%;\n",
       "}\n",
       "\n",
       "td,\n",
       "th {\n",
       "    padding: 8px;\n",
       "    height: 15px;\n",
       "    font-size: small;\n",
       "}\n",
       "\n",
       "td {\n",
       "    text-align: left !important;\n",
       "    color: rgb(160, 160, 160)\n",
       "}\n",
       "\n",
       "th {\n",
       "    text-align: center;\n",
       "    color: black;\n",
       "}\n",
       "\n",
       "input~ul {\n",
       "    position: relative;\n",
       "    left: 25px;\n",
       "}\n",
       "\n",
       "input.att~table {\n",
       "    display: none;\n",
       "}\n",
       "\n",
       "input.att:checked~table {\n",
       "    display: block;\n",
       "} </style>\n",
       "        <div class=\"enoslib\">\n",
       "        <div class=\"enoslib_object\">\n",
       "            <div class=\"object_name\">\n",
       "                &lt;class &#x27;enoslib.objects.Roles&#x27;&gt;@0x7f22292e9910\n",
       "            </div>\n",
       "            <ul class=\"enoslist\">\n",
       "                \n",
       "                <li>\n",
       "                    <input type=\"checkbox\" id=\"control-c4d48e6f-ca3b-4596-8908-42b0a6b40844\" class=\"att\">\n",
       "                    <label for=\"control-c4d48e6f-ca3b-4596-8908-42b0a6b40844\">control <span class=\"len\">(1)</span></label>\n",
       "                    <ul id=\"control\" class=\"enoslist\">\n",
       "                        \n",
       "                <li>\n",
       "                    <input type=\"checkbox\" id=\"parasilo-13.rennes.grid5000.fr-66911174-f262-45c9-9cce-24c944230322\" class=\"att\">\n",
       "                    <label for=\"parasilo-13.rennes.grid5000.fr-66911174-f262-45c9-9cce-24c944230322\">parasilo-13.rennes.grid5000.fr </label>\n",
       "                    <ul id=\"parasilo-13.rennes.grid5000.fr\" class=\"enoslist\">\n",
       "                        <div class=\"enoslib_object\">\n",
       "            <div class=\"object_name\">\n",
       "                &lt;class &#x27;enoslib.objects.Host&#x27;&gt;@0x7f22288c0190\n",
       "            </div>\n",
       "            <ul class=\"enoslist\">\n",
       "                \n",
       "        <li>\n",
       "        <input type=\"checkbox\" id=\"address-d41835ee-2181-44c8-ba46-fabfff0eb54a\" class=\"att\" disabled=\"\">\n",
       "        <label for=\"address-d41835ee-2181-44c8-ba46-fabfff0eb54a\">\n",
       "            <span>address:&nbsp;</span>\n",
       "        </label>\n",
       "        <span>parasilo-13.rennes.grid5000.fr</span>\n",
       "        </li>\n",
       "        <li>\n",
       "        <input type=\"checkbox\" id=\"alias-5f761afe-5d47-4a99-b314-03893afe0d18\" class=\"att\" disabled=\"\">\n",
       "        <label for=\"alias-5f761afe-5d47-4a99-b314-03893afe0d18\">\n",
       "            <span>alias:&nbsp;</span>\n",
       "        </label>\n",
       "        <span>parasilo-13.rennes.grid5000.fr</span>\n",
       "        </li>\n",
       "        <li>\n",
       "        <input type=\"checkbox\" id=\"user-6c8c60ec-6f79-45be-a21e-aaeda346faba\" class=\"att\" disabled=\"\">\n",
       "        <label for=\"user-6c8c60ec-6f79-45be-a21e-aaeda346faba\">\n",
       "            <span>user:&nbsp;</span>\n",
       "        </label>\n",
       "        <span>root</span>\n",
       "        </li>\n",
       "        <li>\n",
       "        <input type=\"checkbox\" id=\"keyfile-0653586f-7dfb-4d6a-b7db-96b30aec4665\" class=\"att\" disabled=\"\">\n",
       "        <label for=\"keyfile-0653586f-7dfb-4d6a-b7db-96b30aec4665\">\n",
       "            <span>keyfile:&nbsp;</span>\n",
       "        </label>\n",
       "        <span>None</span>\n",
       "        </li>\n",
       "        <li>\n",
       "        <input type=\"checkbox\" id=\"port-c945b601-6841-4f95-b99c-017c4f4993d6\" class=\"att\" disabled=\"\">\n",
       "        <label for=\"port-c945b601-6841-4f95-b99c-017c4f4993d6\">\n",
       "            <span>port:&nbsp;</span>\n",
       "        </label>\n",
       "        <span>None</span>\n",
       "        </li>\n",
       "                <li>\n",
       "                    <input type=\"checkbox\" id=\"extra-42c1bd0a-b38e-4af1-8434-cac8741165f8\" class=\"att\">\n",
       "                    <label for=\"extra-42c1bd0a-b38e-4af1-8434-cac8741165f8\">extra <span class=\"len\">(0)</span></label>\n",
       "                    <ul id=\"extra\" class=\"enoslist\">\n",
       "                        \n",
       "                    </ul>\n",
       "                </li>\n",
       "                \n",
       "                <li>\n",
       "                    <input type=\"checkbox\" id=\"net_devices-ddca93e5-d08b-46b5-86ff-19de7b9656b2\" class=\"att\">\n",
       "                    <label for=\"net_devices-ddca93e5-d08b-46b5-86ff-19de7b9656b2\">net_devices <span class=\"len\">(0)</span></label>\n",
       "                    <ul id=\"net_devices\" class=\"enoslist\">\n",
       "                        \n",
       "                    </ul>\n",
       "                </li>\n",
       "                \n",
       "            </ul>\n",
       "                </div>\n",
       "                    </ul>\n",
       "                </li>\n",
       "                \n",
       "                    </ul>\n",
       "                </li>\n",
       "                \n",
       "                <li>\n",
       "                    <input type=\"checkbox\" id=\"xp-c58ec0ab-d87b-49a1-8898-1e348952511d\" class=\"att\">\n",
       "                    <label for=\"xp-c58ec0ab-d87b-49a1-8898-1e348952511d\">xp <span class=\"len\">(2)</span></label>\n",
       "                    <ul id=\"xp\" class=\"enoslist\">\n",
       "                        \n",
       "                <li>\n",
       "                    <input type=\"checkbox\" id=\"parasilo-13.rennes.grid5000.fr-f6899c3c-fc43-47d7-88f3-c01c7b2c83aa\" class=\"att\">\n",
       "                    <label for=\"parasilo-13.rennes.grid5000.fr-f6899c3c-fc43-47d7-88f3-c01c7b2c83aa\">parasilo-13.rennes.grid5000.fr </label>\n",
       "                    <ul id=\"parasilo-13.rennes.grid5000.fr\" class=\"enoslist\">\n",
       "                        <div class=\"enoslib_object\">\n",
       "            <div class=\"object_name\">\n",
       "                &lt;class &#x27;enoslib.objects.Host&#x27;&gt;@0x7f22288c02b0\n",
       "            </div>\n",
       "            <ul class=\"enoslist\">\n",
       "                \n",
       "        <li>\n",
       "        <input type=\"checkbox\" id=\"address-8901b6b1-f20c-45e8-9a6d-fc91d0950c3f\" class=\"att\" disabled=\"\">\n",
       "        <label for=\"address-8901b6b1-f20c-45e8-9a6d-fc91d0950c3f\">\n",
       "            <span>address:&nbsp;</span>\n",
       "        </label>\n",
       "        <span>parasilo-13.rennes.grid5000.fr</span>\n",
       "        </li>\n",
       "        <li>\n",
       "        <input type=\"checkbox\" id=\"alias-d0d2763e-fc38-4d72-bcab-266c387e8407\" class=\"att\" disabled=\"\">\n",
       "        <label for=\"alias-d0d2763e-fc38-4d72-bcab-266c387e8407\">\n",
       "            <span>alias:&nbsp;</span>\n",
       "        </label>\n",
       "        <span>parasilo-13.rennes.grid5000.fr</span>\n",
       "        </li>\n",
       "        <li>\n",
       "        <input type=\"checkbox\" id=\"user-eb4948bf-ff7c-4f9c-90f0-650295cd6142\" class=\"att\" disabled=\"\">\n",
       "        <label for=\"user-eb4948bf-ff7c-4f9c-90f0-650295cd6142\">\n",
       "            <span>user:&nbsp;</span>\n",
       "        </label>\n",
       "        <span>root</span>\n",
       "        </li>\n",
       "        <li>\n",
       "        <input type=\"checkbox\" id=\"keyfile-1fcdfa34-a50f-401b-a504-25a8fd59b3a6\" class=\"att\" disabled=\"\">\n",
       "        <label for=\"keyfile-1fcdfa34-a50f-401b-a504-25a8fd59b3a6\">\n",
       "            <span>keyfile:&nbsp;</span>\n",
       "        </label>\n",
       "        <span>None</span>\n",
       "        </li>\n",
       "        <li>\n",
       "        <input type=\"checkbox\" id=\"port-9ed16e00-96ca-4bb4-ab09-af9b9f223b67\" class=\"att\" disabled=\"\">\n",
       "        <label for=\"port-9ed16e00-96ca-4bb4-ab09-af9b9f223b67\">\n",
       "            <span>port:&nbsp;</span>\n",
       "        </label>\n",
       "        <span>None</span>\n",
       "        </li>\n",
       "                <li>\n",
       "                    <input type=\"checkbox\" id=\"extra-c3223c01-85fe-4b31-80ed-eb0ff46c1e97\" class=\"att\">\n",
       "                    <label for=\"extra-c3223c01-85fe-4b31-80ed-eb0ff46c1e97\">extra <span class=\"len\">(0)</span></label>\n",
       "                    <ul id=\"extra\" class=\"enoslist\">\n",
       "                        \n",
       "                    </ul>\n",
       "                </li>\n",
       "                \n",
       "                <li>\n",
       "                    <input type=\"checkbox\" id=\"net_devices-61659361-c59a-453b-b30f-11e479dd005b\" class=\"att\">\n",
       "                    <label for=\"net_devices-61659361-c59a-453b-b30f-11e479dd005b\">net_devices <span class=\"len\">(0)</span></label>\n",
       "                    <ul id=\"net_devices\" class=\"enoslist\">\n",
       "                        \n",
       "                    </ul>\n",
       "                </li>\n",
       "                \n",
       "            </ul>\n",
       "                </div>\n",
       "                    </ul>\n",
       "                </li>\n",
       "                \n",
       "                <li>\n",
       "                    <input type=\"checkbox\" id=\"parasilo-17.rennes.grid5000.fr-812395e9-5728-4d4e-8b05-560c6433f499\" class=\"att\">\n",
       "                    <label for=\"parasilo-17.rennes.grid5000.fr-812395e9-5728-4d4e-8b05-560c6433f499\">parasilo-17.rennes.grid5000.fr </label>\n",
       "                    <ul id=\"parasilo-17.rennes.grid5000.fr\" class=\"enoslist\">\n",
       "                        <div class=\"enoslib_object\">\n",
       "            <div class=\"object_name\">\n",
       "                &lt;class &#x27;enoslib.objects.Host&#x27;&gt;@0x7f22288c0310\n",
       "            </div>\n",
       "            <ul class=\"enoslist\">\n",
       "                \n",
       "        <li>\n",
       "        <input type=\"checkbox\" id=\"address-222158ba-4102-4062-ab4e-6e95c084b7a4\" class=\"att\" disabled=\"\">\n",
       "        <label for=\"address-222158ba-4102-4062-ab4e-6e95c084b7a4\">\n",
       "            <span>address:&nbsp;</span>\n",
       "        </label>\n",
       "        <span>parasilo-17.rennes.grid5000.fr</span>\n",
       "        </li>\n",
       "        <li>\n",
       "        <input type=\"checkbox\" id=\"alias-a44b155e-8fa0-4f82-bdbe-5908bc88bfb9\" class=\"att\" disabled=\"\">\n",
       "        <label for=\"alias-a44b155e-8fa0-4f82-bdbe-5908bc88bfb9\">\n",
       "            <span>alias:&nbsp;</span>\n",
       "        </label>\n",
       "        <span>parasilo-17.rennes.grid5000.fr</span>\n",
       "        </li>\n",
       "        <li>\n",
       "        <input type=\"checkbox\" id=\"user-68960383-d37d-4ddf-b6c2-8564ff16aafc\" class=\"att\" disabled=\"\">\n",
       "        <label for=\"user-68960383-d37d-4ddf-b6c2-8564ff16aafc\">\n",
       "            <span>user:&nbsp;</span>\n",
       "        </label>\n",
       "        <span>root</span>\n",
       "        </li>\n",
       "        <li>\n",
       "        <input type=\"checkbox\" id=\"keyfile-f734d8a1-7cc2-4353-a6f4-8289c9457985\" class=\"att\" disabled=\"\">\n",
       "        <label for=\"keyfile-f734d8a1-7cc2-4353-a6f4-8289c9457985\">\n",
       "            <span>keyfile:&nbsp;</span>\n",
       "        </label>\n",
       "        <span>None</span>\n",
       "        </li>\n",
       "        <li>\n",
       "        <input type=\"checkbox\" id=\"port-155538ac-5be6-447a-a535-27bece16d5c4\" class=\"att\" disabled=\"\">\n",
       "        <label for=\"port-155538ac-5be6-447a-a535-27bece16d5c4\">\n",
       "            <span>port:&nbsp;</span>\n",
       "        </label>\n",
       "        <span>None</span>\n",
       "        </li>\n",
       "                <li>\n",
       "                    <input type=\"checkbox\" id=\"extra-7c6856c3-03c4-4ea1-8c31-92710f259b64\" class=\"att\">\n",
       "                    <label for=\"extra-7c6856c3-03c4-4ea1-8c31-92710f259b64\">extra <span class=\"len\">(0)</span></label>\n",
       "                    <ul id=\"extra\" class=\"enoslist\">\n",
       "                        \n",
       "                    </ul>\n",
       "                </li>\n",
       "                \n",
       "                <li>\n",
       "                    <input type=\"checkbox\" id=\"net_devices-d5576405-7362-4327-9480-a980d9ed2c7f\" class=\"att\">\n",
       "                    <label for=\"net_devices-d5576405-7362-4327-9480-a980d9ed2c7f\">net_devices <span class=\"len\">(0)</span></label>\n",
       "                    <ul id=\"net_devices\" class=\"enoslist\">\n",
       "                        \n",
       "                    </ul>\n",
       "                </li>\n",
       "                \n",
       "            </ul>\n",
       "                </div>\n",
       "                    </ul>\n",
       "                </li>\n",
       "                \n",
       "                    </ul>\n",
       "                </li>\n",
       "                \n",
       "                <li>\n",
       "                    <input type=\"checkbox\" id=\"agent-30da82bc-e6f1-4ecc-b10a-2690a4c16e75\" class=\"att\">\n",
       "                    <label for=\"agent-30da82bc-e6f1-4ecc-b10a-2690a4c16e75\">agent <span class=\"len\">(1)</span></label>\n",
       "                    <ul id=\"agent\" class=\"enoslist\">\n",
       "                        \n",
       "                <li>\n",
       "                    <input type=\"checkbox\" id=\"parasilo-17.rennes.grid5000.fr-dd743aa9-eed0-47ea-acdb-90a96345441e\" class=\"att\">\n",
       "                    <label for=\"parasilo-17.rennes.grid5000.fr-dd743aa9-eed0-47ea-acdb-90a96345441e\">parasilo-17.rennes.grid5000.fr </label>\n",
       "                    <ul id=\"parasilo-17.rennes.grid5000.fr\" class=\"enoslist\">\n",
       "                        <div class=\"enoslib_object\">\n",
       "            <div class=\"object_name\">\n",
       "                &lt;class &#x27;enoslib.objects.Host&#x27;&gt;@0x7f22288c02e0\n",
       "            </div>\n",
       "            <ul class=\"enoslist\">\n",
       "                \n",
       "        <li>\n",
       "        <input type=\"checkbox\" id=\"address-d1d7b40c-40a3-4b6c-8f70-c9d3db7f8e25\" class=\"att\" disabled=\"\">\n",
       "        <label for=\"address-d1d7b40c-40a3-4b6c-8f70-c9d3db7f8e25\">\n",
       "            <span>address:&nbsp;</span>\n",
       "        </label>\n",
       "        <span>parasilo-17.rennes.grid5000.fr</span>\n",
       "        </li>\n",
       "        <li>\n",
       "        <input type=\"checkbox\" id=\"alias-178450d6-c07e-4079-a8fe-4a17da1a9c49\" class=\"att\" disabled=\"\">\n",
       "        <label for=\"alias-178450d6-c07e-4079-a8fe-4a17da1a9c49\">\n",
       "            <span>alias:&nbsp;</span>\n",
       "        </label>\n",
       "        <span>parasilo-17.rennes.grid5000.fr</span>\n",
       "        </li>\n",
       "        <li>\n",
       "        <input type=\"checkbox\" id=\"user-617f72c5-f262-4808-bb7b-fa2c157486c4\" class=\"att\" disabled=\"\">\n",
       "        <label for=\"user-617f72c5-f262-4808-bb7b-fa2c157486c4\">\n",
       "            <span>user:&nbsp;</span>\n",
       "        </label>\n",
       "        <span>root</span>\n",
       "        </li>\n",
       "        <li>\n",
       "        <input type=\"checkbox\" id=\"keyfile-979d8a67-e5c7-4199-ae49-d419914d3afa\" class=\"att\" disabled=\"\">\n",
       "        <label for=\"keyfile-979d8a67-e5c7-4199-ae49-d419914d3afa\">\n",
       "            <span>keyfile:&nbsp;</span>\n",
       "        </label>\n",
       "        <span>None</span>\n",
       "        </li>\n",
       "        <li>\n",
       "        <input type=\"checkbox\" id=\"port-0fee6360-2d42-4b57-984f-3b4b66f07cdd\" class=\"att\" disabled=\"\">\n",
       "        <label for=\"port-0fee6360-2d42-4b57-984f-3b4b66f07cdd\">\n",
       "            <span>port:&nbsp;</span>\n",
       "        </label>\n",
       "        <span>None</span>\n",
       "        </li>\n",
       "                <li>\n",
       "                    <input type=\"checkbox\" id=\"extra-3ceeafe3-3150-4c2a-9fc2-7e474a86471a\" class=\"att\">\n",
       "                    <label for=\"extra-3ceeafe3-3150-4c2a-9fc2-7e474a86471a\">extra <span class=\"len\">(0)</span></label>\n",
       "                    <ul id=\"extra\" class=\"enoslist\">\n",
       "                        \n",
       "                    </ul>\n",
       "                </li>\n",
       "                \n",
       "                <li>\n",
       "                    <input type=\"checkbox\" id=\"net_devices-4e7ef2f6-60fc-44ac-8e3b-e551b36d8f91\" class=\"att\">\n",
       "                    <label for=\"net_devices-4e7ef2f6-60fc-44ac-8e3b-e551b36d8f91\">net_devices <span class=\"len\">(0)</span></label>\n",
       "                    <ul id=\"net_devices\" class=\"enoslist\">\n",
       "                        \n",
       "                    </ul>\n",
       "                </li>\n",
       "                \n",
       "            </ul>\n",
       "                </div>\n",
       "                    </ul>\n",
       "                </li>\n",
       "                \n",
       "                    </ul>\n",
       "                </li>\n",
       "                \n",
       "            </ul>\n",
       "                </div>\n",
       "        </div>\n",
       "    "
      ],
      "text/plain": [
       "{'control': [Host(address='parasilo-13.rennes.grid5000.fr', alias='parasilo-13.rennes.grid5000.fr', user='root', keyfile=None, port=None, extra={}, net_devices=set())], 'xp': [Host(address='parasilo-13.rennes.grid5000.fr', alias='parasilo-13.rennes.grid5000.fr', user='root', keyfile=None, port=None, extra={}, net_devices=set()), Host(address='parasilo-17.rennes.grid5000.fr', alias='parasilo-17.rennes.grid5000.fr', user='root', keyfile=None, port=None, extra={}, net_devices=set())], 'agent': [Host(address='parasilo-17.rennes.grid5000.fr', alias='parasilo-17.rennes.grid5000.fr', user='root', keyfile=None, port=None, extra={}, net_devices=set())]}"
      ]
     },
     "execution_count": 3,
     "metadata": {},
     "output_type": "execute_result"
    }
   ],
   "source": [
    "provider = en.G5k(conf)\n",
    "roles, networks = provider.init()\n",
    "roles"
   ]
  },
  {
   "cell_type": "markdown",
   "id": "final-light",
   "metadata": {},
   "source": [
    "### A simple load generator\n",
    "\n",
    "We'll install a simple load generator: `stress` available in the debian packages."
   ]
  },
  {
   "cell_type": "code",
   "execution_count": 4,
   "id": "marked-sport",
   "metadata": {},
   "outputs": [
    {
     "name": "stderr",
     "output_type": "stream",
     "text": [
      "\u001b[1;35m[WARNING]: No inventory was parsed, only implicit localhost is available\u001b[0m\n"
     ]
    },
    {
     "data": {
      "application/vnd.jupyter.widget-view+json": {
       "model_id": "",
       "version_major": 2,
       "version_minor": 0
      },
      "text/plain": [
       "Output()"
      ]
     },
     "metadata": {},
     "output_type": "display_data"
    },
    {
     "data": {
      "text/html": [
       "<pre style=\"white-space:pre;overflow-x:auto;line-height:normal;font-family:Menlo,'DejaVu Sans Mono',consolas,'Courier New',monospace\"></pre>\n"
      ],
      "text/plain": []
     },
     "metadata": {},
     "output_type": "display_data"
    },
    {
     "data": {
      "text/html": [
       "<pre style=\"white-space:pre;overflow-x:auto;line-height:normal;font-family:Menlo,'DejaVu Sans Mono',consolas,'Courier New',monospace\"><span style=\"color: #000080; text-decoration-color: #000080; font-weight: bold\">Finished </span><span style=\"color: #000080; text-decoration-color: #000080; font-weight: bold\">1</span><span style=\"color: #000080; text-decoration-color: #000080; font-weight: bold\"> tasks</span> <span style=\"font-weight: bold; font-style: italic\">(</span><span style=\"font-style: italic\">apt</span><span style=\"font-weight: bold; font-style: italic\">)</span>\n",
       "</pre>\n"
      ],
      "text/plain": [
       "\u001b[1;34mFinished \u001b[0m\u001b[1;34m1\u001b[0m\u001b[1;34m tasks\u001b[0m \u001b[1;3m(\u001b[0m\u001b[3mapt\u001b[0m\u001b[1;3m)\u001b[0m\n"
      ]
     },
     "metadata": {},
     "output_type": "display_data"
    },
    {
     "data": {
      "text/html": [
       "<pre style=\"white-space:pre;overflow-x:auto;line-height:normal;font-family:Menlo,'DejaVu Sans Mono',consolas,'Courier New',monospace\"><span style=\"color: #00ff00; text-decoration-color: #00ff00\">─────────────────────────────────────────────────────────────────────────────────────────────</span>\n",
       "</pre>\n"
      ],
      "text/plain": [
       "\u001b[92m─────────────────────────────────────────────────────────────────────────────────────────────\u001b[0m\n"
      ]
     },
     "metadata": {},
     "output_type": "display_data"
    }
   ],
   "source": [
    "with en.actions(roles=roles[\"agent\"]) as a:\n",
    "    a.apt(name=\"stress\", state=\"present\")"
   ]
  },
  {
   "cell_type": "markdown",
   "id": "satellite-burlington",
   "metadata": {
    "tags": []
   },
   "source": [
    "## Monitoring with dstat\n",
    "\n",
    "Dstat is a simple monitoring tool: https://github.com/dstat-real/dstat#information\n",
    "It runs as a single process and collect metrics from various sources. \n",
    "That makes it a good candidate for getting a quick insight on the resources consumptions during an experiment.\n",
    "\n",
    "\n",
    "The EnOSlib implementation lets you easily \n",
    "- start Dstat processes on remote machine and start dumping the metrics into a csv file( it's the purpose `deploy` method of the Dstat service)\n",
    "- retrieve all the csvs file (one per remote node) on your local machine ( that's the purpose of the `backup` method)\n",
    "- stop every remote Dstat processes (that's the purpose of the `destroy` method)"
   ]
  },
  {
   "cell_type": "markdown",
   "id": "auburn-torture",
   "metadata": {},
   "source": [
    "### Capture\n",
    "\n",
    "Let's start with a single capture implemented using a context manager.\n",
    "The context manager runs `deploy` when entering, and `backup/destroy` when exiting."
   ]
  },
  {
   "cell_type": "code",
   "execution_count": 5,
   "id": "excellent-saudi",
   "metadata": {},
   "outputs": [
    {
     "data": {
      "application/vnd.jupyter.widget-view+json": {
       "model_id": "",
       "version_major": 2,
       "version_minor": 0
      },
      "text/plain": [
       "Output()"
      ]
     },
     "metadata": {},
     "output_type": "display_data"
    },
    {
     "data": {
      "text/html": [
       "<pre style=\"white-space:pre;overflow-x:auto;line-height:normal;font-family:Menlo,'DejaVu Sans Mono',consolas,'Courier New',monospace\"></pre>\n"
      ],
      "text/plain": []
     },
     "metadata": {},
     "output_type": "display_data"
    },
    {
     "data": {
      "text/html": [
       "<pre style=\"white-space:pre;overflow-x:auto;line-height:normal;font-family:Menlo,'DejaVu Sans Mono',consolas,'Courier New',monospace\"><span style=\"color: #000080; text-decoration-color: #000080; font-weight: bold\">Finished </span><span style=\"color: #000080; text-decoration-color: #000080; font-weight: bold\">1</span><span style=\"color: #000080; text-decoration-color: #000080; font-weight: bold\"> tasks</span> <span style=\"font-weight: bold; font-style: italic\">((</span><span style=\"font-style: italic\">tmux list-panes -t __enoslib_dstat__ -F </span><span style=\"color: #008000; text-decoration-color: #008000; font-style: italic\">'#{pane_pid}'</span><span style=\"font-style: italic\"> | xargs -n1 kill </span><span style=\"color: #008080; text-decoration-color: #008080; font-weight: bold; font-style: italic\">-2</span><span style=\"font-weight: bold; font-style: italic\">)</span>\n",
       "<span style=\"font-style: italic\">|| true</span><span style=\"font-weight: bold; font-style: italic\">)</span>\n",
       "</pre>\n"
      ],
      "text/plain": [
       "\u001b[1;34mFinished \u001b[0m\u001b[1;34m1\u001b[0m\u001b[1;34m tasks\u001b[0m \u001b[1;3m(\u001b[0m\u001b[1;3m(\u001b[0m\u001b[3mtmux list-panes -t __enoslib_dstat__ -F \u001b[0m\u001b[3;32m'#\u001b[0m\u001b[3;32m{\u001b[0m\u001b[3;32mpane_pid\u001b[0m\u001b[3;32m}\u001b[0m\u001b[3;32m'\u001b[0m\u001b[3m | xargs -n1 kill \u001b[0m\u001b[1;3;36m-2\u001b[0m\u001b[1;3m)\u001b[0m\n",
       "\u001b[3m|| true\u001b[0m\u001b[1;3m)\u001b[0m\n"
      ]
     },
     "metadata": {},
     "output_type": "display_data"
    },
    {
     "data": {
      "text/html": [
       "<pre style=\"white-space:pre;overflow-x:auto;line-height:normal;font-family:Menlo,'DejaVu Sans Mono',consolas,'Courier New',monospace\"><span style=\"color: #00ff00; text-decoration-color: #00ff00\">─────────────────────────────────────────────────────────────────────────────────────────────</span>\n",
       "</pre>\n"
      ],
      "text/plain": [
       "\u001b[92m─────────────────────────────────────────────────────────────────────────────────────────────\u001b[0m\n"
      ]
     },
     "metadata": {},
     "output_type": "display_data"
    },
    {
     "data": {
      "application/vnd.jupyter.widget-view+json": {
       "model_id": "",
       "version_major": 2,
       "version_minor": 0
      },
      "text/plain": [
       "Output()"
      ]
     },
     "metadata": {},
     "output_type": "display_data"
    },
    {
     "data": {
      "text/html": [
       "<pre style=\"white-space:pre;overflow-x:auto;line-height:normal;font-family:Menlo,'DejaVu Sans Mono',consolas,'Courier New',monospace\"></pre>\n"
      ],
      "text/plain": []
     },
     "metadata": {},
     "output_type": "display_data"
    },
    {
     "data": {
      "text/html": [
       "<pre style=\"white-space:pre;overflow-x:auto;line-height:normal;font-family:Menlo,'DejaVu Sans Mono',consolas,'Courier New',monospace\"><span style=\"color: #000080; text-decoration-color: #000080; font-weight: bold\">Finished </span><span style=\"color: #000080; text-decoration-color: #000080; font-weight: bold\">4</span><span style=\"color: #000080; text-decoration-color: #000080; font-weight: bold\"> tasks</span> <span style=\"font-weight: bold; font-style: italic\">(</span><span style=\"font-style: italic\">apt,file,get_url,Running dstat with the options -aT -o </span>\n",
       "<span style=\"color: #008080; text-decoration-color: #008080; font-weight: bold; font-style: italic\">1642512113050267851</span><span style=\"font-style: italic\">-dstat.csv</span><span style=\"font-weight: bold; font-style: italic\">)</span>\n",
       "</pre>\n"
      ],
      "text/plain": [
       "\u001b[1;34mFinished \u001b[0m\u001b[1;34m4\u001b[0m\u001b[1;34m tasks\u001b[0m \u001b[1;3m(\u001b[0m\u001b[3mapt,file,get_url,Running dstat with the options -aT -o \u001b[0m\n",
       "\u001b[1;3;36m1642512113050267851\u001b[0m\u001b[3m-dstat.csv\u001b[0m\u001b[1;3m)\u001b[0m\n"
      ]
     },
     "metadata": {},
     "output_type": "display_data"
    },
    {
     "data": {
      "text/html": [
       "<pre style=\"white-space:pre;overflow-x:auto;line-height:normal;font-family:Menlo,'DejaVu Sans Mono',consolas,'Courier New',monospace\"><span style=\"color: #00ff00; text-decoration-color: #00ff00\">─────────────────────────────────────────────────────────────────────────────────────────────</span>\n",
       "</pre>\n"
      ],
      "text/plain": [
       "\u001b[92m─────────────────────────────────────────────────────────────────────────────────────────────\u001b[0m\n"
      ]
     },
     "metadata": {},
     "output_type": "display_data"
    },
    {
     "data": {
      "application/vnd.jupyter.widget-view+json": {
       "model_id": "",
       "version_major": 2,
       "version_minor": 0
      },
      "text/plain": [
       "Output()"
      ]
     },
     "metadata": {},
     "output_type": "display_data"
    },
    {
     "data": {
      "text/html": [
       "<pre style=\"white-space:pre;overflow-x:auto;line-height:normal;font-family:Menlo,'DejaVu Sans Mono',consolas,'Courier New',monospace\"></pre>\n"
      ],
      "text/plain": []
     },
     "metadata": {},
     "output_type": "display_data"
    },
    {
     "data": {
      "text/html": [
       "<pre style=\"white-space:pre;overflow-x:auto;line-height:normal;font-family:Menlo,'DejaVu Sans Mono',consolas,'Courier New',monospace\"><span style=\"color: #000080; text-decoration-color: #000080; font-weight: bold\">Finished </span><span style=\"color: #000080; text-decoration-color: #000080; font-weight: bold\">1</span><span style=\"color: #000080; text-decoration-color: #000080; font-weight: bold\"> tasks</span> <span style=\"font-weight: bold; font-style: italic\">(</span><span style=\"font-style: italic\">stress --cpu </span><span style=\"color: #008080; text-decoration-color: #008080; font-weight: bold; font-style: italic\">4</span><span style=\"font-style: italic\"> --timeout </span><span style=\"color: #008080; text-decoration-color: #008080; font-weight: bold; font-style: italic\">10</span><span style=\"font-weight: bold; font-style: italic\">)</span>\n",
       "</pre>\n"
      ],
      "text/plain": [
       "\u001b[1;34mFinished \u001b[0m\u001b[1;34m1\u001b[0m\u001b[1;34m tasks\u001b[0m \u001b[1;3m(\u001b[0m\u001b[3mstress --cpu \u001b[0m\u001b[1;3;36m4\u001b[0m\u001b[3m --timeout \u001b[0m\u001b[1;3;36m10\u001b[0m\u001b[1;3m)\u001b[0m\n"
      ]
     },
     "metadata": {},
     "output_type": "display_data"
    },
    {
     "data": {
      "text/html": [
       "<pre style=\"white-space:pre;overflow-x:auto;line-height:normal;font-family:Menlo,'DejaVu Sans Mono',consolas,'Courier New',monospace\"><span style=\"color: #00ff00; text-decoration-color: #00ff00\">─────────────────────────────────────────────────────────────────────────────────────────────</span>\n",
       "</pre>\n"
      ],
      "text/plain": [
       "\u001b[92m─────────────────────────────────────────────────────────────────────────────────────────────\u001b[0m\n"
      ]
     },
     "metadata": {},
     "output_type": "display_data"
    },
    {
     "data": {
      "application/vnd.jupyter.widget-view+json": {
       "model_id": "",
       "version_major": 2,
       "version_minor": 0
      },
      "text/plain": [
       "Output()"
      ]
     },
     "metadata": {},
     "output_type": "display_data"
    },
    {
     "data": {
      "text/html": [
       "<pre style=\"white-space:pre;overflow-x:auto;line-height:normal;font-family:Menlo,'DejaVu Sans Mono',consolas,'Courier New',monospace\"></pre>\n"
      ],
      "text/plain": []
     },
     "metadata": {},
     "output_type": "display_data"
    },
    {
     "data": {
      "text/html": [
       "<pre style=\"white-space:pre;overflow-x:auto;line-height:normal;font-family:Menlo,'DejaVu Sans Mono',consolas,'Courier New',monospace\"><span style=\"color: #000080; text-decoration-color: #000080; font-weight: bold\">Finished </span><span style=\"color: #000080; text-decoration-color: #000080; font-weight: bold\">1</span><span style=\"color: #000080; text-decoration-color: #000080; font-weight: bold\"> tasks</span> <span style=\"font-weight: bold; font-style: italic\">((</span><span style=\"font-style: italic\">tmux list-panes -t __enoslib_dstat__ -F </span><span style=\"color: #008000; text-decoration-color: #008000; font-style: italic\">'#{pane_pid}'</span><span style=\"font-style: italic\"> | xargs -n1 kill </span><span style=\"color: #008080; text-decoration-color: #008080; font-weight: bold; font-style: italic\">-2</span><span style=\"font-weight: bold; font-style: italic\">)</span>\n",
       "<span style=\"font-style: italic\">|| true</span><span style=\"font-weight: bold; font-style: italic\">)</span>\n",
       "</pre>\n"
      ],
      "text/plain": [
       "\u001b[1;34mFinished \u001b[0m\u001b[1;34m1\u001b[0m\u001b[1;34m tasks\u001b[0m \u001b[1;3m(\u001b[0m\u001b[1;3m(\u001b[0m\u001b[3mtmux list-panes -t __enoslib_dstat__ -F \u001b[0m\u001b[3;32m'#\u001b[0m\u001b[3;32m{\u001b[0m\u001b[3;32mpane_pid\u001b[0m\u001b[3;32m}\u001b[0m\u001b[3;32m'\u001b[0m\u001b[3m | xargs -n1 kill \u001b[0m\u001b[1;3;36m-2\u001b[0m\u001b[1;3m)\u001b[0m\n",
       "\u001b[3m|| true\u001b[0m\u001b[1;3m)\u001b[0m\n"
      ]
     },
     "metadata": {},
     "output_type": "display_data"
    },
    {
     "data": {
      "text/html": [
       "<pre style=\"white-space:pre;overflow-x:auto;line-height:normal;font-family:Menlo,'DejaVu Sans Mono',consolas,'Courier New',monospace\"><span style=\"color: #00ff00; text-decoration-color: #00ff00\">─────────────────────────────────────────────────────────────────────────────────────────────</span>\n",
       "</pre>\n"
      ],
      "text/plain": [
       "\u001b[92m─────────────────────────────────────────────────────────────────────────────────────────────\u001b[0m\n"
      ]
     },
     "metadata": {},
     "output_type": "display_data"
    },
    {
     "data": {
      "application/vnd.jupyter.widget-view+json": {
       "model_id": "",
       "version_major": 2,
       "version_minor": 0
      },
      "text/plain": [
       "Output()"
      ]
     },
     "metadata": {},
     "output_type": "display_data"
    },
    {
     "data": {
      "text/html": [
       "<pre style=\"white-space:pre;overflow-x:auto;line-height:normal;font-family:Menlo,'DejaVu Sans Mono',consolas,'Courier New',monospace\"></pre>\n"
      ],
      "text/plain": []
     },
     "metadata": {},
     "output_type": "display_data"
    },
    {
     "data": {
      "text/html": [
       "<pre style=\"white-space:pre;overflow-x:auto;line-height:normal;font-family:Menlo,'DejaVu Sans Mono',consolas,'Courier New',monospace\"><span style=\"color: #000080; text-decoration-color: #000080; font-weight: bold\">Finished </span><span style=\"color: #000080; text-decoration-color: #000080; font-weight: bold\">1</span><span style=\"color: #000080; text-decoration-color: #000080; font-weight: bold\"> tasks</span> <span style=\"font-weight: bold; font-style: italic\">(</span><span style=\"font-style: italic\">Fetching the dstat output</span><span style=\"font-weight: bold; font-style: italic\">)</span>\n",
       "</pre>\n"
      ],
      "text/plain": [
       "\u001b[1;34mFinished \u001b[0m\u001b[1;34m1\u001b[0m\u001b[1;34m tasks\u001b[0m \u001b[1;3m(\u001b[0m\u001b[3mFetching the dstat output\u001b[0m\u001b[1;3m)\u001b[0m\n"
      ]
     },
     "metadata": {},
     "output_type": "display_data"
    },
    {
     "data": {
      "text/html": [
       "<pre style=\"white-space:pre;overflow-x:auto;line-height:normal;font-family:Menlo,'DejaVu Sans Mono',consolas,'Courier New',monospace\"><span style=\"color: #00ff00; text-decoration-color: #00ff00\">─────────────────────────────────────────────────────────────────────────────────────────────</span>\n",
       "</pre>\n"
      ],
      "text/plain": [
       "\u001b[92m─────────────────────────────────────────────────────────────────────────────────────────────\u001b[0m\n"
      ]
     },
     "metadata": {},
     "output_type": "display_data"
    }
   ],
   "source": [
    "# Start a capture on all nodes\n",
    "# - stress on some nodes\n",
    "import time\n",
    "with en.Dstat(nodes=roles[\"xp\"]) as d:\n",
    "    time.sleep(5)\n",
    "    en.run_command(\"stress --cpu 4 --timeout 10\", roles=roles[\"agent\"])\n",
    "    time.sleep(5)\n",
    "    backup_dir = d.backup_dir"
   ]
  },
  {
   "cell_type": "markdown",
   "id": "announced-basis",
   "metadata": {},
   "source": [
    "### Visualization\n",
    "\n",
    "All the CSVs files are available under the `backup_dir` inside subdirectories named after the corresponding remote host alias:\n",
    "```bash\n",
    "<backup_sir> / host1 / ... / <metrics>.csv\n",
    "             / host2 / ..../ <metrics>.csv\n",
    "```\n",
    "The following bunch of python lines will recursively look for any csv file inside these directories and build a DataFrame and a visualization"
   ]
  },
  {
   "cell_type": "code",
   "execution_count": 6,
   "id": "adopted-vocabulary",
   "metadata": {},
   "outputs": [
    {
     "name": "stdout",
     "output_type": "stream",
     "text": [
      "/home/msimonin/workspace/repos/enoslib/docs/jupyter/__enoslib_dstat__/1642512113050267851\n",
      "/home/msimonin/workspace/repos/enoslib/docs/jupyter/__enoslib_dstat__/1642512113050267851/parasilo-13.rennes.grid5000.fr/tmp/__enoslib_dstat__/1642512113050267851/1642512113050267851-dstat.csv\n",
      "/home/msimonin/workspace/repos/enoslib/docs/jupyter/__enoslib_dstat__/1642512113050267851/parasilo-17.rennes.grid5000.fr/tmp/__enoslib_dstat__/1642512113050267851/1642512113050267851-dstat.csv\n"
     ]
    },
    {
     "data": {
      "text/html": [
       "<div>\n",
       "<style scoped>\n",
       "    .dataframe tbody tr th:only-of-type {\n",
       "        vertical-align: middle;\n",
       "    }\n",
       "\n",
       "    .dataframe tbody tr th {\n",
       "        vertical-align: top;\n",
       "    }\n",
       "\n",
       "    .dataframe thead th {\n",
       "        text-align: right;\n",
       "    }\n",
       "</style>\n",
       "<table border=\"1\" class=\"dataframe\">\n",
       "  <thead>\n",
       "    <tr style=\"text-align: right;\">\n",
       "      <th></th>\n",
       "      <th>usr</th>\n",
       "      <th>sys</th>\n",
       "      <th>idl</th>\n",
       "      <th>wai</th>\n",
       "      <th>stl</th>\n",
       "      <th>read</th>\n",
       "      <th>writ</th>\n",
       "      <th>recv</th>\n",
       "      <th>send</th>\n",
       "      <th>in</th>\n",
       "      <th>...</th>\n",
       "      <th>csw</th>\n",
       "      <th>run</th>\n",
       "      <th>blk</th>\n",
       "      <th>new</th>\n",
       "      <th>1m</th>\n",
       "      <th>5m</th>\n",
       "      <th>15m</th>\n",
       "      <th>epoch</th>\n",
       "      <th>host</th>\n",
       "      <th>csv</th>\n",
       "    </tr>\n",
       "  </thead>\n",
       "  <tbody>\n",
       "    <tr>\n",
       "      <th>0</th>\n",
       "      <td>0.316</td>\n",
       "      <td>0.251</td>\n",
       "      <td>98.416</td>\n",
       "      <td>1.017</td>\n",
       "      <td>0</td>\n",
       "      <td>1424937.694</td>\n",
       "      <td>3166853.564</td>\n",
       "      <td>0</td>\n",
       "      <td>0</td>\n",
       "      <td>0</td>\n",
       "      <td>...</td>\n",
       "      <td>1611.565</td>\n",
       "      <td>0</td>\n",
       "      <td>0</td>\n",
       "      <td>37.310</td>\n",
       "      <td>0.47</td>\n",
       "      <td>0.81</td>\n",
       "      <td>0.49</td>\n",
       "      <td>1.642512e+09</td>\n",
       "      <td>parasilo-13.rennes.grid5000.fr</td>\n",
       "      <td>/home/msimonin/workspace/repos/enoslib/docs/ju...</td>\n",
       "    </tr>\n",
       "    <tr>\n",
       "      <th>1</th>\n",
       "      <td>0.000</td>\n",
       "      <td>0.000</td>\n",
       "      <td>99.813</td>\n",
       "      <td>0.187</td>\n",
       "      <td>0</td>\n",
       "      <td>0.000</td>\n",
       "      <td>2097152.000</td>\n",
       "      <td>1074</td>\n",
       "      <td>1164</td>\n",
       "      <td>0</td>\n",
       "      <td>...</td>\n",
       "      <td>149.000</td>\n",
       "      <td>0</td>\n",
       "      <td>0</td>\n",
       "      <td>3.000</td>\n",
       "      <td>0.47</td>\n",
       "      <td>0.81</td>\n",
       "      <td>0.49</td>\n",
       "      <td>1.642512e+09</td>\n",
       "      <td>parasilo-13.rennes.grid5000.fr</td>\n",
       "      <td>/home/msimonin/workspace/repos/enoslib/docs/ju...</td>\n",
       "    </tr>\n",
       "    <tr>\n",
       "      <th>2</th>\n",
       "      <td>0.000</td>\n",
       "      <td>0.000</td>\n",
       "      <td>99.906</td>\n",
       "      <td>0.094</td>\n",
       "      <td>0</td>\n",
       "      <td>0.000</td>\n",
       "      <td>2248704.000</td>\n",
       "      <td>0</td>\n",
       "      <td>0</td>\n",
       "      <td>0</td>\n",
       "      <td>...</td>\n",
       "      <td>178.000</td>\n",
       "      <td>0</td>\n",
       "      <td>0</td>\n",
       "      <td>0.000</td>\n",
       "      <td>0.47</td>\n",
       "      <td>0.81</td>\n",
       "      <td>0.49</td>\n",
       "      <td>1.642512e+09</td>\n",
       "      <td>parasilo-13.rennes.grid5000.fr</td>\n",
       "      <td>/home/msimonin/workspace/repos/enoslib/docs/ju...</td>\n",
       "    </tr>\n",
       "    <tr>\n",
       "      <th>3</th>\n",
       "      <td>0.000</td>\n",
       "      <td>0.031</td>\n",
       "      <td>99.812</td>\n",
       "      <td>0.156</td>\n",
       "      <td>0</td>\n",
       "      <td>0.000</td>\n",
       "      <td>2097152.000</td>\n",
       "      <td>472</td>\n",
       "      <td>0</td>\n",
       "      <td>0</td>\n",
       "      <td>...</td>\n",
       "      <td>119.000</td>\n",
       "      <td>0</td>\n",
       "      <td>0</td>\n",
       "      <td>0.000</td>\n",
       "      <td>0.47</td>\n",
       "      <td>0.81</td>\n",
       "      <td>0.49</td>\n",
       "      <td>1.642512e+09</td>\n",
       "      <td>parasilo-13.rennes.grid5000.fr</td>\n",
       "      <td>/home/msimonin/workspace/repos/enoslib/docs/ju...</td>\n",
       "    </tr>\n",
       "    <tr>\n",
       "      <th>4</th>\n",
       "      <td>0.031</td>\n",
       "      <td>0.000</td>\n",
       "      <td>99.719</td>\n",
       "      <td>0.250</td>\n",
       "      <td>0</td>\n",
       "      <td>0.000</td>\n",
       "      <td>4259840.000</td>\n",
       "      <td>166</td>\n",
       "      <td>180</td>\n",
       "      <td>0</td>\n",
       "      <td>...</td>\n",
       "      <td>403.000</td>\n",
       "      <td>0</td>\n",
       "      <td>0</td>\n",
       "      <td>0.000</td>\n",
       "      <td>0.47</td>\n",
       "      <td>0.81</td>\n",
       "      <td>0.49</td>\n",
       "      <td>1.642512e+09</td>\n",
       "      <td>parasilo-13.rennes.grid5000.fr</td>\n",
       "      <td>/home/msimonin/workspace/repos/enoslib/docs/ju...</td>\n",
       "    </tr>\n",
       "    <tr>\n",
       "      <th>5</th>\n",
       "      <td>0.000</td>\n",
       "      <td>0.000</td>\n",
       "      <td>99.938</td>\n",
       "      <td>0.062</td>\n",
       "      <td>0</td>\n",
       "      <td>0.000</td>\n",
       "      <td>2097152.000</td>\n",
       "      <td>272</td>\n",
       "      <td>0</td>\n",
       "      <td>0</td>\n",
       "      <td>...</td>\n",
       "      <td>173.000</td>\n",
       "      <td>0</td>\n",
       "      <td>0</td>\n",
       "      <td>0.000</td>\n",
       "      <td>0.43</td>\n",
       "      <td>0.80</td>\n",
       "      <td>0.48</td>\n",
       "      <td>1.642512e+09</td>\n",
       "      <td>parasilo-13.rennes.grid5000.fr</td>\n",
       "      <td>/home/msimonin/workspace/repos/enoslib/docs/ju...</td>\n",
       "    </tr>\n",
       "    <tr>\n",
       "      <th>6</th>\n",
       "      <td>0.000</td>\n",
       "      <td>0.000</td>\n",
       "      <td>99.938</td>\n",
       "      <td>0.062</td>\n",
       "      <td>0</td>\n",
       "      <td>0.000</td>\n",
       "      <td>2097152.000</td>\n",
       "      <td>0</td>\n",
       "      <td>0</td>\n",
       "      <td>0</td>\n",
       "      <td>...</td>\n",
       "      <td>137.000</td>\n",
       "      <td>0</td>\n",
       "      <td>0</td>\n",
       "      <td>0.000</td>\n",
       "      <td>0.43</td>\n",
       "      <td>0.80</td>\n",
       "      <td>0.48</td>\n",
       "      <td>1.642512e+09</td>\n",
       "      <td>parasilo-13.rennes.grid5000.fr</td>\n",
       "      <td>/home/msimonin/workspace/repos/enoslib/docs/ju...</td>\n",
       "    </tr>\n",
       "    <tr>\n",
       "      <th>7</th>\n",
       "      <td>0.062</td>\n",
       "      <td>0.031</td>\n",
       "      <td>99.875</td>\n",
       "      <td>0.031</td>\n",
       "      <td>0</td>\n",
       "      <td>0.000</td>\n",
       "      <td>2097152.000</td>\n",
       "      <td>612</td>\n",
       "      <td>0</td>\n",
       "      <td>0</td>\n",
       "      <td>...</td>\n",
       "      <td>1029.000</td>\n",
       "      <td>0</td>\n",
       "      <td>0</td>\n",
       "      <td>0.000</td>\n",
       "      <td>0.43</td>\n",
       "      <td>0.80</td>\n",
       "      <td>0.48</td>\n",
       "      <td>1.642512e+09</td>\n",
       "      <td>parasilo-13.rennes.grid5000.fr</td>\n",
       "      <td>/home/msimonin/workspace/repos/enoslib/docs/ju...</td>\n",
       "    </tr>\n",
       "    <tr>\n",
       "      <th>8</th>\n",
       "      <td>0.000</td>\n",
       "      <td>0.000</td>\n",
       "      <td>99.906</td>\n",
       "      <td>0.094</td>\n",
       "      <td>0</td>\n",
       "      <td>0.000</td>\n",
       "      <td>2109440.000</td>\n",
       "      <td>166</td>\n",
       "      <td>180</td>\n",
       "      <td>0</td>\n",
       "      <td>...</td>\n",
       "      <td>92.000</td>\n",
       "      <td>0</td>\n",
       "      <td>0</td>\n",
       "      <td>0.000</td>\n",
       "      <td>0.43</td>\n",
       "      <td>0.80</td>\n",
       "      <td>0.48</td>\n",
       "      <td>1.642512e+09</td>\n",
       "      <td>parasilo-13.rennes.grid5000.fr</td>\n",
       "      <td>/home/msimonin/workspace/repos/enoslib/docs/ju...</td>\n",
       "    </tr>\n",
       "    <tr>\n",
       "      <th>9</th>\n",
       "      <td>0.346</td>\n",
       "      <td>0.220</td>\n",
       "      <td>99.214</td>\n",
       "      <td>0.220</td>\n",
       "      <td>0</td>\n",
       "      <td>0.000</td>\n",
       "      <td>4194304.000</td>\n",
       "      <td>2228</td>\n",
       "      <td>47878</td>\n",
       "      <td>0</td>\n",
       "      <td>...</td>\n",
       "      <td>7134.000</td>\n",
       "      <td>0</td>\n",
       "      <td>0</td>\n",
       "      <td>0.000</td>\n",
       "      <td>0.43</td>\n",
       "      <td>0.80</td>\n",
       "      <td>0.48</td>\n",
       "      <td>1.642512e+09</td>\n",
       "      <td>parasilo-13.rennes.grid5000.fr</td>\n",
       "      <td>/home/msimonin/workspace/repos/enoslib/docs/ju...</td>\n",
       "    </tr>\n",
       "    <tr>\n",
       "      <th>10</th>\n",
       "      <td>0.094</td>\n",
       "      <td>0.063</td>\n",
       "      <td>99.750</td>\n",
       "      <td>0.094</td>\n",
       "      <td>0</td>\n",
       "      <td>0.000</td>\n",
       "      <td>2109440.000</td>\n",
       "      <td>106</td>\n",
       "      <td>0</td>\n",
       "      <td>0</td>\n",
       "      <td>...</td>\n",
       "      <td>6243.000</td>\n",
       "      <td>0</td>\n",
       "      <td>0</td>\n",
       "      <td>0.000</td>\n",
       "      <td>0.40</td>\n",
       "      <td>0.79</td>\n",
       "      <td>0.48</td>\n",
       "      <td>1.642512e+09</td>\n",
       "      <td>parasilo-13.rennes.grid5000.fr</td>\n",
       "      <td>/home/msimonin/workspace/repos/enoslib/docs/ju...</td>\n",
       "    </tr>\n",
       "    <tr>\n",
       "      <th>11</th>\n",
       "      <td>0.000</td>\n",
       "      <td>0.000</td>\n",
       "      <td>99.812</td>\n",
       "      <td>0.188</td>\n",
       "      <td>0</td>\n",
       "      <td>0.000</td>\n",
       "      <td>2097152.000</td>\n",
       "      <td>106</td>\n",
       "      <td>0</td>\n",
       "      <td>0</td>\n",
       "      <td>...</td>\n",
       "      <td>79.000</td>\n",
       "      <td>0</td>\n",
       "      <td>0</td>\n",
       "      <td>0.000</td>\n",
       "      <td>0.40</td>\n",
       "      <td>0.79</td>\n",
       "      <td>0.48</td>\n",
       "      <td>1.642512e+09</td>\n",
       "      <td>parasilo-13.rennes.grid5000.fr</td>\n",
       "      <td>/home/msimonin/workspace/repos/enoslib/docs/ju...</td>\n",
       "    </tr>\n",
       "    <tr>\n",
       "      <th>12</th>\n",
       "      <td>0.000</td>\n",
       "      <td>0.000</td>\n",
       "      <td>99.969</td>\n",
       "      <td>0.031</td>\n",
       "      <td>0</td>\n",
       "      <td>0.000</td>\n",
       "      <td>2097152.000</td>\n",
       "      <td>166</td>\n",
       "      <td>180</td>\n",
       "      <td>0</td>\n",
       "      <td>...</td>\n",
       "      <td>82.000</td>\n",
       "      <td>0</td>\n",
       "      <td>0</td>\n",
       "      <td>0.000</td>\n",
       "      <td>0.40</td>\n",
       "      <td>0.79</td>\n",
       "      <td>0.48</td>\n",
       "      <td>1.642512e+09</td>\n",
       "      <td>parasilo-13.rennes.grid5000.fr</td>\n",
       "      <td>/home/msimonin/workspace/repos/enoslib/docs/ju...</td>\n",
       "    </tr>\n",
       "    <tr>\n",
       "      <th>13</th>\n",
       "      <td>0.000</td>\n",
       "      <td>0.000</td>\n",
       "      <td>99.938</td>\n",
       "      <td>0.062</td>\n",
       "      <td>0</td>\n",
       "      <td>0.000</td>\n",
       "      <td>2097152.000</td>\n",
       "      <td>212</td>\n",
       "      <td>0</td>\n",
       "      <td>0</td>\n",
       "      <td>...</td>\n",
       "      <td>72.000</td>\n",
       "      <td>0</td>\n",
       "      <td>0</td>\n",
       "      <td>0.000</td>\n",
       "      <td>0.40</td>\n",
       "      <td>0.79</td>\n",
       "      <td>0.48</td>\n",
       "      <td>1.642512e+09</td>\n",
       "      <td>parasilo-13.rennes.grid5000.fr</td>\n",
       "      <td>/home/msimonin/workspace/repos/enoslib/docs/ju...</td>\n",
       "    </tr>\n",
       "    <tr>\n",
       "      <th>14</th>\n",
       "      <td>0.000</td>\n",
       "      <td>0.031</td>\n",
       "      <td>99.719</td>\n",
       "      <td>0.250</td>\n",
       "      <td>0</td>\n",
       "      <td>0.000</td>\n",
       "      <td>4206592.000</td>\n",
       "      <td>166</td>\n",
       "      <td>0</td>\n",
       "      <td>0</td>\n",
       "      <td>...</td>\n",
       "      <td>189.000</td>\n",
       "      <td>0</td>\n",
       "      <td>0</td>\n",
       "      <td>0.000</td>\n",
       "      <td>0.40</td>\n",
       "      <td>0.79</td>\n",
       "      <td>0.48</td>\n",
       "      <td>1.642512e+09</td>\n",
       "      <td>parasilo-13.rennes.grid5000.fr</td>\n",
       "      <td>/home/msimonin/workspace/repos/enoslib/docs/ju...</td>\n",
       "    </tr>\n",
       "    <tr>\n",
       "      <th>15</th>\n",
       "      <td>0.000</td>\n",
       "      <td>0.000</td>\n",
       "      <td>99.938</td>\n",
       "      <td>0.062</td>\n",
       "      <td>0</td>\n",
       "      <td>0.000</td>\n",
       "      <td>2097152.000</td>\n",
       "      <td>288</td>\n",
       "      <td>0</td>\n",
       "      <td>0</td>\n",
       "      <td>...</td>\n",
       "      <td>100.000</td>\n",
       "      <td>0</td>\n",
       "      <td>0</td>\n",
       "      <td>1.000</td>\n",
       "      <td>0.36</td>\n",
       "      <td>0.77</td>\n",
       "      <td>0.48</td>\n",
       "      <td>1.642512e+09</td>\n",
       "      <td>parasilo-13.rennes.grid5000.fr</td>\n",
       "      <td>/home/msimonin/workspace/repos/enoslib/docs/ju...</td>\n",
       "    </tr>\n",
       "    <tr>\n",
       "      <th>16</th>\n",
       "      <td>0.000</td>\n",
       "      <td>0.000</td>\n",
       "      <td>99.938</td>\n",
       "      <td>0.062</td>\n",
       "      <td>0</td>\n",
       "      <td>0.000</td>\n",
       "      <td>2097152.000</td>\n",
       "      <td>106</td>\n",
       "      <td>0</td>\n",
       "      <td>0</td>\n",
       "      <td>...</td>\n",
       "      <td>77.000</td>\n",
       "      <td>0</td>\n",
       "      <td>0</td>\n",
       "      <td>0.000</td>\n",
       "      <td>0.36</td>\n",
       "      <td>0.77</td>\n",
       "      <td>0.48</td>\n",
       "      <td>1.642512e+09</td>\n",
       "      <td>parasilo-13.rennes.grid5000.fr</td>\n",
       "      <td>/home/msimonin/workspace/repos/enoslib/docs/ju...</td>\n",
       "    </tr>\n",
       "    <tr>\n",
       "      <th>17</th>\n",
       "      <td>0.031</td>\n",
       "      <td>0.000</td>\n",
       "      <td>99.906</td>\n",
       "      <td>0.062</td>\n",
       "      <td>0</td>\n",
       "      <td>0.000</td>\n",
       "      <td>2097152.000</td>\n",
       "      <td>106</td>\n",
       "      <td>0</td>\n",
       "      <td>0</td>\n",
       "      <td>...</td>\n",
       "      <td>77.000</td>\n",
       "      <td>0</td>\n",
       "      <td>0</td>\n",
       "      <td>0.000</td>\n",
       "      <td>0.36</td>\n",
       "      <td>0.77</td>\n",
       "      <td>0.48</td>\n",
       "      <td>1.642512e+09</td>\n",
       "      <td>parasilo-13.rennes.grid5000.fr</td>\n",
       "      <td>/home/msimonin/workspace/repos/enoslib/docs/ju...</td>\n",
       "    </tr>\n",
       "    <tr>\n",
       "      <th>18</th>\n",
       "      <td>0.000</td>\n",
       "      <td>0.000</td>\n",
       "      <td>99.938</td>\n",
       "      <td>0.062</td>\n",
       "      <td>0</td>\n",
       "      <td>0.000</td>\n",
       "      <td>2097152.000</td>\n",
       "      <td>222</td>\n",
       "      <td>0</td>\n",
       "      <td>0</td>\n",
       "      <td>...</td>\n",
       "      <td>163.000</td>\n",
       "      <td>0</td>\n",
       "      <td>0</td>\n",
       "      <td>0.000</td>\n",
       "      <td>0.36</td>\n",
       "      <td>0.77</td>\n",
       "      <td>0.48</td>\n",
       "      <td>1.642512e+09</td>\n",
       "      <td>parasilo-13.rennes.grid5000.fr</td>\n",
       "      <td>/home/msimonin/workspace/repos/enoslib/docs/ju...</td>\n",
       "    </tr>\n",
       "    <tr>\n",
       "      <th>19</th>\n",
       "      <td>0.000</td>\n",
       "      <td>0.000</td>\n",
       "      <td>99.844</td>\n",
       "      <td>0.156</td>\n",
       "      <td>0</td>\n",
       "      <td>0.000</td>\n",
       "      <td>4206592.000</td>\n",
       "      <td>288</td>\n",
       "      <td>0</td>\n",
       "      <td>0</td>\n",
       "      <td>...</td>\n",
       "      <td>105.000</td>\n",
       "      <td>0</td>\n",
       "      <td>0</td>\n",
       "      <td>0.000</td>\n",
       "      <td>0.36</td>\n",
       "      <td>0.77</td>\n",
       "      <td>0.48</td>\n",
       "      <td>1.642512e+09</td>\n",
       "      <td>parasilo-13.rennes.grid5000.fr</td>\n",
       "      <td>/home/msimonin/workspace/repos/enoslib/docs/ju...</td>\n",
       "    </tr>\n",
       "    <tr>\n",
       "      <th>20</th>\n",
       "      <td>0.000</td>\n",
       "      <td>0.000</td>\n",
       "      <td>99.844</td>\n",
       "      <td>0.156</td>\n",
       "      <td>0</td>\n",
       "      <td>0.000</td>\n",
       "      <td>2097152.000</td>\n",
       "      <td>352</td>\n",
       "      <td>0</td>\n",
       "      <td>0</td>\n",
       "      <td>...</td>\n",
       "      <td>125.000</td>\n",
       "      <td>0</td>\n",
       "      <td>0</td>\n",
       "      <td>0.000</td>\n",
       "      <td>0.34</td>\n",
       "      <td>0.76</td>\n",
       "      <td>0.47</td>\n",
       "      <td>1.642512e+09</td>\n",
       "      <td>parasilo-13.rennes.grid5000.fr</td>\n",
       "      <td>/home/msimonin/workspace/repos/enoslib/docs/ju...</td>\n",
       "    </tr>\n",
       "    <tr>\n",
       "      <th>21</th>\n",
       "      <td>0.000</td>\n",
       "      <td>0.000</td>\n",
       "      <td>99.938</td>\n",
       "      <td>0.062</td>\n",
       "      <td>0</td>\n",
       "      <td>0.000</td>\n",
       "      <td>2097152.000</td>\n",
       "      <td>212</td>\n",
       "      <td>0</td>\n",
       "      <td>0</td>\n",
       "      <td>...</td>\n",
       "      <td>83.000</td>\n",
       "      <td>0</td>\n",
       "      <td>0</td>\n",
       "      <td>0.000</td>\n",
       "      <td>0.34</td>\n",
       "      <td>0.76</td>\n",
       "      <td>0.47</td>\n",
       "      <td>1.642512e+09</td>\n",
       "      <td>parasilo-13.rennes.grid5000.fr</td>\n",
       "      <td>/home/msimonin/workspace/repos/enoslib/docs/ju...</td>\n",
       "    </tr>\n",
       "    <tr>\n",
       "      <th>22</th>\n",
       "      <td>0.031</td>\n",
       "      <td>0.063</td>\n",
       "      <td>99.844</td>\n",
       "      <td>0.063</td>\n",
       "      <td>0</td>\n",
       "      <td>0.000</td>\n",
       "      <td>2097152.000</td>\n",
       "      <td>212618</td>\n",
       "      <td>14600</td>\n",
       "      <td>0</td>\n",
       "      <td>...</td>\n",
       "      <td>474.000</td>\n",
       "      <td>0</td>\n",
       "      <td>0</td>\n",
       "      <td>14.000</td>\n",
       "      <td>0.34</td>\n",
       "      <td>0.76</td>\n",
       "      <td>0.47</td>\n",
       "      <td>1.642512e+09</td>\n",
       "      <td>parasilo-13.rennes.grid5000.fr</td>\n",
       "      <td>/home/msimonin/workspace/repos/enoslib/docs/ju...</td>\n",
       "    </tr>\n",
       "    <tr>\n",
       "      <th>23</th>\n",
       "      <td>0.778</td>\n",
       "      <td>0.277</td>\n",
       "      <td>98.266</td>\n",
       "      <td>0.679</td>\n",
       "      <td>0</td>\n",
       "      <td>1576210.057</td>\n",
       "      <td>445237.827</td>\n",
       "      <td>0</td>\n",
       "      <td>0</td>\n",
       "      <td>0</td>\n",
       "      <td>...</td>\n",
       "      <td>1712.713</td>\n",
       "      <td>0</td>\n",
       "      <td>0</td>\n",
       "      <td>41.606</td>\n",
       "      <td>0.56</td>\n",
       "      <td>1.18</td>\n",
       "      <td>0.68</td>\n",
       "      <td>1.642512e+09</td>\n",
       "      <td>parasilo-17.rennes.grid5000.fr</td>\n",
       "      <td>/home/msimonin/workspace/repos/enoslib/docs/ju...</td>\n",
       "    </tr>\n",
       "    <tr>\n",
       "      <th>24</th>\n",
       "      <td>0.031</td>\n",
       "      <td>0.000</td>\n",
       "      <td>99.438</td>\n",
       "      <td>0.531</td>\n",
       "      <td>0</td>\n",
       "      <td>0.000</td>\n",
       "      <td>864256.000</td>\n",
       "      <td>1074</td>\n",
       "      <td>1164</td>\n",
       "      <td>0</td>\n",
       "      <td>...</td>\n",
       "      <td>277.000</td>\n",
       "      <td>0</td>\n",
       "      <td>0</td>\n",
       "      <td>4.000</td>\n",
       "      <td>0.56</td>\n",
       "      <td>1.18</td>\n",
       "      <td>0.68</td>\n",
       "      <td>1.642512e+09</td>\n",
       "      <td>parasilo-17.rennes.grid5000.fr</td>\n",
       "      <td>/home/msimonin/workspace/repos/enoslib/docs/ju...</td>\n",
       "    </tr>\n",
       "    <tr>\n",
       "      <th>25</th>\n",
       "      <td>0.000</td>\n",
       "      <td>0.000</td>\n",
       "      <td>99.969</td>\n",
       "      <td>0.031</td>\n",
       "      <td>0</td>\n",
       "      <td>0.000</td>\n",
       "      <td>61440.000</td>\n",
       "      <td>0</td>\n",
       "      <td>0</td>\n",
       "      <td>0</td>\n",
       "      <td>...</td>\n",
       "      <td>90.000</td>\n",
       "      <td>0</td>\n",
       "      <td>0</td>\n",
       "      <td>0.000</td>\n",
       "      <td>0.56</td>\n",
       "      <td>1.18</td>\n",
       "      <td>0.68</td>\n",
       "      <td>1.642512e+09</td>\n",
       "      <td>parasilo-17.rennes.grid5000.fr</td>\n",
       "      <td>/home/msimonin/workspace/repos/enoslib/docs/ju...</td>\n",
       "    </tr>\n",
       "    <tr>\n",
       "      <th>26</th>\n",
       "      <td>0.000</td>\n",
       "      <td>0.000</td>\n",
       "      <td>100.000</td>\n",
       "      <td>0.000</td>\n",
       "      <td>0</td>\n",
       "      <td>0.000</td>\n",
       "      <td>0.000</td>\n",
       "      <td>106</td>\n",
       "      <td>0</td>\n",
       "      <td>0</td>\n",
       "      <td>...</td>\n",
       "      <td>81.000</td>\n",
       "      <td>0</td>\n",
       "      <td>0</td>\n",
       "      <td>0.000</td>\n",
       "      <td>0.56</td>\n",
       "      <td>1.18</td>\n",
       "      <td>0.68</td>\n",
       "      <td>1.642512e+09</td>\n",
       "      <td>parasilo-17.rennes.grid5000.fr</td>\n",
       "      <td>/home/msimonin/workspace/repos/enoslib/docs/ju...</td>\n",
       "    </tr>\n",
       "    <tr>\n",
       "      <th>27</th>\n",
       "      <td>0.000</td>\n",
       "      <td>0.000</td>\n",
       "      <td>100.000</td>\n",
       "      <td>0.000</td>\n",
       "      <td>0</td>\n",
       "      <td>0.000</td>\n",
       "      <td>0.000</td>\n",
       "      <td>166</td>\n",
       "      <td>0</td>\n",
       "      <td>0</td>\n",
       "      <td>...</td>\n",
       "      <td>184.000</td>\n",
       "      <td>0</td>\n",
       "      <td>0</td>\n",
       "      <td>0.000</td>\n",
       "      <td>0.56</td>\n",
       "      <td>1.18</td>\n",
       "      <td>0.68</td>\n",
       "      <td>1.642512e+09</td>\n",
       "      <td>parasilo-17.rennes.grid5000.fr</td>\n",
       "      <td>/home/msimonin/workspace/repos/enoslib/docs/ju...</td>\n",
       "    </tr>\n",
       "    <tr>\n",
       "      <th>28</th>\n",
       "      <td>0.000</td>\n",
       "      <td>0.000</td>\n",
       "      <td>99.938</td>\n",
       "      <td>0.062</td>\n",
       "      <td>0</td>\n",
       "      <td>0.000</td>\n",
       "      <td>98304.000</td>\n",
       "      <td>106</td>\n",
       "      <td>0</td>\n",
       "      <td>0</td>\n",
       "      <td>...</td>\n",
       "      <td>77.000</td>\n",
       "      <td>0</td>\n",
       "      <td>0</td>\n",
       "      <td>0.000</td>\n",
       "      <td>0.51</td>\n",
       "      <td>1.16</td>\n",
       "      <td>0.67</td>\n",
       "      <td>1.642512e+09</td>\n",
       "      <td>parasilo-17.rennes.grid5000.fr</td>\n",
       "      <td>/home/msimonin/workspace/repos/enoslib/docs/ju...</td>\n",
       "    </tr>\n",
       "    <tr>\n",
       "      <th>29</th>\n",
       "      <td>0.313</td>\n",
       "      <td>0.063</td>\n",
       "      <td>99.593</td>\n",
       "      <td>0.031</td>\n",
       "      <td>0</td>\n",
       "      <td>8192.000</td>\n",
       "      <td>0.000</td>\n",
       "      <td>212484</td>\n",
       "      <td>13908</td>\n",
       "      <td>0</td>\n",
       "      <td>...</td>\n",
       "      <td>456.000</td>\n",
       "      <td>1</td>\n",
       "      <td>0</td>\n",
       "      <td>16.000</td>\n",
       "      <td>0.51</td>\n",
       "      <td>1.16</td>\n",
       "      <td>0.67</td>\n",
       "      <td>1.642512e+09</td>\n",
       "      <td>parasilo-17.rennes.grid5000.fr</td>\n",
       "      <td>/home/msimonin/workspace/repos/enoslib/docs/ju...</td>\n",
       "    </tr>\n",
       "    <tr>\n",
       "      <th>30</th>\n",
       "      <td>12.066</td>\n",
       "      <td>0.031</td>\n",
       "      <td>87.902</td>\n",
       "      <td>0.000</td>\n",
       "      <td>0</td>\n",
       "      <td>0.000</td>\n",
       "      <td>0.000</td>\n",
       "      <td>612</td>\n",
       "      <td>0</td>\n",
       "      <td>0</td>\n",
       "      <td>...</td>\n",
       "      <td>167.000</td>\n",
       "      <td>4</td>\n",
       "      <td>0</td>\n",
       "      <td>6.000</td>\n",
       "      <td>0.51</td>\n",
       "      <td>1.16</td>\n",
       "      <td>0.67</td>\n",
       "      <td>1.642512e+09</td>\n",
       "      <td>parasilo-17.rennes.grid5000.fr</td>\n",
       "      <td>/home/msimonin/workspace/repos/enoslib/docs/ju...</td>\n",
       "    </tr>\n",
       "    <tr>\n",
       "      <th>31</th>\n",
       "      <td>12.504</td>\n",
       "      <td>0.000</td>\n",
       "      <td>87.496</td>\n",
       "      <td>0.000</td>\n",
       "      <td>0</td>\n",
       "      <td>0.000</td>\n",
       "      <td>0.000</td>\n",
       "      <td>0</td>\n",
       "      <td>0</td>\n",
       "      <td>0</td>\n",
       "      <td>...</td>\n",
       "      <td>137.000</td>\n",
       "      <td>4</td>\n",
       "      <td>0</td>\n",
       "      <td>0.000</td>\n",
       "      <td>0.51</td>\n",
       "      <td>1.16</td>\n",
       "      <td>0.67</td>\n",
       "      <td>1.642512e+09</td>\n",
       "      <td>parasilo-17.rennes.grid5000.fr</td>\n",
       "      <td>/home/msimonin/workspace/repos/enoslib/docs/ju...</td>\n",
       "    </tr>\n",
       "    <tr>\n",
       "      <th>32</th>\n",
       "      <td>13.033</td>\n",
       "      <td>0.157</td>\n",
       "      <td>86.811</td>\n",
       "      <td>0.000</td>\n",
       "      <td>0</td>\n",
       "      <td>0.000</td>\n",
       "      <td>0.000</td>\n",
       "      <td>2016</td>\n",
       "      <td>47528</td>\n",
       "      <td>0</td>\n",
       "      <td>...</td>\n",
       "      <td>6795.000</td>\n",
       "      <td>4</td>\n",
       "      <td>0</td>\n",
       "      <td>4.000</td>\n",
       "      <td>0.51</td>\n",
       "      <td>1.16</td>\n",
       "      <td>0.67</td>\n",
       "      <td>1.642512e+09</td>\n",
       "      <td>parasilo-17.rennes.grid5000.fr</td>\n",
       "      <td>/home/msimonin/workspace/repos/enoslib/docs/ju...</td>\n",
       "    </tr>\n",
       "    <tr>\n",
       "      <th>33</th>\n",
       "      <td>12.594</td>\n",
       "      <td>0.031</td>\n",
       "      <td>87.375</td>\n",
       "      <td>0.000</td>\n",
       "      <td>0</td>\n",
       "      <td>0.000</td>\n",
       "      <td>0.000</td>\n",
       "      <td>106</td>\n",
       "      <td>0</td>\n",
       "      <td>0</td>\n",
       "      <td>...</td>\n",
       "      <td>5734.000</td>\n",
       "      <td>4</td>\n",
       "      <td>0</td>\n",
       "      <td>0.000</td>\n",
       "      <td>0.79</td>\n",
       "      <td>1.21</td>\n",
       "      <td>0.69</td>\n",
       "      <td>1.642512e+09</td>\n",
       "      <td>parasilo-17.rennes.grid5000.fr</td>\n",
       "      <td>/home/msimonin/workspace/repos/enoslib/docs/ju...</td>\n",
       "    </tr>\n",
       "    <tr>\n",
       "      <th>34</th>\n",
       "      <td>12.551</td>\n",
       "      <td>0.031</td>\n",
       "      <td>87.199</td>\n",
       "      <td>0.219</td>\n",
       "      <td>0</td>\n",
       "      <td>0.000</td>\n",
       "      <td>155648.000</td>\n",
       "      <td>106</td>\n",
       "      <td>0</td>\n",
       "      <td>0</td>\n",
       "      <td>...</td>\n",
       "      <td>820.000</td>\n",
       "      <td>4</td>\n",
       "      <td>1</td>\n",
       "      <td>1.000</td>\n",
       "      <td>0.79</td>\n",
       "      <td>1.21</td>\n",
       "      <td>0.69</td>\n",
       "      <td>1.642512e+09</td>\n",
       "      <td>parasilo-17.rennes.grid5000.fr</td>\n",
       "      <td>/home/msimonin/workspace/repos/enoslib/docs/ju...</td>\n",
       "    </tr>\n",
       "    <tr>\n",
       "      <th>35</th>\n",
       "      <td>12.504</td>\n",
       "      <td>0.000</td>\n",
       "      <td>87.309</td>\n",
       "      <td>0.188</td>\n",
       "      <td>0</td>\n",
       "      <td>0.000</td>\n",
       "      <td>569344.000</td>\n",
       "      <td>0</td>\n",
       "      <td>0</td>\n",
       "      <td>0</td>\n",
       "      <td>...</td>\n",
       "      <td>213.000</td>\n",
       "      <td>4</td>\n",
       "      <td>0</td>\n",
       "      <td>0.000</td>\n",
       "      <td>0.79</td>\n",
       "      <td>1.21</td>\n",
       "      <td>0.69</td>\n",
       "      <td>1.642512e+09</td>\n",
       "      <td>parasilo-17.rennes.grid5000.fr</td>\n",
       "      <td>/home/msimonin/workspace/repos/enoslib/docs/ju...</td>\n",
       "    </tr>\n",
       "    <tr>\n",
       "      <th>36</th>\n",
       "      <td>12.500</td>\n",
       "      <td>0.000</td>\n",
       "      <td>87.344</td>\n",
       "      <td>0.156</td>\n",
       "      <td>0</td>\n",
       "      <td>0.000</td>\n",
       "      <td>77824.000</td>\n",
       "      <td>212</td>\n",
       "      <td>0</td>\n",
       "      <td>0</td>\n",
       "      <td>...</td>\n",
       "      <td>121.000</td>\n",
       "      <td>4</td>\n",
       "      <td>0</td>\n",
       "      <td>2.000</td>\n",
       "      <td>0.79</td>\n",
       "      <td>1.21</td>\n",
       "      <td>0.69</td>\n",
       "      <td>1.642512e+09</td>\n",
       "      <td>parasilo-17.rennes.grid5000.fr</td>\n",
       "      <td>/home/msimonin/workspace/repos/enoslib/docs/ju...</td>\n",
       "    </tr>\n",
       "    <tr>\n",
       "      <th>37</th>\n",
       "      <td>12.504</td>\n",
       "      <td>0.000</td>\n",
       "      <td>87.496</td>\n",
       "      <td>0.000</td>\n",
       "      <td>0</td>\n",
       "      <td>0.000</td>\n",
       "      <td>0.000</td>\n",
       "      <td>532</td>\n",
       "      <td>0</td>\n",
       "      <td>0</td>\n",
       "      <td>...</td>\n",
       "      <td>149.000</td>\n",
       "      <td>4</td>\n",
       "      <td>0</td>\n",
       "      <td>0.000</td>\n",
       "      <td>0.79</td>\n",
       "      <td>1.21</td>\n",
       "      <td>0.69</td>\n",
       "      <td>1.642512e+09</td>\n",
       "      <td>parasilo-17.rennes.grid5000.fr</td>\n",
       "      <td>/home/msimonin/workspace/repos/enoslib/docs/ju...</td>\n",
       "    </tr>\n",
       "    <tr>\n",
       "      <th>38</th>\n",
       "      <td>12.473</td>\n",
       "      <td>0.000</td>\n",
       "      <td>87.527</td>\n",
       "      <td>0.000</td>\n",
       "      <td>0</td>\n",
       "      <td>0.000</td>\n",
       "      <td>0.000</td>\n",
       "      <td>288</td>\n",
       "      <td>0</td>\n",
       "      <td>0</td>\n",
       "      <td>...</td>\n",
       "      <td>92.000</td>\n",
       "      <td>4</td>\n",
       "      <td>0</td>\n",
       "      <td>0.000</td>\n",
       "      <td>1.05</td>\n",
       "      <td>1.26</td>\n",
       "      <td>0.71</td>\n",
       "      <td>1.642512e+09</td>\n",
       "      <td>parasilo-17.rennes.grid5000.fr</td>\n",
       "      <td>/home/msimonin/workspace/repos/enoslib/docs/ju...</td>\n",
       "    </tr>\n",
       "    <tr>\n",
       "      <th>39</th>\n",
       "      <td>12.500</td>\n",
       "      <td>0.000</td>\n",
       "      <td>87.500</td>\n",
       "      <td>0.000</td>\n",
       "      <td>0</td>\n",
       "      <td>0.000</td>\n",
       "      <td>0.000</td>\n",
       "      <td>106</td>\n",
       "      <td>0</td>\n",
       "      <td>0</td>\n",
       "      <td>...</td>\n",
       "      <td>165.000</td>\n",
       "      <td>4</td>\n",
       "      <td>0</td>\n",
       "      <td>1.000</td>\n",
       "      <td>1.05</td>\n",
       "      <td>1.26</td>\n",
       "      <td>0.71</td>\n",
       "      <td>1.642512e+09</td>\n",
       "      <td>parasilo-17.rennes.grid5000.fr</td>\n",
       "      <td>/home/msimonin/workspace/repos/enoslib/docs/ju...</td>\n",
       "    </tr>\n",
       "    <tr>\n",
       "      <th>40</th>\n",
       "      <td>0.438</td>\n",
       "      <td>0.000</td>\n",
       "      <td>99.531</td>\n",
       "      <td>0.031</td>\n",
       "      <td>0</td>\n",
       "      <td>0.000</td>\n",
       "      <td>45056.000</td>\n",
       "      <td>1500</td>\n",
       "      <td>2076</td>\n",
       "      <td>0</td>\n",
       "      <td>...</td>\n",
       "      <td>231.000</td>\n",
       "      <td>0</td>\n",
       "      <td>0</td>\n",
       "      <td>4.000</td>\n",
       "      <td>1.05</td>\n",
       "      <td>1.26</td>\n",
       "      <td>0.71</td>\n",
       "      <td>1.642512e+09</td>\n",
       "      <td>parasilo-17.rennes.grid5000.fr</td>\n",
       "      <td>/home/msimonin/workspace/repos/enoslib/docs/ju...</td>\n",
       "    </tr>\n",
       "    <tr>\n",
       "      <th>41</th>\n",
       "      <td>0.000</td>\n",
       "      <td>0.000</td>\n",
       "      <td>100.000</td>\n",
       "      <td>0.000</td>\n",
       "      <td>0</td>\n",
       "      <td>0.000</td>\n",
       "      <td>0.000</td>\n",
       "      <td>222</td>\n",
       "      <td>0</td>\n",
       "      <td>0</td>\n",
       "      <td>...</td>\n",
       "      <td>359.000</td>\n",
       "      <td>0</td>\n",
       "      <td>0</td>\n",
       "      <td>0.000</td>\n",
       "      <td>1.05</td>\n",
       "      <td>1.26</td>\n",
       "      <td>0.71</td>\n",
       "      <td>1.642512e+09</td>\n",
       "      <td>parasilo-17.rennes.grid5000.fr</td>\n",
       "      <td>/home/msimonin/workspace/repos/enoslib/docs/ju...</td>\n",
       "    </tr>\n",
       "    <tr>\n",
       "      <th>42</th>\n",
       "      <td>0.000</td>\n",
       "      <td>0.000</td>\n",
       "      <td>100.000</td>\n",
       "      <td>0.000</td>\n",
       "      <td>0</td>\n",
       "      <td>0.000</td>\n",
       "      <td>0.000</td>\n",
       "      <td>288</td>\n",
       "      <td>0</td>\n",
       "      <td>0</td>\n",
       "      <td>...</td>\n",
       "      <td>64.000</td>\n",
       "      <td>0</td>\n",
       "      <td>0</td>\n",
       "      <td>0.000</td>\n",
       "      <td>1.05</td>\n",
       "      <td>1.26</td>\n",
       "      <td>0.71</td>\n",
       "      <td>1.642512e+09</td>\n",
       "      <td>parasilo-17.rennes.grid5000.fr</td>\n",
       "      <td>/home/msimonin/workspace/repos/enoslib/docs/ju...</td>\n",
       "    </tr>\n",
       "    <tr>\n",
       "      <th>43</th>\n",
       "      <td>0.000</td>\n",
       "      <td>0.000</td>\n",
       "      <td>100.000</td>\n",
       "      <td>0.000</td>\n",
       "      <td>0</td>\n",
       "      <td>0.000</td>\n",
       "      <td>0.000</td>\n",
       "      <td>352</td>\n",
       "      <td>0</td>\n",
       "      <td>0</td>\n",
       "      <td>...</td>\n",
       "      <td>126.000</td>\n",
       "      <td>0</td>\n",
       "      <td>0</td>\n",
       "      <td>0.000</td>\n",
       "      <td>0.97</td>\n",
       "      <td>1.24</td>\n",
       "      <td>0.71</td>\n",
       "      <td>1.642512e+09</td>\n",
       "      <td>parasilo-17.rennes.grid5000.fr</td>\n",
       "      <td>/home/msimonin/workspace/repos/enoslib/docs/ju...</td>\n",
       "    </tr>\n",
       "    <tr>\n",
       "      <th>44</th>\n",
       "      <td>0.000</td>\n",
       "      <td>0.000</td>\n",
       "      <td>99.937</td>\n",
       "      <td>0.063</td>\n",
       "      <td>0</td>\n",
       "      <td>0.000</td>\n",
       "      <td>53248.000</td>\n",
       "      <td>828</td>\n",
       "      <td>1098</td>\n",
       "      <td>0</td>\n",
       "      <td>...</td>\n",
       "      <td>290.000</td>\n",
       "      <td>0</td>\n",
       "      <td>0</td>\n",
       "      <td>0.000</td>\n",
       "      <td>0.97</td>\n",
       "      <td>1.24</td>\n",
       "      <td>0.71</td>\n",
       "      <td>1.642512e+09</td>\n",
       "      <td>parasilo-17.rennes.grid5000.fr</td>\n",
       "      <td>/home/msimonin/workspace/repos/enoslib/docs/ju...</td>\n",
       "    </tr>\n",
       "    <tr>\n",
       "      <th>45</th>\n",
       "      <td>0.125</td>\n",
       "      <td>0.094</td>\n",
       "      <td>99.781</td>\n",
       "      <td>0.000</td>\n",
       "      <td>0</td>\n",
       "      <td>0.000</td>\n",
       "      <td>0.000</td>\n",
       "      <td>205002</td>\n",
       "      <td>10244</td>\n",
       "      <td>0</td>\n",
       "      <td>...</td>\n",
       "      <td>419.000</td>\n",
       "      <td>0</td>\n",
       "      <td>1</td>\n",
       "      <td>16.000</td>\n",
       "      <td>0.97</td>\n",
       "      <td>1.24</td>\n",
       "      <td>0.71</td>\n",
       "      <td>1.642512e+09</td>\n",
       "      <td>parasilo-17.rennes.grid5000.fr</td>\n",
       "      <td>/home/msimonin/workspace/repos/enoslib/docs/ju...</td>\n",
       "    </tr>\n",
       "  </tbody>\n",
       "</table>\n",
       "<p>46 rows × 26 columns</p>\n",
       "</div>"
      ],
      "text/plain": [
       "       usr    sys      idl    wai  stl         read         writ    recv  \\\n",
       "0    0.316  0.251   98.416  1.017    0  1424937.694  3166853.564       0   \n",
       "1    0.000  0.000   99.813  0.187    0        0.000  2097152.000    1074   \n",
       "2    0.000  0.000   99.906  0.094    0        0.000  2248704.000       0   \n",
       "3    0.000  0.031   99.812  0.156    0        0.000  2097152.000     472   \n",
       "4    0.031  0.000   99.719  0.250    0        0.000  4259840.000     166   \n",
       "5    0.000  0.000   99.938  0.062    0        0.000  2097152.000     272   \n",
       "6    0.000  0.000   99.938  0.062    0        0.000  2097152.000       0   \n",
       "7    0.062  0.031   99.875  0.031    0        0.000  2097152.000     612   \n",
       "8    0.000  0.000   99.906  0.094    0        0.000  2109440.000     166   \n",
       "9    0.346  0.220   99.214  0.220    0        0.000  4194304.000    2228   \n",
       "10   0.094  0.063   99.750  0.094    0        0.000  2109440.000     106   \n",
       "11   0.000  0.000   99.812  0.188    0        0.000  2097152.000     106   \n",
       "12   0.000  0.000   99.969  0.031    0        0.000  2097152.000     166   \n",
       "13   0.000  0.000   99.938  0.062    0        0.000  2097152.000     212   \n",
       "14   0.000  0.031   99.719  0.250    0        0.000  4206592.000     166   \n",
       "15   0.000  0.000   99.938  0.062    0        0.000  2097152.000     288   \n",
       "16   0.000  0.000   99.938  0.062    0        0.000  2097152.000     106   \n",
       "17   0.031  0.000   99.906  0.062    0        0.000  2097152.000     106   \n",
       "18   0.000  0.000   99.938  0.062    0        0.000  2097152.000     222   \n",
       "19   0.000  0.000   99.844  0.156    0        0.000  4206592.000     288   \n",
       "20   0.000  0.000   99.844  0.156    0        0.000  2097152.000     352   \n",
       "21   0.000  0.000   99.938  0.062    0        0.000  2097152.000     212   \n",
       "22   0.031  0.063   99.844  0.063    0        0.000  2097152.000  212618   \n",
       "23   0.778  0.277   98.266  0.679    0  1576210.057   445237.827       0   \n",
       "24   0.031  0.000   99.438  0.531    0        0.000   864256.000    1074   \n",
       "25   0.000  0.000   99.969  0.031    0        0.000    61440.000       0   \n",
       "26   0.000  0.000  100.000  0.000    0        0.000        0.000     106   \n",
       "27   0.000  0.000  100.000  0.000    0        0.000        0.000     166   \n",
       "28   0.000  0.000   99.938  0.062    0        0.000    98304.000     106   \n",
       "29   0.313  0.063   99.593  0.031    0     8192.000        0.000  212484   \n",
       "30  12.066  0.031   87.902  0.000    0        0.000        0.000     612   \n",
       "31  12.504  0.000   87.496  0.000    0        0.000        0.000       0   \n",
       "32  13.033  0.157   86.811  0.000    0        0.000        0.000    2016   \n",
       "33  12.594  0.031   87.375  0.000    0        0.000        0.000     106   \n",
       "34  12.551  0.031   87.199  0.219    0        0.000   155648.000     106   \n",
       "35  12.504  0.000   87.309  0.188    0        0.000   569344.000       0   \n",
       "36  12.500  0.000   87.344  0.156    0        0.000    77824.000     212   \n",
       "37  12.504  0.000   87.496  0.000    0        0.000        0.000     532   \n",
       "38  12.473  0.000   87.527  0.000    0        0.000        0.000     288   \n",
       "39  12.500  0.000   87.500  0.000    0        0.000        0.000     106   \n",
       "40   0.438  0.000   99.531  0.031    0        0.000    45056.000    1500   \n",
       "41   0.000  0.000  100.000  0.000    0        0.000        0.000     222   \n",
       "42   0.000  0.000  100.000  0.000    0        0.000        0.000     288   \n",
       "43   0.000  0.000  100.000  0.000    0        0.000        0.000     352   \n",
       "44   0.000  0.000   99.937  0.063    0        0.000    53248.000     828   \n",
       "45   0.125  0.094   99.781  0.000    0        0.000        0.000  205002   \n",
       "\n",
       "     send  in  ...       csw  run  blk     new    1m    5m   15m  \\\n",
       "0       0   0  ...  1611.565    0    0  37.310  0.47  0.81  0.49   \n",
       "1    1164   0  ...   149.000    0    0   3.000  0.47  0.81  0.49   \n",
       "2       0   0  ...   178.000    0    0   0.000  0.47  0.81  0.49   \n",
       "3       0   0  ...   119.000    0    0   0.000  0.47  0.81  0.49   \n",
       "4     180   0  ...   403.000    0    0   0.000  0.47  0.81  0.49   \n",
       "5       0   0  ...   173.000    0    0   0.000  0.43  0.80  0.48   \n",
       "6       0   0  ...   137.000    0    0   0.000  0.43  0.80  0.48   \n",
       "7       0   0  ...  1029.000    0    0   0.000  0.43  0.80  0.48   \n",
       "8     180   0  ...    92.000    0    0   0.000  0.43  0.80  0.48   \n",
       "9   47878   0  ...  7134.000    0    0   0.000  0.43  0.80  0.48   \n",
       "10      0   0  ...  6243.000    0    0   0.000  0.40  0.79  0.48   \n",
       "11      0   0  ...    79.000    0    0   0.000  0.40  0.79  0.48   \n",
       "12    180   0  ...    82.000    0    0   0.000  0.40  0.79  0.48   \n",
       "13      0   0  ...    72.000    0    0   0.000  0.40  0.79  0.48   \n",
       "14      0   0  ...   189.000    0    0   0.000  0.40  0.79  0.48   \n",
       "15      0   0  ...   100.000    0    0   1.000  0.36  0.77  0.48   \n",
       "16      0   0  ...    77.000    0    0   0.000  0.36  0.77  0.48   \n",
       "17      0   0  ...    77.000    0    0   0.000  0.36  0.77  0.48   \n",
       "18      0   0  ...   163.000    0    0   0.000  0.36  0.77  0.48   \n",
       "19      0   0  ...   105.000    0    0   0.000  0.36  0.77  0.48   \n",
       "20      0   0  ...   125.000    0    0   0.000  0.34  0.76  0.47   \n",
       "21      0   0  ...    83.000    0    0   0.000  0.34  0.76  0.47   \n",
       "22  14600   0  ...   474.000    0    0  14.000  0.34  0.76  0.47   \n",
       "23      0   0  ...  1712.713    0    0  41.606  0.56  1.18  0.68   \n",
       "24   1164   0  ...   277.000    0    0   4.000  0.56  1.18  0.68   \n",
       "25      0   0  ...    90.000    0    0   0.000  0.56  1.18  0.68   \n",
       "26      0   0  ...    81.000    0    0   0.000  0.56  1.18  0.68   \n",
       "27      0   0  ...   184.000    0    0   0.000  0.56  1.18  0.68   \n",
       "28      0   0  ...    77.000    0    0   0.000  0.51  1.16  0.67   \n",
       "29  13908   0  ...   456.000    1    0  16.000  0.51  1.16  0.67   \n",
       "30      0   0  ...   167.000    4    0   6.000  0.51  1.16  0.67   \n",
       "31      0   0  ...   137.000    4    0   0.000  0.51  1.16  0.67   \n",
       "32  47528   0  ...  6795.000    4    0   4.000  0.51  1.16  0.67   \n",
       "33      0   0  ...  5734.000    4    0   0.000  0.79  1.21  0.69   \n",
       "34      0   0  ...   820.000    4    1   1.000  0.79  1.21  0.69   \n",
       "35      0   0  ...   213.000    4    0   0.000  0.79  1.21  0.69   \n",
       "36      0   0  ...   121.000    4    0   2.000  0.79  1.21  0.69   \n",
       "37      0   0  ...   149.000    4    0   0.000  0.79  1.21  0.69   \n",
       "38      0   0  ...    92.000    4    0   0.000  1.05  1.26  0.71   \n",
       "39      0   0  ...   165.000    4    0   1.000  1.05  1.26  0.71   \n",
       "40   2076   0  ...   231.000    0    0   4.000  1.05  1.26  0.71   \n",
       "41      0   0  ...   359.000    0    0   0.000  1.05  1.26  0.71   \n",
       "42      0   0  ...    64.000    0    0   0.000  1.05  1.26  0.71   \n",
       "43      0   0  ...   126.000    0    0   0.000  0.97  1.24  0.71   \n",
       "44   1098   0  ...   290.000    0    0   0.000  0.97  1.24  0.71   \n",
       "45  10244   0  ...   419.000    0    1  16.000  0.97  1.24  0.71   \n",
       "\n",
       "           epoch                            host  \\\n",
       "0   1.642512e+09  parasilo-13.rennes.grid5000.fr   \n",
       "1   1.642512e+09  parasilo-13.rennes.grid5000.fr   \n",
       "2   1.642512e+09  parasilo-13.rennes.grid5000.fr   \n",
       "3   1.642512e+09  parasilo-13.rennes.grid5000.fr   \n",
       "4   1.642512e+09  parasilo-13.rennes.grid5000.fr   \n",
       "5   1.642512e+09  parasilo-13.rennes.grid5000.fr   \n",
       "6   1.642512e+09  parasilo-13.rennes.grid5000.fr   \n",
       "7   1.642512e+09  parasilo-13.rennes.grid5000.fr   \n",
       "8   1.642512e+09  parasilo-13.rennes.grid5000.fr   \n",
       "9   1.642512e+09  parasilo-13.rennes.grid5000.fr   \n",
       "10  1.642512e+09  parasilo-13.rennes.grid5000.fr   \n",
       "11  1.642512e+09  parasilo-13.rennes.grid5000.fr   \n",
       "12  1.642512e+09  parasilo-13.rennes.grid5000.fr   \n",
       "13  1.642512e+09  parasilo-13.rennes.grid5000.fr   \n",
       "14  1.642512e+09  parasilo-13.rennes.grid5000.fr   \n",
       "15  1.642512e+09  parasilo-13.rennes.grid5000.fr   \n",
       "16  1.642512e+09  parasilo-13.rennes.grid5000.fr   \n",
       "17  1.642512e+09  parasilo-13.rennes.grid5000.fr   \n",
       "18  1.642512e+09  parasilo-13.rennes.grid5000.fr   \n",
       "19  1.642512e+09  parasilo-13.rennes.grid5000.fr   \n",
       "20  1.642512e+09  parasilo-13.rennes.grid5000.fr   \n",
       "21  1.642512e+09  parasilo-13.rennes.grid5000.fr   \n",
       "22  1.642512e+09  parasilo-13.rennes.grid5000.fr   \n",
       "23  1.642512e+09  parasilo-17.rennes.grid5000.fr   \n",
       "24  1.642512e+09  parasilo-17.rennes.grid5000.fr   \n",
       "25  1.642512e+09  parasilo-17.rennes.grid5000.fr   \n",
       "26  1.642512e+09  parasilo-17.rennes.grid5000.fr   \n",
       "27  1.642512e+09  parasilo-17.rennes.grid5000.fr   \n",
       "28  1.642512e+09  parasilo-17.rennes.grid5000.fr   \n",
       "29  1.642512e+09  parasilo-17.rennes.grid5000.fr   \n",
       "30  1.642512e+09  parasilo-17.rennes.grid5000.fr   \n",
       "31  1.642512e+09  parasilo-17.rennes.grid5000.fr   \n",
       "32  1.642512e+09  parasilo-17.rennes.grid5000.fr   \n",
       "33  1.642512e+09  parasilo-17.rennes.grid5000.fr   \n",
       "34  1.642512e+09  parasilo-17.rennes.grid5000.fr   \n",
       "35  1.642512e+09  parasilo-17.rennes.grid5000.fr   \n",
       "36  1.642512e+09  parasilo-17.rennes.grid5000.fr   \n",
       "37  1.642512e+09  parasilo-17.rennes.grid5000.fr   \n",
       "38  1.642512e+09  parasilo-17.rennes.grid5000.fr   \n",
       "39  1.642512e+09  parasilo-17.rennes.grid5000.fr   \n",
       "40  1.642512e+09  parasilo-17.rennes.grid5000.fr   \n",
       "41  1.642512e+09  parasilo-17.rennes.grid5000.fr   \n",
       "42  1.642512e+09  parasilo-17.rennes.grid5000.fr   \n",
       "43  1.642512e+09  parasilo-17.rennes.grid5000.fr   \n",
       "44  1.642512e+09  parasilo-17.rennes.grid5000.fr   \n",
       "45  1.642512e+09  parasilo-17.rennes.grid5000.fr   \n",
       "\n",
       "                                                  csv  \n",
       "0   /home/msimonin/workspace/repos/enoslib/docs/ju...  \n",
       "1   /home/msimonin/workspace/repos/enoslib/docs/ju...  \n",
       "2   /home/msimonin/workspace/repos/enoslib/docs/ju...  \n",
       "3   /home/msimonin/workspace/repos/enoslib/docs/ju...  \n",
       "4   /home/msimonin/workspace/repos/enoslib/docs/ju...  \n",
       "5   /home/msimonin/workspace/repos/enoslib/docs/ju...  \n",
       "6   /home/msimonin/workspace/repos/enoslib/docs/ju...  \n",
       "7   /home/msimonin/workspace/repos/enoslib/docs/ju...  \n",
       "8   /home/msimonin/workspace/repos/enoslib/docs/ju...  \n",
       "9   /home/msimonin/workspace/repos/enoslib/docs/ju...  \n",
       "10  /home/msimonin/workspace/repos/enoslib/docs/ju...  \n",
       "11  /home/msimonin/workspace/repos/enoslib/docs/ju...  \n",
       "12  /home/msimonin/workspace/repos/enoslib/docs/ju...  \n",
       "13  /home/msimonin/workspace/repos/enoslib/docs/ju...  \n",
       "14  /home/msimonin/workspace/repos/enoslib/docs/ju...  \n",
       "15  /home/msimonin/workspace/repos/enoslib/docs/ju...  \n",
       "16  /home/msimonin/workspace/repos/enoslib/docs/ju...  \n",
       "17  /home/msimonin/workspace/repos/enoslib/docs/ju...  \n",
       "18  /home/msimonin/workspace/repos/enoslib/docs/ju...  \n",
       "19  /home/msimonin/workspace/repos/enoslib/docs/ju...  \n",
       "20  /home/msimonin/workspace/repos/enoslib/docs/ju...  \n",
       "21  /home/msimonin/workspace/repos/enoslib/docs/ju...  \n",
       "22  /home/msimonin/workspace/repos/enoslib/docs/ju...  \n",
       "23  /home/msimonin/workspace/repos/enoslib/docs/ju...  \n",
       "24  /home/msimonin/workspace/repos/enoslib/docs/ju...  \n",
       "25  /home/msimonin/workspace/repos/enoslib/docs/ju...  \n",
       "26  /home/msimonin/workspace/repos/enoslib/docs/ju...  \n",
       "27  /home/msimonin/workspace/repos/enoslib/docs/ju...  \n",
       "28  /home/msimonin/workspace/repos/enoslib/docs/ju...  \n",
       "29  /home/msimonin/workspace/repos/enoslib/docs/ju...  \n",
       "30  /home/msimonin/workspace/repos/enoslib/docs/ju...  \n",
       "31  /home/msimonin/workspace/repos/enoslib/docs/ju...  \n",
       "32  /home/msimonin/workspace/repos/enoslib/docs/ju...  \n",
       "33  /home/msimonin/workspace/repos/enoslib/docs/ju...  \n",
       "34  /home/msimonin/workspace/repos/enoslib/docs/ju...  \n",
       "35  /home/msimonin/workspace/repos/enoslib/docs/ju...  \n",
       "36  /home/msimonin/workspace/repos/enoslib/docs/ju...  \n",
       "37  /home/msimonin/workspace/repos/enoslib/docs/ju...  \n",
       "38  /home/msimonin/workspace/repos/enoslib/docs/ju...  \n",
       "39  /home/msimonin/workspace/repos/enoslib/docs/ju...  \n",
       "40  /home/msimonin/workspace/repos/enoslib/docs/ju...  \n",
       "41  /home/msimonin/workspace/repos/enoslib/docs/ju...  \n",
       "42  /home/msimonin/workspace/repos/enoslib/docs/ju...  \n",
       "43  /home/msimonin/workspace/repos/enoslib/docs/ju...  \n",
       "44  /home/msimonin/workspace/repos/enoslib/docs/ju...  \n",
       "45  /home/msimonin/workspace/repos/enoslib/docs/ju...  \n",
       "\n",
       "[46 rows x 26 columns]"
      ]
     },
     "execution_count": 6,
     "metadata": {},
     "output_type": "execute_result"
    }
   ],
   "source": [
    "import pandas as pd\n",
    "import seaborn as sns \n",
    "\n",
    "print(backup_dir)\n",
    "#Create a dictionnary of (alias) -> list of pandas df\n",
    "result = pd.DataFrame()\n",
    "for host in roles[\"xp\"]:\n",
    "    host_dir = backup_dir / host.alias\n",
    "    csvs = host_dir.rglob(\"*.csv\")\n",
    "    for csv in csvs:\n",
    "        print(csv)\n",
    "        df = pd.read_csv(csv, skiprows=5, index_col=False)\n",
    "        df[\"host\"] = host.alias\n",
    "        df[\"csv\"] = csv\n",
    "        result = pd.concat([result, df], axis=0, ignore_index=True)\n",
    "\n",
    "result"
   ]
  },
  {
   "cell_type": "code",
   "execution_count": 7,
   "id": "rough-campus",
   "metadata": {},
   "outputs": [
    {
     "data": {
      "text/plain": [
       "<AxesSubplot:xlabel='epoch', ylabel='usr'>"
      ]
     },
     "execution_count": 7,
     "metadata": {},
     "output_type": "execute_result"
    },
    {
     "data": {
      "image/png": "[encoded data removed]",
      "text/plain": [
       "<Figure size 432x288 with 1 Axes>"
      ]
     },
     "metadata": {
      "needs_background": "light"
     },
     "output_type": "display_data"
    }
   ],
   "source": [
    "# let's show the metrics !\n",
    "sns.lineplot(data=result, x=\"epoch\", y=\"usr\", hue=\"host\", markers=True, style=\"host\")"
   ]
  },
  {
   "cell_type": "markdown",
   "id": "cardiac-turkish",
   "metadata": {},
   "source": [
    "## Packet sniffing with tcpdump\n",
    "\n",
    "### Capture"
   ]
  },
  {
   "cell_type": "code",
   "execution_count": 8,
   "id": "integrated-feedback",
   "metadata": {},
   "outputs": [
    {
     "data": {
      "application/vnd.jupyter.widget-view+json": {
       "model_id": "",
       "version_major": 2,
       "version_minor": 0
      },
      "text/plain": [
       "Output()"
      ]
     },
     "metadata": {},
     "output_type": "display_data"
    },
    {
     "data": {
      "text/html": [
       "<pre style=\"white-space:pre;overflow-x:auto;line-height:normal;font-family:Menlo,'DejaVu Sans Mono',consolas,'Courier New',monospace\"></pre>\n"
      ],
      "text/plain": []
     },
     "metadata": {},
     "output_type": "display_data"
    },
    {
     "data": {
      "text/html": [
       "<pre style=\"white-space:pre;overflow-x:auto;line-height:normal;font-family:Menlo,'DejaVu Sans Mono',consolas,'Courier New',monospace\"><span style=\"color: #000080; text-decoration-color: #000080; font-weight: bold\">Finished </span><span style=\"color: #000080; text-decoration-color: #000080; font-weight: bold\">3</span><span style=\"color: #000080; text-decoration-color: #000080; font-weight: bold\"> tasks</span> <span style=\"font-weight: bold; font-style: italic\">(</span><span style=\"font-style: italic\">Stopping tcpdump on any,debug,Stopping some tcpdumps</span><span style=\"font-weight: bold; font-style: italic\">)</span>\n",
       "</pre>\n"
      ],
      "text/plain": [
       "\u001b[1;34mFinished \u001b[0m\u001b[1;34m3\u001b[0m\u001b[1;34m tasks\u001b[0m \u001b[1;3m(\u001b[0m\u001b[3mStopping tcpdump on any,debug,Stopping some tcpdumps\u001b[0m\u001b[1;3m)\u001b[0m\n"
      ]
     },
     "metadata": {},
     "output_type": "display_data"
    },
    {
     "data": {
      "text/html": [
       "<pre style=\"white-space:pre;overflow-x:auto;line-height:normal;font-family:Menlo,'DejaVu Sans Mono',consolas,'Courier New',monospace\"><span style=\"color: #00ff00; text-decoration-color: #00ff00\">─────────────────────────────────────────────────────────────────────────────────────────────</span>\n",
       "</pre>\n"
      ],
      "text/plain": [
       "\u001b[92m─────────────────────────────────────────────────────────────────────────────────────────────\u001b[0m\n"
      ]
     },
     "metadata": {},
     "output_type": "display_data"
    },
    {
     "data": {
      "application/vnd.jupyter.widget-view+json": {
       "model_id": "",
       "version_major": 2,
       "version_minor": 0
      },
      "text/plain": [
       "Output()"
      ]
     },
     "metadata": {},
     "output_type": "display_data"
    },
    {
     "data": {
      "text/html": [
       "<pre style=\"white-space:pre;overflow-x:auto;line-height:normal;font-family:Menlo,'DejaVu Sans Mono',consolas,'Courier New',monospace\"></pre>\n"
      ],
      "text/plain": []
     },
     "metadata": {},
     "output_type": "display_data"
    },
    {
     "data": {
      "text/html": [
       "<pre style=\"white-space:pre;overflow-x:auto;line-height:normal;font-family:Menlo,'DejaVu Sans Mono',consolas,'Courier New',monospace\"><span style=\"color: #000080; text-decoration-color: #000080; font-weight: bold\">Finished </span><span style=\"color: #000080; text-decoration-color: #000080; font-weight: bold\">5</span><span style=\"color: #000080; text-decoration-color: #000080; font-weight: bold\"> tasks</span> <span style=\"font-weight: bold; font-style: italic\">(</span><span style=\"font-style: italic\">Install dependencies </span><span style=\"font-weight: bold; font-style: italic\">(</span><span style=\"font-style: italic\">tcpdump, tmux </span><span style=\"color: #808000; text-decoration-color: #808000; font-style: italic\">...</span><span style=\"font-weight: bold; font-style: italic\">)</span><span style=\"font-style: italic\">,Create output directory,tcpdump </span>\n",
       "<span style=\"font-style: italic\">for any,debug,tcpdump on some interfaces</span><span style=\"font-weight: bold; font-style: italic\">)</span>\n",
       "</pre>\n"
      ],
      "text/plain": [
       "\u001b[1;34mFinished \u001b[0m\u001b[1;34m5\u001b[0m\u001b[1;34m tasks\u001b[0m \u001b[1;3m(\u001b[0m\u001b[3mInstall dependencies \u001b[0m\u001b[1;3m(\u001b[0m\u001b[3mtcpdump, tmux \u001b[0m\u001b[3;33m...\u001b[0m\u001b[1;3m)\u001b[0m\u001b[3m,Create output directory,tcpdump \u001b[0m\n",
       "\u001b[3mfor any,debug,tcpdump on some interfaces\u001b[0m\u001b[1;3m)\u001b[0m\n"
      ]
     },
     "metadata": {},
     "output_type": "display_data"
    },
    {
     "data": {
      "text/html": [
       "<pre style=\"white-space:pre;overflow-x:auto;line-height:normal;font-family:Menlo,'DejaVu Sans Mono',consolas,'Courier New',monospace\"><span style=\"color: #00ff00; text-decoration-color: #00ff00\">─────────────────────────────────────────────────────────────────────────────────────────────</span>\n",
       "</pre>\n"
      ],
      "text/plain": [
       "\u001b[92m─────────────────────────────────────────────────────────────────────────────────────────────\u001b[0m\n"
      ]
     },
     "metadata": {},
     "output_type": "display_data"
    },
    {
     "data": {
      "application/vnd.jupyter.widget-view+json": {
       "model_id": "",
       "version_major": 2,
       "version_minor": 0
      },
      "text/plain": [
       "Output()"
      ]
     },
     "metadata": {},
     "output_type": "display_data"
    },
    {
     "data": {
      "text/html": [
       "<pre style=\"white-space:pre;overflow-x:auto;line-height:normal;font-family:Menlo,'DejaVu Sans Mono',consolas,'Courier New',monospace\"></pre>\n"
      ],
      "text/plain": []
     },
     "metadata": {},
     "output_type": "display_data"
    },
    {
     "data": {
      "text/html": [
       "<pre style=\"white-space:pre;overflow-x:auto;line-height:normal;font-family:Menlo,'DejaVu Sans Mono',consolas,'Courier New',monospace\"><span style=\"color: #000080; text-decoration-color: #000080; font-weight: bold\">Finished </span><span style=\"color: #000080; text-decoration-color: #000080; font-weight: bold\">1</span><span style=\"color: #000080; text-decoration-color: #000080; font-weight: bold\"> tasks</span> <span style=\"font-weight: bold; font-style: italic\">(</span><span style=\"font-style: italic\">ping -c10 parasilo-</span><span style=\"color: #008080; text-decoration-color: #008080; font-weight: bold; font-style: italic\">13.</span><span style=\"font-style: italic\">rennes.grid5000.fr</span><span style=\"font-weight: bold; font-style: italic\">)</span>\n",
       "</pre>\n"
      ],
      "text/plain": [
       "\u001b[1;34mFinished \u001b[0m\u001b[1;34m1\u001b[0m\u001b[1;34m tasks\u001b[0m \u001b[1;3m(\u001b[0m\u001b[3mping -c10 parasilo-\u001b[0m\u001b[1;3;36m13.\u001b[0m\u001b[3mrennes.grid5000.fr\u001b[0m\u001b[1;3m)\u001b[0m\n"
      ]
     },
     "metadata": {},
     "output_type": "display_data"
    },
    {
     "data": {
      "text/html": [
       "<pre style=\"white-space:pre;overflow-x:auto;line-height:normal;font-family:Menlo,'DejaVu Sans Mono',consolas,'Courier New',monospace\"><span style=\"color: #00ff00; text-decoration-color: #00ff00\">─────────────────────────────────────────────────────────────────────────────────────────────</span>\n",
       "</pre>\n"
      ],
      "text/plain": [
       "\u001b[92m─────────────────────────────────────────────────────────────────────────────────────────────\u001b[0m\n"
      ]
     },
     "metadata": {},
     "output_type": "display_data"
    },
    {
     "data": {
      "application/vnd.jupyter.widget-view+json": {
       "model_id": "",
       "version_major": 2,
       "version_minor": 0
      },
      "text/plain": [
       "Output()"
      ]
     },
     "metadata": {},
     "output_type": "display_data"
    },
    {
     "data": {
      "text/html": [
       "<pre style=\"white-space:pre;overflow-x:auto;line-height:normal;font-family:Menlo,'DejaVu Sans Mono',consolas,'Courier New',monospace\"></pre>\n"
      ],
      "text/plain": []
     },
     "metadata": {},
     "output_type": "display_data"
    },
    {
     "data": {
      "text/html": [
       "<pre style=\"white-space:pre;overflow-x:auto;line-height:normal;font-family:Menlo,'DejaVu Sans Mono',consolas,'Courier New',monospace\"><span style=\"color: #000080; text-decoration-color: #000080; font-weight: bold\">Finished </span><span style=\"color: #000080; text-decoration-color: #000080; font-weight: bold\">3</span><span style=\"color: #000080; text-decoration-color: #000080; font-weight: bold\"> tasks</span> <span style=\"font-weight: bold; font-style: italic\">(</span><span style=\"font-style: italic\">Stopping tcpdump on any,debug,Stopping some tcpdumps</span><span style=\"font-weight: bold; font-style: italic\">)</span>\n",
       "</pre>\n"
      ],
      "text/plain": [
       "\u001b[1;34mFinished \u001b[0m\u001b[1;34m3\u001b[0m\u001b[1;34m tasks\u001b[0m \u001b[1;3m(\u001b[0m\u001b[3mStopping tcpdump on any,debug,Stopping some tcpdumps\u001b[0m\u001b[1;3m)\u001b[0m\n"
      ]
     },
     "metadata": {},
     "output_type": "display_data"
    },
    {
     "data": {
      "text/html": [
       "<pre style=\"white-space:pre;overflow-x:auto;line-height:normal;font-family:Menlo,'DejaVu Sans Mono',consolas,'Courier New',monospace\"><span style=\"color: #00ff00; text-decoration-color: #00ff00\">─────────────────────────────────────────────────────────────────────────────────────────────</span>\n",
       "</pre>\n"
      ],
      "text/plain": [
       "\u001b[92m─────────────────────────────────────────────────────────────────────────────────────────────\u001b[0m\n"
      ]
     },
     "metadata": {},
     "output_type": "display_data"
    },
    {
     "data": {
      "application/vnd.jupyter.widget-view+json": {
       "model_id": "",
       "version_major": 2,
       "version_minor": 0
      },
      "text/plain": [
       "Output()"
      ]
     },
     "metadata": {},
     "output_type": "display_data"
    },
    {
     "data": {
      "text/html": [
       "<pre style=\"white-space:pre;overflow-x:auto;line-height:normal;font-family:Menlo,'DejaVu Sans Mono',consolas,'Courier New',monospace\"></pre>\n"
      ],
      "text/plain": []
     },
     "metadata": {},
     "output_type": "display_data"
    },
    {
     "data": {
      "text/html": [
       "<pre style=\"white-space:pre;overflow-x:auto;line-height:normal;font-family:Menlo,'DejaVu Sans Mono',consolas,'Courier New',monospace\"><span style=\"color: #000080; text-decoration-color: #000080; font-weight: bold\">Finished </span><span style=\"color: #000080; text-decoration-color: #000080; font-weight: bold\">2</span><span style=\"color: #000080; text-decoration-color: #000080; font-weight: bold\"> tasks</span> <span style=\"font-weight: bold; font-style: italic\">(</span><span style=\"font-style: italic\">tar -czf tcpdump.tar.gz </span><span style=\"color: #800080; text-decoration-color: #800080; font-style: italic\">/tmp/</span><span style=\"color: #ff00ff; text-decoration-color: #ff00ff; font-style: italic\">__enoslib_tcpdump__</span><span style=\"font-style: italic\">,fetch</span><span style=\"font-weight: bold; font-style: italic\">)</span>\n",
       "</pre>\n"
      ],
      "text/plain": [
       "\u001b[1;34mFinished \u001b[0m\u001b[1;34m2\u001b[0m\u001b[1;34m tasks\u001b[0m \u001b[1;3m(\u001b[0m\u001b[3mtar -czf tcpdump.tar.gz \u001b[0m\u001b[3;35m/tmp/\u001b[0m\u001b[3;95m__enoslib_tcpdump__\u001b[0m\u001b[3m,fetch\u001b[0m\u001b[1;3m)\u001b[0m\n"
      ]
     },
     "metadata": {},
     "output_type": "display_data"
    },
    {
     "data": {
      "text/html": [
       "<pre style=\"white-space:pre;overflow-x:auto;line-height:normal;font-family:Menlo,'DejaVu Sans Mono',consolas,'Courier New',monospace\"><span style=\"color: #00ff00; text-decoration-color: #00ff00\">─────────────────────────────────────────────────────────────────────────────────────────────</span>\n",
       "</pre>\n"
      ],
      "text/plain": [
       "\u001b[92m─────────────────────────────────────────────────────────────────────────────────────────────\u001b[0m\n"
      ]
     },
     "metadata": {},
     "output_type": "display_data"
    }
   ],
   "source": [
    "# start a capture\n",
    "# - on all the interface configured on the my_network network\n",
    "# - we dump icmp traffic only\n",
    "# - for the duration of the commands (here a client is pigging the server)\n",
    "with en.TCPDump(\n",
    "    hosts=roles[\"xp\"], ifnames=[\"any\"], options=\"icmp\"\n",
    ") as t:\n",
    "    backup_dir = t.backup_dir\n",
    "    _ = en.run(f\"ping -c10 {roles['control'][0].address}\", roles[\"agent\"])"
   ]
  },
  {
   "cell_type": "markdown",
   "id": "nervous-joint",
   "metadata": {},
   "source": [
    "### Visualization"
   ]
  },
  {
   "cell_type": "code",
   "execution_count": 9,
   "id": "virtual-memorial",
   "metadata": {},
   "outputs": [
    {
     "name": "stderr",
     "output_type": "stream",
     "text": [
      "WARNING: PcapReader: unknown LL type [276]/[0x114]. Using Raw packets\n"
     ]
    },
    {
     "data": {
      "text/html": [
       "<pre style=\"white-space:pre;overflow-x:auto;line-height:normal;font-family:Menlo,'DejaVu Sans Mono',consolas,'Courier New',monospace\"><span style=\"color: #800000; text-decoration-color: #800000\">WARNING </span> PcapReader: unknown LL type <span style=\"font-weight: bold\">[</span><span style=\"color: #008080; text-decoration-color: #008080; font-weight: bold\">276</span><span style=\"font-weight: bold\">]</span><span style=\"color: #800080; text-decoration-color: #800080\">/</span><span style=\"font-weight: bold\">[</span><span style=\"color: #008080; text-decoration-color: #008080; font-weight: bold\">0x114</span><span style=\"font-weight: bold\">]</span>. Using Raw packets            <a href=\"file:///home/msimonin/.pyenv/versions/3.9.2/envs/enoslib/lib/python3.9/site-packages/scapy/error.py\"><span style=\"color: #7f7f7f; text-decoration-color: #7f7f7f\">error.py</span></a><span style=\"color: #7f7f7f; text-decoration-color: #7f7f7f\">:</span><a href=\"file:///home/msimonin/.pyenv/versions/3.9.2/envs/enoslib/lib/python3.9/site-packages/scapy/error.py#150\"><span style=\"color: #7f7f7f; text-decoration-color: #7f7f7f\">150</span></a>\n",
       "</pre>\n"
      ],
      "text/plain": [
       "\u001b[31mWARNING \u001b[0m PcapReader: unknown LL type \u001b[1m[\u001b[0m\u001b[1;36m276\u001b[0m\u001b[1m]\u001b[0m\u001b[35m/\u001b[0m\u001b[1m[\u001b[0m\u001b[1;36m0x114\u001b[0m\u001b[1m]\u001b[0m. Using Raw packets            \u001b]8;id=349907;file:///home/msimonin/.pyenv/versions/3.9.2/envs/enoslib/lib/python3.9/site-packages/scapy/error.py\u001b\\\u001b[2merror.py\u001b[0m\u001b]8;;\u001b\\\u001b[2m:\u001b[0m\u001b]8;id=43693;file:///home/msimonin/.pyenv/versions/3.9.2/envs/enoslib/lib/python3.9/site-packages/scapy/error.py#150\u001b\\\u001b[2m150\u001b[0m\u001b]8;;\u001b\\\n"
      ]
     },
     "metadata": {},
     "output_type": "display_data"
    },
    {
     "name": "stdout",
     "output_type": "stream",
     "text": [
      "parasilo-13.rennes.grid5000.fr any\n",
      "###[ Raw ]### \n",
      "  load      = '\\x08\\x00\\x00\\x00\\x00\\x00\\x00\\x04\\x00\\x01\\x00\\x06\\\\xec\\\\xf4\\\\xbb\\\\xd1\\x01\\\\xb8\\x00\\x00E\\x00\\x00T\\\\xb8\\\\xb9@\\x00@\\x01g\\\\xb0\\\\xac\\x10a\\x11\\\\xac\\x10a\\r\\x08\\x00j\\\\x85+\\\\xcf\\x00\\x01\\x1b\\\\xbf\\\\xe6a\\x00\\x00\\x00\\x00\\\\x97\\\\xb6\\t\\x00\\x00\\x00\\x00\\x00\\x10\\x11\\x12\\x13\\x14\\x15\\x16\\x17\\x18\\x19\\x1a\\x1b\\x1c\\x1d\\x1e\\x1f !\"#$%&\\'()*+,-./01234567'\n",
      "\n",
      "###[ Raw ]### \n",
      "  load      = '\\x08\\x00\\x00\\x00\\x00\\x00\\x00\\x06\\x00\\x01\\x00\\x06\\\\xec\\\\xf4\\\\xbb\\\\xd1\\x01\\\\xb8\\x00\\x00E\\x00\\x00T\\\\xb8\\\\xb9@\\x00@\\x01g\\\\xb0\\\\xac\\x10a\\x11\\\\xac\\x10a\\r\\x08\\x00j\\\\x85+\\\\xcf\\x00\\x01\\x1b\\\\xbf\\\\xe6a\\x00\\x00\\x00\\x00\\\\x97\\\\xb6\\t\\x00\\x00\\x00\\x00\\x00\\x10\\x11\\x12\\x13\\x14\\x15\\x16\\x17\\x18\\x19\\x1a\\x1b\\x1c\\x1d\\x1e\\x1f !\"#$%&\\'()*+,-./01234567'\n",
      "\n"
     ]
    }
   ],
   "source": [
    "from scapy.all import rdpcap\n",
    "import tarfile\n",
    "# Examples:\n",
    "# create a dictionnary of (alias, if) -> list of decoded packets by scapy\n",
    "decoded_pcaps = dict()\n",
    "for host in roles[\"control\"]:\n",
    "    host_dir = backup_dir / host.alias\n",
    "    t = tarfile.open(host_dir / \"tcpdump.tar.gz\")\n",
    "    t.extractall(host_dir / \"extracted\")\n",
    "    # get all extracted pcap for this host\n",
    "    pcaps = (host_dir / \"extracted\").rglob(\"*.pcap\")\n",
    "    for pcap in pcaps:\n",
    "        decoded_pcaps.setdefault((host.alias, pcap.with_suffix(\"\").name),\n",
    "                                 rdpcap(str(pcap)))\n",
    "\n",
    "# Displaying some packets\n",
    "for (host, ifs), packets in decoded_pcaps.items():\n",
    "    print(host, ifs)\n",
    "    packets[0].show()\n",
    "    packets[1].show()"
   ]
  },
  {
   "cell_type": "markdown",
   "id": "5eae90d4-3f5f-4879-9791-5afab6278383",
   "metadata": {},
   "source": [
    "### Capture on a specific network\n",
    "\n",
    "You can start a capture on a dedicated network by specifying it to TCPDump\n",
    "This will sniff all the packet that go through an interface configured in this specific network\n",
    "You need to call `sync_info` first to enable the translation (network logical name)->interface name"
   ]
  },
  {
   "cell_type": "code",
   "execution_count": 10,
   "id": "281ed635-b2f2-4548-997d-85f32e595593",
   "metadata": {},
   "outputs": [
    {
     "data": {
      "application/vnd.jupyter.widget-view+json": {
       "model_id": "",
       "version_major": 2,
       "version_minor": 0
      },
      "text/plain": [
       "Output()"
      ]
     },
     "metadata": {},
     "output_type": "display_data"
    },
    {
     "data": {
      "text/html": [
       "<pre style=\"white-space:pre;overflow-x:auto;line-height:normal;font-family:Menlo,'DejaVu Sans Mono',consolas,'Courier New',monospace\"></pre>\n"
      ],
      "text/plain": []
     },
     "metadata": {},
     "output_type": "display_data"
    },
    {
     "data": {
      "text/html": [
       "<pre style=\"white-space:pre;overflow-x:auto;line-height:normal;font-family:Menlo,'DejaVu Sans Mono',consolas,'Courier New',monospace\"><span style=\"color: #000080; text-decoration-color: #000080; font-weight: bold\">Finished </span><span style=\"color: #000080; text-decoration-color: #000080; font-weight: bold\">1</span><span style=\"color: #000080; text-decoration-color: #000080; font-weight: bold\"> tasks</span> <span style=\"font-weight: bold; font-style: italic\">(</span><span style=\"font-style: italic\">hostname</span><span style=\"font-weight: bold; font-style: italic\">)</span>\n",
       "</pre>\n"
      ],
      "text/plain": [
       "\u001b[1;34mFinished \u001b[0m\u001b[1;34m1\u001b[0m\u001b[1;34m tasks\u001b[0m \u001b[1;3m(\u001b[0m\u001b[3mhostname\u001b[0m\u001b[1;3m)\u001b[0m\n"
      ]
     },
     "metadata": {},
     "output_type": "display_data"
    },
    {
     "data": {
      "text/html": [
       "<pre style=\"white-space:pre;overflow-x:auto;line-height:normal;font-family:Menlo,'DejaVu Sans Mono',consolas,'Courier New',monospace\"><span style=\"color: #00ff00; text-decoration-color: #00ff00\">─────────────────────────────────────────────────────────────────────────────────────────────</span>\n",
       "</pre>\n"
      ],
      "text/plain": [
       "\u001b[92m─────────────────────────────────────────────────────────────────────────────────────────────\u001b[0m\n"
      ]
     },
     "metadata": {},
     "output_type": "display_data"
    },
    {
     "data": {
      "application/vnd.jupyter.widget-view+json": {
       "model_id": "",
       "version_major": 2,
       "version_minor": 0
      },
      "text/plain": [
       "Output()"
      ]
     },
     "metadata": {},
     "output_type": "display_data"
    },
    {
     "data": {
      "text/html": [
       "<pre style=\"white-space:pre;overflow-x:auto;line-height:normal;font-family:Menlo,'DejaVu Sans Mono',consolas,'Courier New',monospace\"></pre>\n"
      ],
      "text/plain": []
     },
     "metadata": {},
     "output_type": "display_data"
    },
    {
     "data": {
      "text/html": [
       "<pre style=\"white-space:pre;overflow-x:auto;line-height:normal;font-family:Menlo,'DejaVu Sans Mono',consolas,'Courier New',monospace\"><span style=\"color: #000080; text-decoration-color: #000080; font-weight: bold\">Finished </span><span style=\"color: #000080; text-decoration-color: #000080; font-weight: bold\">6</span><span style=\"color: #000080; text-decoration-color: #000080; font-weight: bold\"> tasks</span> <span style=\"font-weight: bold; font-style: italic\">(</span><span style=\"font-style: italic\">Gathering Facts,setup,utils : include,utils : Dump network information in a</span>\n",
       "<span style=\"font-style: italic\">file,utils : Create the fake interfaces</span><span style=\"font-weight: bold; font-style: italic\">)</span>\n",
       "</pre>\n"
      ],
      "text/plain": [
       "\u001b[1;34mFinished \u001b[0m\u001b[1;34m6\u001b[0m\u001b[1;34m tasks\u001b[0m \u001b[1;3m(\u001b[0m\u001b[3mGathering Facts,setup,utils : include,utils : Dump network information in a\u001b[0m\n",
       "\u001b[3mfile,utils : Create the fake interfaces\u001b[0m\u001b[1;3m)\u001b[0m\n"
      ]
     },
     "metadata": {},
     "output_type": "display_data"
    },
    {
     "data": {
      "text/html": [
       "<pre style=\"white-space:pre;overflow-x:auto;line-height:normal;font-family:Menlo,'DejaVu Sans Mono',consolas,'Courier New',monospace\"><span style=\"color: #00ff00; text-decoration-color: #00ff00\">─────────────────────────────────────────────────────────────────────────────────────────────</span>\n",
       "</pre>\n"
      ],
      "text/plain": [
       "\u001b[92m─────────────────────────────────────────────────────────────────────────────────────────────\u001b[0m\n"
      ]
     },
     "metadata": {},
     "output_type": "display_data"
    }
   ],
   "source": [
    "roles = en.sync_info(roles, networks)"
   ]
  },
  {
   "cell_type": "code",
   "execution_count": 11,
   "id": "3d9815b9-4602-44e8-9992-60445424cf22",
   "metadata": {},
   "outputs": [
    {
     "data": {
      "application/vnd.jupyter.widget-view+json": {
       "model_id": "",
       "version_major": 2,
       "version_minor": 0
      },
      "text/plain": [
       "Output()"
      ]
     },
     "metadata": {},
     "output_type": "display_data"
    },
    {
     "data": {
      "text/html": [
       "<pre style=\"white-space:pre;overflow-x:auto;line-height:normal;font-family:Menlo,'DejaVu Sans Mono',consolas,'Courier New',monospace\"></pre>\n"
      ],
      "text/plain": []
     },
     "metadata": {},
     "output_type": "display_data"
    },
    {
     "data": {
      "text/html": [
       "<pre style=\"white-space:pre;overflow-x:auto;line-height:normal;font-family:Menlo,'DejaVu Sans Mono',consolas,'Courier New',monospace\"><span style=\"color: #000080; text-decoration-color: #000080; font-weight: bold\">Finished </span><span style=\"color: #000080; text-decoration-color: #000080; font-weight: bold\">2</span><span style=\"color: #000080; text-decoration-color: #000080; font-weight: bold\"> tasks</span> <span style=\"font-weight: bold; font-style: italic\">(</span><span style=\"font-style: italic\">debug,Stopping some tcpdumps</span><span style=\"font-weight: bold; font-style: italic\">)</span>\n",
       "</pre>\n"
      ],
      "text/plain": [
       "\u001b[1;34mFinished \u001b[0m\u001b[1;34m2\u001b[0m\u001b[1;34m tasks\u001b[0m \u001b[1;3m(\u001b[0m\u001b[3mdebug,Stopping some tcpdumps\u001b[0m\u001b[1;3m)\u001b[0m\n"
      ]
     },
     "metadata": {},
     "output_type": "display_data"
    },
    {
     "data": {
      "text/html": [
       "<pre style=\"white-space:pre;overflow-x:auto;line-height:normal;font-family:Menlo,'DejaVu Sans Mono',consolas,'Courier New',monospace\"><span style=\"color: #00ff00; text-decoration-color: #00ff00\">─────────────────────────────────────────────────────────────────────────────────────────────</span>\n",
       "</pre>\n"
      ],
      "text/plain": [
       "\u001b[92m─────────────────────────────────────────────────────────────────────────────────────────────\u001b[0m\n"
      ]
     },
     "metadata": {},
     "output_type": "display_data"
    },
    {
     "data": {
      "application/vnd.jupyter.widget-view+json": {
       "model_id": "",
       "version_major": 2,
       "version_minor": 0
      },
      "text/plain": [
       "Output()"
      ]
     },
     "metadata": {},
     "output_type": "display_data"
    },
    {
     "data": {
      "text/html": [
       "<pre style=\"white-space:pre;overflow-x:auto;line-height:normal;font-family:Menlo,'DejaVu Sans Mono',consolas,'Courier New',monospace\"></pre>\n"
      ],
      "text/plain": []
     },
     "metadata": {},
     "output_type": "display_data"
    },
    {
     "data": {
      "text/html": [
       "<pre style=\"white-space:pre;overflow-x:auto;line-height:normal;font-family:Menlo,'DejaVu Sans Mono',consolas,'Courier New',monospace\"><span style=\"color: #000080; text-decoration-color: #000080; font-weight: bold\">Finished </span><span style=\"color: #000080; text-decoration-color: #000080; font-weight: bold\">4</span><span style=\"color: #000080; text-decoration-color: #000080; font-weight: bold\"> tasks</span> <span style=\"font-weight: bold; font-style: italic\">(</span><span style=\"font-style: italic\">Install dependencies </span><span style=\"font-weight: bold; font-style: italic\">(</span><span style=\"font-style: italic\">tcpdump, tmux </span><span style=\"color: #808000; text-decoration-color: #808000; font-style: italic\">...</span><span style=\"font-weight: bold; font-style: italic\">)</span><span style=\"font-style: italic\">,Create output </span>\n",
       "<span style=\"font-style: italic\">directory,debug,tcpdump on some interfaces</span><span style=\"font-weight: bold; font-style: italic\">)</span>\n",
       "</pre>\n"
      ],
      "text/plain": [
       "\u001b[1;34mFinished \u001b[0m\u001b[1;34m4\u001b[0m\u001b[1;34m tasks\u001b[0m \u001b[1;3m(\u001b[0m\u001b[3mInstall dependencies \u001b[0m\u001b[1;3m(\u001b[0m\u001b[3mtcpdump, tmux \u001b[0m\u001b[3;33m...\u001b[0m\u001b[1;3m)\u001b[0m\u001b[3m,Create output \u001b[0m\n",
       "\u001b[3mdirectory,debug,tcpdump on some interfaces\u001b[0m\u001b[1;3m)\u001b[0m\n"
      ]
     },
     "metadata": {},
     "output_type": "display_data"
    },
    {
     "data": {
      "text/html": [
       "<pre style=\"white-space:pre;overflow-x:auto;line-height:normal;font-family:Menlo,'DejaVu Sans Mono',consolas,'Courier New',monospace\"><span style=\"color: #00ff00; text-decoration-color: #00ff00\">─────────────────────────────────────────────────────────────────────────────────────────────</span>\n",
       "</pre>\n"
      ],
      "text/plain": [
       "\u001b[92m─────────────────────────────────────────────────────────────────────────────────────────────\u001b[0m\n"
      ]
     },
     "metadata": {},
     "output_type": "display_data"
    },
    {
     "data": {
      "application/vnd.jupyter.widget-view+json": {
       "model_id": "",
       "version_major": 2,
       "version_minor": 0
      },
      "text/plain": [
       "Output()"
      ]
     },
     "metadata": {},
     "output_type": "display_data"
    },
    {
     "data": {
      "text/html": [
       "<pre style=\"white-space:pre;overflow-x:auto;line-height:normal;font-family:Menlo,'DejaVu Sans Mono',consolas,'Courier New',monospace\"></pre>\n"
      ],
      "text/plain": []
     },
     "metadata": {},
     "output_type": "display_data"
    },
    {
     "data": {
      "text/html": [
       "<pre style=\"white-space:pre;overflow-x:auto;line-height:normal;font-family:Menlo,'DejaVu Sans Mono',consolas,'Courier New',monospace\"><span style=\"color: #000080; text-decoration-color: #000080; font-weight: bold\">Finished </span><span style=\"color: #000080; text-decoration-color: #000080; font-weight: bold\">1</span><span style=\"color: #000080; text-decoration-color: #000080; font-weight: bold\"> tasks</span> <span style=\"font-weight: bold; font-style: italic\">(</span><span style=\"font-style: italic\">ping -c10 parasilo-</span><span style=\"color: #008080; text-decoration-color: #008080; font-weight: bold; font-style: italic\">13.</span><span style=\"font-style: italic\">rennes.grid5000.fr</span><span style=\"font-weight: bold; font-style: italic\">)</span>\n",
       "</pre>\n"
      ],
      "text/plain": [
       "\u001b[1;34mFinished \u001b[0m\u001b[1;34m1\u001b[0m\u001b[1;34m tasks\u001b[0m \u001b[1;3m(\u001b[0m\u001b[3mping -c10 parasilo-\u001b[0m\u001b[1;3;36m13.\u001b[0m\u001b[3mrennes.grid5000.fr\u001b[0m\u001b[1;3m)\u001b[0m\n"
      ]
     },
     "metadata": {},
     "output_type": "display_data"
    },
    {
     "data": {
      "text/html": [
       "<pre style=\"white-space:pre;overflow-x:auto;line-height:normal;font-family:Menlo,'DejaVu Sans Mono',consolas,'Courier New',monospace\"><span style=\"color: #00ff00; text-decoration-color: #00ff00\">─────────────────────────────────────────────────────────────────────────────────────────────</span>\n",
       "</pre>\n"
      ],
      "text/plain": [
       "\u001b[92m─────────────────────────────────────────────────────────────────────────────────────────────\u001b[0m\n"
      ]
     },
     "metadata": {},
     "output_type": "display_data"
    },
    {
     "data": {
      "application/vnd.jupyter.widget-view+json": {
       "model_id": "",
       "version_major": 2,
       "version_minor": 0
      },
      "text/plain": [
       "Output()"
      ]
     },
     "metadata": {},
     "output_type": "display_data"
    },
    {
     "data": {
      "text/html": [
       "<pre style=\"white-space:pre;overflow-x:auto;line-height:normal;font-family:Menlo,'DejaVu Sans Mono',consolas,'Courier New',monospace\"></pre>\n"
      ],
      "text/plain": []
     },
     "metadata": {},
     "output_type": "display_data"
    },
    {
     "data": {
      "text/html": [
       "<pre style=\"white-space:pre;overflow-x:auto;line-height:normal;font-family:Menlo,'DejaVu Sans Mono',consolas,'Courier New',monospace\"><span style=\"color: #000080; text-decoration-color: #000080; font-weight: bold\">Finished </span><span style=\"color: #000080; text-decoration-color: #000080; font-weight: bold\">2</span><span style=\"color: #000080; text-decoration-color: #000080; font-weight: bold\"> tasks</span> <span style=\"font-weight: bold; font-style: italic\">(</span><span style=\"font-style: italic\">debug,Stopping some tcpdumps</span><span style=\"font-weight: bold; font-style: italic\">)</span>\n",
       "</pre>\n"
      ],
      "text/plain": [
       "\u001b[1;34mFinished \u001b[0m\u001b[1;34m2\u001b[0m\u001b[1;34m tasks\u001b[0m \u001b[1;3m(\u001b[0m\u001b[3mdebug,Stopping some tcpdumps\u001b[0m\u001b[1;3m)\u001b[0m\n"
      ]
     },
     "metadata": {},
     "output_type": "display_data"
    },
    {
     "data": {
      "text/html": [
       "<pre style=\"white-space:pre;overflow-x:auto;line-height:normal;font-family:Menlo,'DejaVu Sans Mono',consolas,'Courier New',monospace\"><span style=\"color: #00ff00; text-decoration-color: #00ff00\">─────────────────────────────────────────────────────────────────────────────────────────────</span>\n",
       "</pre>\n"
      ],
      "text/plain": [
       "\u001b[92m─────────────────────────────────────────────────────────────────────────────────────────────\u001b[0m\n"
      ]
     },
     "metadata": {},
     "output_type": "display_data"
    },
    {
     "data": {
      "application/vnd.jupyter.widget-view+json": {
       "model_id": "",
       "version_major": 2,
       "version_minor": 0
      },
      "text/plain": [
       "Output()"
      ]
     },
     "metadata": {},
     "output_type": "display_data"
    },
    {
     "data": {
      "text/html": [
       "<pre style=\"white-space:pre;overflow-x:auto;line-height:normal;font-family:Menlo,'DejaVu Sans Mono',consolas,'Courier New',monospace\"></pre>\n"
      ],
      "text/plain": []
     },
     "metadata": {},
     "output_type": "display_data"
    },
    {
     "data": {
      "text/html": [
       "<pre style=\"white-space:pre;overflow-x:auto;line-height:normal;font-family:Menlo,'DejaVu Sans Mono',consolas,'Courier New',monospace\"><span style=\"color: #000080; text-decoration-color: #000080; font-weight: bold\">Finished </span><span style=\"color: #000080; text-decoration-color: #000080; font-weight: bold\">2</span><span style=\"color: #000080; text-decoration-color: #000080; font-weight: bold\"> tasks</span> <span style=\"font-weight: bold; font-style: italic\">(</span><span style=\"font-style: italic\">tar -czf tcpdump.tar.gz </span><span style=\"color: #800080; text-decoration-color: #800080; font-style: italic\">/tmp/</span><span style=\"color: #ff00ff; text-decoration-color: #ff00ff; font-style: italic\">__enoslib_tcpdump__</span><span style=\"font-style: italic\">,fetch</span><span style=\"font-weight: bold; font-style: italic\">)</span>\n",
       "</pre>\n"
      ],
      "text/plain": [
       "\u001b[1;34mFinished \u001b[0m\u001b[1;34m2\u001b[0m\u001b[1;34m tasks\u001b[0m \u001b[1;3m(\u001b[0m\u001b[3mtar -czf tcpdump.tar.gz \u001b[0m\u001b[3;35m/tmp/\u001b[0m\u001b[3;95m__enoslib_tcpdump__\u001b[0m\u001b[3m,fetch\u001b[0m\u001b[1;3m)\u001b[0m\n"
      ]
     },
     "metadata": {},
     "output_type": "display_data"
    },
    {
     "data": {
      "text/html": [
       "<pre style=\"white-space:pre;overflow-x:auto;line-height:normal;font-family:Menlo,'DejaVu Sans Mono',consolas,'Courier New',monospace\"><span style=\"color: #00ff00; text-decoration-color: #00ff00\">─────────────────────────────────────────────────────────────────────────────────────────────</span>\n",
       "</pre>\n"
      ],
      "text/plain": [
       "\u001b[92m─────────────────────────────────────────────────────────────────────────────────────────────\u001b[0m\n"
      ]
     },
     "metadata": {},
     "output_type": "display_data"
    }
   ],
   "source": [
    "# start a capture\n",
    "# - on all the interface configured on the my_network network\n",
    "# - we dump icmp traffic only\n",
    "# - for the duration of the commands (here a client is pigging the server)\n",
    "with en.TCPDump(\n",
    "    hosts=roles[\"xp\"], networks=networks[\"my_network\"], options=\"icmp\"\n",
    ") as t:\n",
    "    backup_dir = t.backup_dir\n",
    "    _ = en.run(f\"ping -c10 {roles['control'][0].address}\", roles[\"agent\"])"
   ]
  },
  {
   "cell_type": "markdown",
   "id": "fatal-center",
   "metadata": {},
   "source": [
    "## Monitoring with Telegraf/[InfluxDB|prometheus]/grafana "
   ]
  },
  {
   "cell_type": "code",
   "execution_count": 12,
   "id": "finished-individual",
   "metadata": {},
   "outputs": [
    {
     "data": {
      "text/plain": [
       "<enoslib.service.monitoring.monitoring.TIGMonitoring at 0x7f222283ec40>"
      ]
     },
     "execution_count": 12,
     "metadata": {},
     "output_type": "execute_result"
    }
   ],
   "source": [
    "monitoring = en.TIGMonitoring(collector=roles[\"control\"][0], agent=roles[\"agent\"], ui=roles[\"control\"][0])\n",
    "monitoring"
   ]
  },
  {
   "cell_type": "code",
   "execution_count": 13,
   "id": "982e398e-c0da-4451-b0e8-b074262295ad",
   "metadata": {},
   "outputs": [
    {
     "data": {
      "application/vnd.jupyter.widget-view+json": {
       "model_id": "",
       "version_major": 2,
       "version_minor": 0
      },
      "text/plain": [
       "Output()"
      ]
     },
     "metadata": {},
     "output_type": "display_data"
    },
    {
     "data": {
      "text/html": [
       "<pre style=\"white-space:pre;overflow-x:auto;line-height:normal;font-family:Menlo,'DejaVu Sans Mono',consolas,'Courier New',monospace\"><span style=\"color: #800080; text-decoration-color: #800080; font-weight: bold\">[WARNING]: Could not match supplied host pattern, ignoring: prometheus</span>\n",
       "</pre>\n"
      ],
      "text/plain": [
       "\u001b[1;35m[WARNING]: Could not match supplied host pattern, ignoring: prometheus\u001b[0m\n"
      ]
     },
     "metadata": {},
     "output_type": "display_data"
    },
    {
     "data": {
      "text/html": [
       "<pre style=\"white-space:pre;overflow-x:auto;line-height:normal;font-family:Menlo,'DejaVu Sans Mono',consolas,'Courier New',monospace\"></pre>\n"
      ],
      "text/plain": []
     },
     "metadata": {},
     "output_type": "display_data"
    },
    {
     "data": {
      "text/html": [
       "<pre style=\"white-space:pre;overflow-x:auto;line-height:normal;font-family:Menlo,'DejaVu Sans Mono',consolas,'Courier New',monospace\"><span style=\"color: #000080; text-decoration-color: #000080; font-weight: bold\">Finished </span><span style=\"color: #000080; text-decoration-color: #000080; font-weight: bold\">38</span><span style=\"color: #000080; text-decoration-color: #000080; font-weight: bold\"> tasks</span> <span style=\"font-weight: bold; font-style: italic\">(</span><span style=\"font-style: italic\">Gathering Facts,Gather facts on all hosts,python3 : Install python3,docker</span>\n",
       "<span style=\"font-style: italic\">: Install docker,docker : Installing python-docker,telegraf : include,telegraf : Host </span>\n",
       "<span style=\"font-style: italic\">architecture,telegraf : include_tasks,telegraf : Detecting GPU and specific runtime,telegraf </span>\n",
       "<span style=\"font-style: italic\">: To support GPU metrics you need an nvidia card and the nvidia-container-toolkit </span>\n",
       "<span style=\"font-style: italic\">installed,telegraf : </span><span style=\"font-weight: bold; font-style: italic\">(</span><span style=\"font-style: italic\">gpu</span><span style=\"font-weight: bold; font-style: italic\">)</span><span style=\"font-style: italic\"> Preparing agents,telegraf : </span><span style=\"font-weight: bold; font-style: italic\">(</span><span style=\"font-style: italic\">non gpu</span><span style=\"font-weight: bold; font-style: italic\">)</span><span style=\"font-style: italic\"> Preparing agents,telegraf : </span>\n",
       "<span style=\"font-style: italic\">Creating remote directory,telegraf : Generating the configuration file,telegraf : Installing </span>\n",
       "<span style=\"font-style: italic\">Telegraf,influxdb : include,influxdb : Installing InfluxDB,influxdb : Waiting for InfluxDB to</span>\n",
       "<span style=\"font-style: italic\">be ready,grafana : include,grafana : Installing Grafana,grafana : Waiting for grafana to be </span>\n",
       "<span style=\"font-style: italic\">ready,grafana : Add Collector </span><span style=\"font-weight: bold; font-style: italic\">(</span><span style=\"font-style: italic\">Influxdb</span><span style=\"font-weight: bold; font-style: italic\">)</span><span style=\"font-style: italic\"> in Grafana,grafana : Add Collector </span><span style=\"font-weight: bold; font-style: italic\">(</span><span style=\"font-style: italic\">Prometheus</span><span style=\"font-weight: bold; font-style: italic\">)</span><span style=\"font-style: italic\"> in </span>\n",
       "<span style=\"font-style: italic\">Grafana</span><span style=\"font-weight: bold; font-style: italic\">)</span>\n",
       "</pre>\n"
      ],
      "text/plain": [
       "\u001b[1;34mFinished \u001b[0m\u001b[1;34m38\u001b[0m\u001b[1;34m tasks\u001b[0m \u001b[1;3m(\u001b[0m\u001b[3mGathering Facts,Gather facts on all hosts,python3 : Install python3,docker\u001b[0m\n",
       "\u001b[3m: Install docker,docker : Installing python-docker,telegraf : include,telegraf : Host \u001b[0m\n",
       "\u001b[3marchitecture,telegraf : include_tasks,telegraf : Detecting GPU and specific runtime,telegraf \u001b[0m\n",
       "\u001b[3m: To support GPU metrics you need an nvidia card and the nvidia-container-toolkit \u001b[0m\n",
       "\u001b[3minstalled,telegraf : \u001b[0m\u001b[1;3m(\u001b[0m\u001b[3mgpu\u001b[0m\u001b[1;3m)\u001b[0m\u001b[3m Preparing agents,telegraf : \u001b[0m\u001b[1;3m(\u001b[0m\u001b[3mnon gpu\u001b[0m\u001b[1;3m)\u001b[0m\u001b[3m Preparing agents,telegraf : \u001b[0m\n",
       "\u001b[3mCreating remote directory,telegraf : Generating the configuration file,telegraf : Installing \u001b[0m\n",
       "\u001b[3mTelegraf,influxdb : include,influxdb : Installing InfluxDB,influxdb : Waiting for InfluxDB to\u001b[0m\n",
       "\u001b[3mbe ready,grafana : include,grafana : Installing Grafana,grafana : Waiting for grafana to be \u001b[0m\n",
       "\u001b[3mready,grafana : Add Collector \u001b[0m\u001b[1;3m(\u001b[0m\u001b[3mInfluxdb\u001b[0m\u001b[1;3m)\u001b[0m\u001b[3m in Grafana,grafana : Add Collector \u001b[0m\u001b[1;3m(\u001b[0m\u001b[3mPrometheus\u001b[0m\u001b[1;3m)\u001b[0m\u001b[3m in \u001b[0m\n",
       "\u001b[3mGrafana\u001b[0m\u001b[1;3m)\u001b[0m\n"
      ]
     },
     "metadata": {},
     "output_type": "display_data"
    },
    {
     "data": {
      "text/html": [
       "<pre style=\"white-space:pre;overflow-x:auto;line-height:normal;font-family:Menlo,'DejaVu Sans Mono',consolas,'Courier New',monospace\"><span style=\"color: #00ff00; text-decoration-color: #00ff00\">─────────────────────────────────────────────────────────────────────────────────────────────</span>\n",
       "</pre>\n"
      ],
      "text/plain": [
       "\u001b[92m─────────────────────────────────────────────────────────────────────────────────────────────\u001b[0m\n"
      ]
     },
     "metadata": {},
     "output_type": "display_data"
    }
   ],
   "source": [
    "monitoring.deploy()"
   ]
  },
  {
   "cell_type": "code",
   "execution_count": 14,
   "id": "fossil-closer",
   "metadata": {},
   "outputs": [
    {
     "data": {
      "application/vnd.jupyter.widget-view+json": {
       "model_id": "",
       "version_major": 2,
       "version_minor": 0
      },
      "text/plain": [
       "Output()"
      ]
     },
     "metadata": {},
     "output_type": "display_data"
    },
    {
     "data": {
      "text/html": [
       "<pre style=\"white-space:pre;overflow-x:auto;line-height:normal;font-family:Menlo,'DejaVu Sans Mono',consolas,'Courier New',monospace\"></pre>\n"
      ],
      "text/plain": []
     },
     "metadata": {},
     "output_type": "display_data"
    },
    {
     "data": {
      "text/html": [
       "<pre style=\"white-space:pre;overflow-x:auto;line-height:normal;font-family:Menlo,'DejaVu Sans Mono',consolas,'Courier New',monospace\"><span style=\"color: #000080; text-decoration-color: #000080; font-weight: bold\">Finished </span><span style=\"color: #000080; text-decoration-color: #000080; font-weight: bold\">1</span><span style=\"color: #000080; text-decoration-color: #000080; font-weight: bold\"> tasks</span> <span style=\"font-weight: bold; font-style: italic\">(</span><span style=\"font-style: italic\">stress --cpu </span><span style=\"color: #008080; text-decoration-color: #008080; font-weight: bold; font-style: italic\">4</span><span style=\"font-style: italic\"> --timeout </span><span style=\"color: #008080; text-decoration-color: #008080; font-weight: bold; font-style: italic\">60</span><span style=\"font-weight: bold; font-style: italic\">)</span>\n",
       "</pre>\n"
      ],
      "text/plain": [
       "\u001b[1;34mFinished \u001b[0m\u001b[1;34m1\u001b[0m\u001b[1;34m tasks\u001b[0m \u001b[1;3m(\u001b[0m\u001b[3mstress --cpu \u001b[0m\u001b[1;3;36m4\u001b[0m\u001b[3m --timeout \u001b[0m\u001b[1;3;36m60\u001b[0m\u001b[1;3m)\u001b[0m\n"
      ]
     },
     "metadata": {},
     "output_type": "display_data"
    },
    {
     "data": {
      "text/html": [
       "<pre style=\"white-space:pre;overflow-x:auto;line-height:normal;font-family:Menlo,'DejaVu Sans Mono',consolas,'Courier New',monospace\"><span style=\"color: #00ff00; text-decoration-color: #00ff00\">─────────────────────────────────────────────────────────────────────────────────────────────</span>\n",
       "</pre>\n"
      ],
      "text/plain": [
       "\u001b[92m─────────────────────────────────────────────────────────────────────────────────────────────\u001b[0m\n"
      ]
     },
     "metadata": {},
     "output_type": "display_data"
    },
    {
     "data": {
      "text/html": [
       "\n",
       "        <style> .enoslib {\n",
       "    width: auto;\n",
       "}\n",
       "\n",
       ".enoslib_object {\n",
       "    width: auto;\n",
       "    font-size: 1em;\n",
       "    line-height: 1.5;\n",
       "    background-color: rgb(250, 249, 249);\n",
       "    font-family: 'Segoe UI';\n",
       "    color: black;\n",
       "}\n",
       "\n",
       ".enoslib_object ul {\n",
       "    padding: 0;\n",
       "}\n",
       "\n",
       ".enoslib_object input+label {\n",
       "    margin-bottom: 0%;\n",
       "}\n",
       "\n",
       ".object_name {\n",
       "    padding: 6px 0 6px 3px;\n",
       "    border-bottom-width: 1px;\n",
       "    border-bottom-style: solid;\n",
       "    border-bottom-color: #777;\n",
       "    color: #555;\n",
       "}\n",
       "\n",
       ".object_name>div,\n",
       ".object_name>ul {\n",
       "    display: inline;\n",
       "    margin-top: 0;\n",
       "    margin-bottom: 0;\n",
       "}\n",
       "\n",
       "ul.enoslist {\n",
       "    list-style: none !important;\n",
       "    padding: 3px !important;\n",
       "    margin: 0 !important;\n",
       "}\n",
       "\n",
       "input.att+label {\n",
       "    display: inline-block;\n",
       "    /*width: 140px;*/\n",
       "    color: rgb(36, 35, 35);\n",
       "    font-weight: 500;\n",
       "    padding: 4px 0 2px 0;\n",
       "}\n",
       "\n",
       "input.att:enabled+label {\n",
       "    cursor: pointer;\n",
       "    width: auto;\n",
       "}\n",
       "\n",
       "input.att {\n",
       "    display: none;\n",
       "}\n",
       "\n",
       "input.att+label:before {\n",
       "    display: inline-block;\n",
       "    content: '►';\n",
       "    font-size: 11px;\n",
       "    width: 15px;\n",
       "    text-align: center;\n",
       "}\n",
       "\n",
       "input.att:checked+label:before {\n",
       "    content: '▼';\n",
       "}\n",
       "\n",
       "input.att:disabled+label:before {\n",
       "    content: none;\n",
       "}\n",
       "\n",
       "input.att+label>span {\n",
       "    display: inline-block;\n",
       "    margin-left: 4px;\n",
       "}\n",
       "\n",
       "input.att+label>span.len {\n",
       "    font-size: small;\n",
       "}\n",
       "\n",
       "input.att:checked+label>span.len {\n",
       "    display: none;\n",
       "}\n",
       "\n",
       "label+span {\n",
       "    color: rgb(70, 69, 69);\n",
       "}\n",
       "\n",
       "input.att~ul {\n",
       "    display: none;\n",
       "}\n",
       "\n",
       "input.att:checked~ul {\n",
       "    display: block;\n",
       "}\n",
       "\n",
       "table {\n",
       "    width: auto;\n",
       "    border-collapse: collapse;\n",
       "    margin: 2%;\n",
       "}\n",
       "\n",
       "td,\n",
       "th {\n",
       "    padding: 8px;\n",
       "    height: 15px;\n",
       "    font-size: small;\n",
       "}\n",
       "\n",
       "td {\n",
       "    text-align: left !important;\n",
       "    color: rgb(160, 160, 160)\n",
       "}\n",
       "\n",
       "th {\n",
       "    text-align: center;\n",
       "    color: black;\n",
       "}\n",
       "\n",
       "input~ul {\n",
       "    position: relative;\n",
       "    left: 25px;\n",
       "}\n",
       "\n",
       "input.att~table {\n",
       "    display: none;\n",
       "}\n",
       "\n",
       "input.att:checked~table {\n",
       "    display: block;\n",
       "} </style>\n",
       "        <div class=\"enoslib\">\n",
       "        <div class=\"enoslib_object\">\n",
       "            <div class=\"object_name\">\n",
       "                &lt;class &#x27;enoslib.api.Results&#x27;&gt;\n",
       "            </div>\n",
       "            <ul class=\"enoslist\">\n",
       "                <table><thead><tr><th>host</th><th>task</th><th>status</th><th>payload</th></tr></thead><tbody><tr><td>parasilo-17.rennes.grid5000.fr</td><td>stress --cpu 4 --timeout 60</td><td>OK</td><td><table><tr><th>results_file</th><td>/root/.ansible_async/536562860575.19468</td></tr><tr><th>ansible_job_id</th><td>536562860575.19468</td></tr></table></td></tr></tbody></table>\n",
       "            </ul>\n",
       "                </div>\n",
       "        </div>\n",
       "    "
      ],
      "text/plain": [
       "AsyncCommandResult(host='parasilo-17.rennes.grid5000.fr', task='stress --cpu 4 --timeout 60', status='OK', payload={'started': 1, 'finished': 0, 'ansible_job_id': '536562860575.19468', 'results_file': '/root/.ansible_async/536562860575.19468', 'changed': True, '_ansible_no_log': False})"
      ]
     },
     "execution_count": 14,
     "metadata": {},
     "output_type": "execute_result"
    }
   ],
   "source": [
    "en.run_command(\"stress --cpu 4 --timeout 60\", roles=roles[\"agent\"], background=True)"
   ]
  },
  {
   "cell_type": "code",
   "execution_count": 15,
   "id": "canadian-maryland",
   "metadata": {},
   "outputs": [
    {
     "name": "stderr",
     "output_type": "stream",
     "text": [
      "2022-01-18 14:26:06,833| ERROR   | Password is required for key /home/msimonin/.ssh/id_rsa\n"
     ]
    },
    {
     "data": {
      "text/html": [
       "<pre style=\"white-space:pre;overflow-x:auto;line-height:normal;font-family:Menlo,'DejaVu Sans Mono',consolas,'Courier New',monospace\"><span style=\"color: #800000; text-decoration-color: #800000; font-weight: bold\">ERROR   </span> Password is required for key <span style=\"color: #800080; text-decoration-color: #800080\">/home/msimonin/.ssh/</span><span style=\"color: #ff00ff; text-decoration-color: #ff00ff\">id_rsa</span>            <a href=\"file:///home/msimonin/.pyenv/versions/3.9.2/envs/enoslib/lib/python3.9/site-packages/sshtunnel.py\"><span style=\"color: #7f7f7f; text-decoration-color: #7f7f7f\">sshtunnel.py</span></a><span style=\"color: #7f7f7f; text-decoration-color: #7f7f7f\">:</span><a href=\"file:///home/msimonin/.pyenv/versions/3.9.2/envs/enoslib/lib/python3.9/site-packages/sshtunnel.py#1314\"><span style=\"color: #7f7f7f; text-decoration-color: #7f7f7f\">1314</span></a>\n",
       "</pre>\n"
      ],
      "text/plain": [
       "\u001b[1;31mERROR   \u001b[0m Password is required for key \u001b[35m/home/msimonin/.ssh/\u001b[0m\u001b[95mid_rsa\u001b[0m            \u001b]8;id=571706;file:///home/msimonin/.pyenv/versions/3.9.2/envs/enoslib/lib/python3.9/site-packages/sshtunnel.py\u001b\\\u001b[2msshtunnel.py\u001b[0m\u001b]8;;\u001b\\\u001b[2m:\u001b[0m\u001b]8;id=653626;file:///home/msimonin/.pyenv/versions/3.9.2/envs/enoslib/lib/python3.9/site-packages/sshtunnel.py#1314\u001b\\\u001b[2m1314\u001b[0m\u001b]8;;\u001b\\\n"
      ]
     },
     "metadata": {},
     "output_type": "display_data"
    },
    {
     "data": {
      "text/html": [
       "<pre style=\"white-space:pre;overflow-x:auto;line-height:normal;font-family:Menlo,'DejaVu Sans Mono',consolas,'Courier New',monospace\"><span style=\"color: #000080; text-decoration-color: #000080\">INFO    </span> Connected <span style=\"font-weight: bold\">(</span>version <span style=\"color: #008080; text-decoration-color: #008080; font-weight: bold\">2.0</span>, client OpenSSH_7.4p1<span style=\"font-weight: bold\">)</span>                      <a href=\"file:///home/msimonin/.pyenv/versions/3.9.2/envs/enoslib/lib/python3.9/site-packages/paramiko/transport.py\"><span style=\"color: #7f7f7f; text-decoration-color: #7f7f7f\">transport.py</span></a><span style=\"color: #7f7f7f; text-decoration-color: #7f7f7f\">:</span><a href=\"file:///home/msimonin/.pyenv/versions/3.9.2/envs/enoslib/lib/python3.9/site-packages/paramiko/transport.py#1819\"><span style=\"color: #7f7f7f; text-decoration-color: #7f7f7f\">1819</span></a>\n",
       "</pre>\n"
      ],
      "text/plain": [
       "\u001b[34mINFO    \u001b[0m Connected \u001b[1m(\u001b[0mversion \u001b[1;36m2.0\u001b[0m, client OpenSSH_7.4p1\u001b[1m)\u001b[0m                      \u001b]8;id=433233;file:///home/msimonin/.pyenv/versions/3.9.2/envs/enoslib/lib/python3.9/site-packages/paramiko/transport.py\u001b\\\u001b[2mtransport.py\u001b[0m\u001b]8;;\u001b\\\u001b[2m:\u001b[0m\u001b]8;id=994341;file:///home/msimonin/.pyenv/versions/3.9.2/envs/enoslib/lib/python3.9/site-packages/paramiko/transport.py#1819\u001b\\\u001b[2m1819\u001b[0m\u001b]8;;\u001b\\\n"
      ]
     },
     "metadata": {},
     "output_type": "display_data"
    },
    {
     "data": {
      "text/html": [
       "<pre style=\"white-space:pre;overflow-x:auto;line-height:normal;font-family:Menlo,'DejaVu Sans Mono',consolas,'Courier New',monospace\"><span style=\"color: #000080; text-decoration-color: #000080\">INFO    </span> Authentication <span style=\"font-weight: bold\">(</span>publickey<span style=\"font-weight: bold\">)</span> successful!                             <a href=\"file:///home/msimonin/.pyenv/versions/3.9.2/envs/enoslib/lib/python3.9/site-packages/paramiko/transport.py\"><span style=\"color: #7f7f7f; text-decoration-color: #7f7f7f\">transport.py</span></a><span style=\"color: #7f7f7f; text-decoration-color: #7f7f7f\">:</span><a href=\"file:///home/msimonin/.pyenv/versions/3.9.2/envs/enoslib/lib/python3.9/site-packages/paramiko/transport.py#1819\"><span style=\"color: #7f7f7f; text-decoration-color: #7f7f7f\">1819</span></a>\n",
       "</pre>\n"
      ],
      "text/plain": [
       "\u001b[34mINFO    \u001b[0m Authentication \u001b[1m(\u001b[0mpublickey\u001b[1m)\u001b[0m successful!                             \u001b]8;id=770530;file:///home/msimonin/.pyenv/versions/3.9.2/envs/enoslib/lib/python3.9/site-packages/paramiko/transport.py\u001b\\\u001b[2mtransport.py\u001b[0m\u001b]8;;\u001b\\\u001b[2m:\u001b[0m\u001b]8;id=764321;file:///home/msimonin/.pyenv/versions/3.9.2/envs/enoslib/lib/python3.9/site-packages/paramiko/transport.py#1819\u001b\\\u001b[2m1819\u001b[0m\u001b]8;;\u001b\\\n"
      ]
     },
     "metadata": {},
     "output_type": "display_data"
    },
    {
     "name": "stdout",
     "output_type": "stream",
     "text": [
      "The service is running at http://localhost:33013 (admin:admin)\n"
     ]
    }
   ],
   "source": [
    "# create a tunnel to the service running inside g5k\n",
    "tunnel = en.G5kTunnel(address=monitoring.ui.address, port=3000)\n",
    "local_address, local_port, _ = tunnel.start()\n",
    "print(f\"The service is running at http://localhost:{local_port} (admin:admin)\")"
   ]
  },
  {
   "cell_type": "code",
   "execution_count": 16,
   "id": "following-judge",
   "metadata": {},
   "outputs": [],
   "source": [
    "# don't forget to close it\n",
    "tunnel.close()"
   ]
  },
  {
   "cell_type": "markdown",
   "id": "ethical-creation",
   "metadata": {},
   "source": [
    "To not forget to close the tunnel you can use a context manager: the tunnel will be closed automatically when exiting the context manager."
   ]
  },
  {
   "cell_type": "code",
   "execution_count": 17,
   "id": "stunning-turkish",
   "metadata": {},
   "outputs": [
    {
     "name": "stderr",
     "output_type": "stream",
     "text": [
      "2022-01-18 14:26:07,231| ERROR   | Password is required for key /home/msimonin/.ssh/id_rsa\n"
     ]
    },
    {
     "data": {
      "text/html": [
       "<pre style=\"white-space:pre;overflow-x:auto;line-height:normal;font-family:Menlo,'DejaVu Sans Mono',consolas,'Courier New',monospace\"><span style=\"color: #800000; text-decoration-color: #800000; font-weight: bold\">ERROR   </span> Password is required for key <span style=\"color: #800080; text-decoration-color: #800080\">/home/msimonin/.ssh/</span><span style=\"color: #ff00ff; text-decoration-color: #ff00ff\">id_rsa</span>            <a href=\"file:///home/msimonin/.pyenv/versions/3.9.2/envs/enoslib/lib/python3.9/site-packages/sshtunnel.py\"><span style=\"color: #7f7f7f; text-decoration-color: #7f7f7f\">sshtunnel.py</span></a><span style=\"color: #7f7f7f; text-decoration-color: #7f7f7f\">:</span><a href=\"file:///home/msimonin/.pyenv/versions/3.9.2/envs/enoslib/lib/python3.9/site-packages/sshtunnel.py#1314\"><span style=\"color: #7f7f7f; text-decoration-color: #7f7f7f\">1314</span></a>\n",
       "</pre>\n"
      ],
      "text/plain": [
       "\u001b[1;31mERROR   \u001b[0m Password is required for key \u001b[35m/home/msimonin/.ssh/\u001b[0m\u001b[95mid_rsa\u001b[0m            \u001b]8;id=291788;file:///home/msimonin/.pyenv/versions/3.9.2/envs/enoslib/lib/python3.9/site-packages/sshtunnel.py\u001b\\\u001b[2msshtunnel.py\u001b[0m\u001b]8;;\u001b\\\u001b[2m:\u001b[0m\u001b]8;id=327729;file:///home/msimonin/.pyenv/versions/3.9.2/envs/enoslib/lib/python3.9/site-packages/sshtunnel.py#1314\u001b\\\u001b[2m1314\u001b[0m\u001b]8;;\u001b\\\n"
      ]
     },
     "metadata": {},
     "output_type": "display_data"
    },
    {
     "data": {
      "text/html": [
       "<pre style=\"white-space:pre;overflow-x:auto;line-height:normal;font-family:Menlo,'DejaVu Sans Mono',consolas,'Courier New',monospace\"><span style=\"color: #000080; text-decoration-color: #000080\">INFO    </span> Connected <span style=\"font-weight: bold\">(</span>version <span style=\"color: #008080; text-decoration-color: #008080; font-weight: bold\">2.0</span>, client OpenSSH_7.4p1<span style=\"font-weight: bold\">)</span>                      <a href=\"file:///home/msimonin/.pyenv/versions/3.9.2/envs/enoslib/lib/python3.9/site-packages/paramiko/transport.py\"><span style=\"color: #7f7f7f; text-decoration-color: #7f7f7f\">transport.py</span></a><span style=\"color: #7f7f7f; text-decoration-color: #7f7f7f\">:</span><a href=\"file:///home/msimonin/.pyenv/versions/3.9.2/envs/enoslib/lib/python3.9/site-packages/paramiko/transport.py#1819\"><span style=\"color: #7f7f7f; text-decoration-color: #7f7f7f\">1819</span></a>\n",
       "</pre>\n"
      ],
      "text/plain": [
       "\u001b[34mINFO    \u001b[0m Connected \u001b[1m(\u001b[0mversion \u001b[1;36m2.0\u001b[0m, client OpenSSH_7.4p1\u001b[1m)\u001b[0m                      \u001b]8;id=581127;file:///home/msimonin/.pyenv/versions/3.9.2/envs/enoslib/lib/python3.9/site-packages/paramiko/transport.py\u001b\\\u001b[2mtransport.py\u001b[0m\u001b]8;;\u001b\\\u001b[2m:\u001b[0m\u001b]8;id=822025;file:///home/msimonin/.pyenv/versions/3.9.2/envs/enoslib/lib/python3.9/site-packages/paramiko/transport.py#1819\u001b\\\u001b[2m1819\u001b[0m\u001b]8;;\u001b\\\n"
      ]
     },
     "metadata": {},
     "output_type": "display_data"
    },
    {
     "data": {
      "text/html": [
       "<pre style=\"white-space:pre;overflow-x:auto;line-height:normal;font-family:Menlo,'DejaVu Sans Mono',consolas,'Courier New',monospace\"><span style=\"color: #000080; text-decoration-color: #000080\">INFO    </span> Authentication <span style=\"font-weight: bold\">(</span>publickey<span style=\"font-weight: bold\">)</span> successful!                             <a href=\"file:///home/msimonin/.pyenv/versions/3.9.2/envs/enoslib/lib/python3.9/site-packages/paramiko/transport.py\"><span style=\"color: #7f7f7f; text-decoration-color: #7f7f7f\">transport.py</span></a><span style=\"color: #7f7f7f; text-decoration-color: #7f7f7f\">:</span><a href=\"file:///home/msimonin/.pyenv/versions/3.9.2/envs/enoslib/lib/python3.9/site-packages/paramiko/transport.py#1819\"><span style=\"color: #7f7f7f; text-decoration-color: #7f7f7f\">1819</span></a>\n",
       "</pre>\n"
      ],
      "text/plain": [
       "\u001b[34mINFO    \u001b[0m Authentication \u001b[1m(\u001b[0mpublickey\u001b[1m)\u001b[0m successful!                             \u001b]8;id=32341;file:///home/msimonin/.pyenv/versions/3.9.2/envs/enoslib/lib/python3.9/site-packages/paramiko/transport.py\u001b\\\u001b[2mtransport.py\u001b[0m\u001b]8;;\u001b\\\u001b[2m:\u001b[0m\u001b]8;id=950559;file:///home/msimonin/.pyenv/versions/3.9.2/envs/enoslib/lib/python3.9/site-packages/paramiko/transport.py#1819\u001b\\\u001b[2m1819\u001b[0m\u001b]8;;\u001b\\\n"
      ]
     },
     "metadata": {},
     "output_type": "display_data"
    },
    {
     "name": "stdout",
     "output_type": "stream",
     "text": [
      "The service is running at http://localhost:35193\n"
     ]
    }
   ],
   "source": [
    "import time\n",
    "with en.G5kTunnel(address=monitoring.ui.address, port=3000) as (_, local_port, _):\n",
    "    print(f\"The service is running at http://localhost:{local_port}\")\n",
    "    time.sleep(60)\n",
    "    "
   ]
  },
  {
   "cell_type": "markdown",
   "id": "separated-briefing",
   "metadata": {
    "tags": []
   },
   "source": [
    "## Cleaning"
   ]
  },
  {
   "cell_type": "code",
   "execution_count": 18,
   "id": "structured-motor",
   "metadata": {},
   "outputs": [
    {
     "data": {
      "text/html": [
       "<pre style=\"white-space:pre;overflow-x:auto;line-height:normal;font-family:Menlo,'DejaVu Sans Mono',consolas,'Courier New',monospace\"><span style=\"color: #000080; text-decoration-color: #000080\">INFO    </span> Reloading enoslib_observability from grenoble                   <a href=\"file:///home/msimonin/workspace/repos/enoslib/enoslib/infra/enos_g5k/g5k_api_utils.py\"><span style=\"color: #7f7f7f; text-decoration-color: #7f7f7f\">g5k_api_utils.py</span></a><span style=\"color: #7f7f7f; text-decoration-color: #7f7f7f\">:</span><a href=\"file:///home/msimonin/workspace/repos/enoslib/enoslib/infra/enos_g5k/g5k_api_utils.py#175\"><span style=\"color: #7f7f7f; text-decoration-color: #7f7f7f\">175</span></a>\n",
       "</pre>\n"
      ],
      "text/plain": [
       "\u001b[34mINFO    \u001b[0m Reloading enoslib_observability from grenoble                   \u001b]8;id=998969;file:///home/msimonin/workspace/repos/enoslib/enoslib/infra/enos_g5k/g5k_api_utils.py\u001b\\\u001b[2mg5k_api_utils.py\u001b[0m\u001b]8;;\u001b\\\u001b[2m:\u001b[0m\u001b]8;id=640297;file:///home/msimonin/workspace/repos/enoslib/enoslib/infra/enos_g5k/g5k_api_utils.py#175\u001b\\\u001b[2m175\u001b[0m\u001b]8;;\u001b\\\n"
      ]
     },
     "metadata": {},
     "output_type": "display_data"
    },
    {
     "data": {
      "text/html": [
       "<pre style=\"white-space:pre;overflow-x:auto;line-height:normal;font-family:Menlo,'DejaVu Sans Mono',consolas,'Courier New',monospace\"><span style=\"color: #000080; text-decoration-color: #000080\">INFO    </span> Reloading enoslib_observability from lille                      <a href=\"file:///home/msimonin/workspace/repos/enoslib/enoslib/infra/enos_g5k/g5k_api_utils.py\"><span style=\"color: #7f7f7f; text-decoration-color: #7f7f7f\">g5k_api_utils.py</span></a><span style=\"color: #7f7f7f; text-decoration-color: #7f7f7f\">:</span><a href=\"file:///home/msimonin/workspace/repos/enoslib/enoslib/infra/enos_g5k/g5k_api_utils.py#175\"><span style=\"color: #7f7f7f; text-decoration-color: #7f7f7f\">175</span></a>\n",
       "</pre>\n"
      ],
      "text/plain": [
       "\u001b[34mINFO    \u001b[0m Reloading enoslib_observability from lille                      \u001b]8;id=645588;file:///home/msimonin/workspace/repos/enoslib/enoslib/infra/enos_g5k/g5k_api_utils.py\u001b\\\u001b[2mg5k_api_utils.py\u001b[0m\u001b]8;;\u001b\\\u001b[2m:\u001b[0m\u001b]8;id=255216;file:///home/msimonin/workspace/repos/enoslib/enoslib/infra/enos_g5k/g5k_api_utils.py#175\u001b\\\u001b[2m175\u001b[0m\u001b]8;;\u001b\\\n"
      ]
     },
     "metadata": {},
     "output_type": "display_data"
    },
    {
     "data": {
      "text/html": [
       "<pre style=\"white-space:pre;overflow-x:auto;line-height:normal;font-family:Menlo,'DejaVu Sans Mono',consolas,'Courier New',monospace\"><span style=\"color: #000080; text-decoration-color: #000080\">INFO    </span> Reloading enoslib_observability from luxembourg                 <a href=\"file:///home/msimonin/workspace/repos/enoslib/enoslib/infra/enos_g5k/g5k_api_utils.py\"><span style=\"color: #7f7f7f; text-decoration-color: #7f7f7f\">g5k_api_utils.py</span></a><span style=\"color: #7f7f7f; text-decoration-color: #7f7f7f\">:</span><a href=\"file:///home/msimonin/workspace/repos/enoslib/enoslib/infra/enos_g5k/g5k_api_utils.py#175\"><span style=\"color: #7f7f7f; text-decoration-color: #7f7f7f\">175</span></a>\n",
       "</pre>\n"
      ],
      "text/plain": [
       "\u001b[34mINFO    \u001b[0m Reloading enoslib_observability from luxembourg                 \u001b]8;id=444052;file:///home/msimonin/workspace/repos/enoslib/enoslib/infra/enos_g5k/g5k_api_utils.py\u001b\\\u001b[2mg5k_api_utils.py\u001b[0m\u001b]8;;\u001b\\\u001b[2m:\u001b[0m\u001b]8;id=413727;file:///home/msimonin/workspace/repos/enoslib/enoslib/infra/enos_g5k/g5k_api_utils.py#175\u001b\\\u001b[2m175\u001b[0m\u001b]8;;\u001b\\\n"
      ]
     },
     "metadata": {},
     "output_type": "display_data"
    },
    {
     "data": {
      "text/html": [
       "<pre style=\"white-space:pre;overflow-x:auto;line-height:normal;font-family:Menlo,'DejaVu Sans Mono',consolas,'Courier New',monospace\"><span style=\"color: #000080; text-decoration-color: #000080\">INFO    </span> Reloading enoslib_observability from lyon                       <a href=\"file:///home/msimonin/workspace/repos/enoslib/enoslib/infra/enos_g5k/g5k_api_utils.py\"><span style=\"color: #7f7f7f; text-decoration-color: #7f7f7f\">g5k_api_utils.py</span></a><span style=\"color: #7f7f7f; text-decoration-color: #7f7f7f\">:</span><a href=\"file:///home/msimonin/workspace/repos/enoslib/enoslib/infra/enos_g5k/g5k_api_utils.py#175\"><span style=\"color: #7f7f7f; text-decoration-color: #7f7f7f\">175</span></a>\n",
       "</pre>\n"
      ],
      "text/plain": [
       "\u001b[34mINFO    \u001b[0m Reloading enoslib_observability from lyon                       \u001b]8;id=91341;file:///home/msimonin/workspace/repos/enoslib/enoslib/infra/enos_g5k/g5k_api_utils.py\u001b\\\u001b[2mg5k_api_utils.py\u001b[0m\u001b]8;;\u001b\\\u001b[2m:\u001b[0m\u001b]8;id=185406;file:///home/msimonin/workspace/repos/enoslib/enoslib/infra/enos_g5k/g5k_api_utils.py#175\u001b\\\u001b[2m175\u001b[0m\u001b]8;;\u001b\\\n"
      ]
     },
     "metadata": {},
     "output_type": "display_data"
    },
    {
     "data": {
      "text/html": [
       "<pre style=\"white-space:pre;overflow-x:auto;line-height:normal;font-family:Menlo,'DejaVu Sans Mono',consolas,'Courier New',monospace\"><span style=\"color: #000080; text-decoration-color: #000080\">INFO    </span> Reloading enoslib_observability from nantes                     <a href=\"file:///home/msimonin/workspace/repos/enoslib/enoslib/infra/enos_g5k/g5k_api_utils.py\"><span style=\"color: #7f7f7f; text-decoration-color: #7f7f7f\">g5k_api_utils.py</span></a><span style=\"color: #7f7f7f; text-decoration-color: #7f7f7f\">:</span><a href=\"file:///home/msimonin/workspace/repos/enoslib/enoslib/infra/enos_g5k/g5k_api_utils.py#175\"><span style=\"color: #7f7f7f; text-decoration-color: #7f7f7f\">175</span></a>\n",
       "</pre>\n"
      ],
      "text/plain": [
       "\u001b[34mINFO    \u001b[0m Reloading enoslib_observability from nantes                     \u001b]8;id=70718;file:///home/msimonin/workspace/repos/enoslib/enoslib/infra/enos_g5k/g5k_api_utils.py\u001b\\\u001b[2mg5k_api_utils.py\u001b[0m\u001b]8;;\u001b\\\u001b[2m:\u001b[0m\u001b]8;id=628985;file:///home/msimonin/workspace/repos/enoslib/enoslib/infra/enos_g5k/g5k_api_utils.py#175\u001b\\\u001b[2m175\u001b[0m\u001b]8;;\u001b\\\n"
      ]
     },
     "metadata": {},
     "output_type": "display_data"
    },
    {
     "data": {
      "text/html": [
       "<pre style=\"white-space:pre;overflow-x:auto;line-height:normal;font-family:Menlo,'DejaVu Sans Mono',consolas,'Courier New',monospace\"><span style=\"color: #000080; text-decoration-color: #000080\">INFO    </span> Reloading enoslib_observability from rennes                     <a href=\"file:///home/msimonin/workspace/repos/enoslib/enoslib/infra/enos_g5k/g5k_api_utils.py\"><span style=\"color: #7f7f7f; text-decoration-color: #7f7f7f\">g5k_api_utils.py</span></a><span style=\"color: #7f7f7f; text-decoration-color: #7f7f7f\">:</span><a href=\"file:///home/msimonin/workspace/repos/enoslib/enoslib/infra/enos_g5k/g5k_api_utils.py#175\"><span style=\"color: #7f7f7f; text-decoration-color: #7f7f7f\">175</span></a>\n",
       "</pre>\n"
      ],
      "text/plain": [
       "\u001b[34mINFO    \u001b[0m Reloading enoslib_observability from rennes                     \u001b]8;id=11158;file:///home/msimonin/workspace/repos/enoslib/enoslib/infra/enos_g5k/g5k_api_utils.py\u001b\\\u001b[2mg5k_api_utils.py\u001b[0m\u001b]8;;\u001b\\\u001b[2m:\u001b[0m\u001b]8;id=112377;file:///home/msimonin/workspace/repos/enoslib/enoslib/infra/enos_g5k/g5k_api_utils.py#175\u001b\\\u001b[2m175\u001b[0m\u001b]8;;\u001b\\\n"
      ]
     },
     "metadata": {},
     "output_type": "display_data"
    },
    {
     "data": {
      "text/html": [
       "<pre style=\"white-space:pre;overflow-x:auto;line-height:normal;font-family:Menlo,'DejaVu Sans Mono',consolas,'Courier New',monospace\"><span style=\"color: #000080; text-decoration-color: #000080\">INFO    </span> Reloading <span style=\"color: #008080; text-decoration-color: #008080; font-weight: bold\">1870616</span> from rennes                                   <a href=\"file:///home/msimonin/workspace/repos/enoslib/enoslib/infra/enos_g5k/g5k_api_utils.py\"><span style=\"color: #7f7f7f; text-decoration-color: #7f7f7f\">g5k_api_utils.py</span></a><span style=\"color: #7f7f7f; text-decoration-color: #7f7f7f\">:</span><a href=\"file:///home/msimonin/workspace/repos/enoslib/enoslib/infra/enos_g5k/g5k_api_utils.py#180\"><span style=\"color: #7f7f7f; text-decoration-color: #7f7f7f\">180</span></a>\n",
       "</pre>\n"
      ],
      "text/plain": [
       "\u001b[34mINFO    \u001b[0m Reloading \u001b[1;36m1870616\u001b[0m from rennes                                   \u001b]8;id=452957;file:///home/msimonin/workspace/repos/enoslib/enoslib/infra/enos_g5k/g5k_api_utils.py\u001b\\\u001b[2mg5k_api_utils.py\u001b[0m\u001b]8;;\u001b\\\u001b[2m:\u001b[0m\u001b]8;id=308338;file:///home/msimonin/workspace/repos/enoslib/enoslib/infra/enos_g5k/g5k_api_utils.py#180\u001b\\\u001b[2m180\u001b[0m\u001b]8;;\u001b\\\n"
      ]
     },
     "metadata": {},
     "output_type": "display_data"
    },
    {
     "data": {
      "text/html": [
       "<pre style=\"white-space:pre;overflow-x:auto;line-height:normal;font-family:Menlo,'DejaVu Sans Mono',consolas,'Courier New',monospace\"><span style=\"color: #000080; text-decoration-color: #000080\">INFO    </span> Reloading enoslib_observability from sophia                     <a href=\"file:///home/msimonin/workspace/repos/enoslib/enoslib/infra/enos_g5k/g5k_api_utils.py\"><span style=\"color: #7f7f7f; text-decoration-color: #7f7f7f\">g5k_api_utils.py</span></a><span style=\"color: #7f7f7f; text-decoration-color: #7f7f7f\">:</span><a href=\"file:///home/msimonin/workspace/repos/enoslib/enoslib/infra/enos_g5k/g5k_api_utils.py#175\"><span style=\"color: #7f7f7f; text-decoration-color: #7f7f7f\">175</span></a>\n",
       "</pre>\n"
      ],
      "text/plain": [
       "\u001b[34mINFO    \u001b[0m Reloading enoslib_observability from sophia                     \u001b]8;id=76019;file:///home/msimonin/workspace/repos/enoslib/enoslib/infra/enos_g5k/g5k_api_utils.py\u001b\\\u001b[2mg5k_api_utils.py\u001b[0m\u001b]8;;\u001b\\\u001b[2m:\u001b[0m\u001b]8;id=160183;file:///home/msimonin/workspace/repos/enoslib/enoslib/infra/enos_g5k/g5k_api_utils.py#175\u001b\\\u001b[2m175\u001b[0m\u001b]8;;\u001b\\\n"
      ]
     },
     "metadata": {},
     "output_type": "display_data"
    },
    {
     "data": {
      "text/html": [
       "<pre style=\"white-space:pre;overflow-x:auto;line-height:normal;font-family:Menlo,'DejaVu Sans Mono',consolas,'Courier New',monospace\"><span style=\"color: #000080; text-decoration-color: #000080\">INFO    </span> Killing the job <span style=\"font-weight: bold\">(</span>rennes, <span style=\"color: #008080; text-decoration-color: #008080; font-weight: bold\">1870616</span><span style=\"font-weight: bold\">)</span>                               <a href=\"file:///home/msimonin/workspace/repos/enoslib/enoslib/infra/enos_g5k/g5k_api_utils.py\"><span style=\"color: #7f7f7f; text-decoration-color: #7f7f7f\">g5k_api_utils.py</span></a><span style=\"color: #7f7f7f; text-decoration-color: #7f7f7f\">:</span><a href=\"file:///home/msimonin/workspace/repos/enoslib/enoslib/infra/enos_g5k/g5k_api_utils.py#261\"><span style=\"color: #7f7f7f; text-decoration-color: #7f7f7f\">261</span></a>\n",
       "</pre>\n"
      ],
      "text/plain": [
       "\u001b[34mINFO    \u001b[0m Killing the job \u001b[1m(\u001b[0mrennes, \u001b[1;36m1870616\u001b[0m\u001b[1m)\u001b[0m                               \u001b]8;id=858184;file:///home/msimonin/workspace/repos/enoslib/enoslib/infra/enos_g5k/g5k_api_utils.py\u001b\\\u001b[2mg5k_api_utils.py\u001b[0m\u001b]8;;\u001b\\\u001b[2m:\u001b[0m\u001b]8;id=355518;file:///home/msimonin/workspace/repos/enoslib/enoslib/infra/enos_g5k/g5k_api_utils.py#261\u001b\\\u001b[2m261\u001b[0m\u001b]8;;\u001b\\\n"
      ]
     },
     "metadata": {},
     "output_type": "display_data"
    }
   ],
   "source": [
    "provider.destroy()"
   ]
  }
 ],
 "metadata": {
  "kernelspec": {
   "display_name": "Python 3 (ipykernel)",
   "language": "python",
   "name": "python3"
  },
  "language_info": {
   "codemirror_mode": {
    "name": "ipython",
    "version": 3
   },
   "file_extension": ".py",
   "mimetype": "text/x-python",
   "name": "python",
   "nbconvert_exporter": "python",
   "pygments_lexer": "ipython3",
   "version": "3.9.2"
  },
  "toc-autonumbering": false,
  "toc-showcode": false,
  "toc-showmarkdowntxt": false
 },
 "nbformat": 4,
 "nbformat_minor": 5
}
