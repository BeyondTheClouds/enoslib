{
 "cells": [
  {
   "cell_type": "markdown",
   "id": "b8ec4017",
   "metadata": {},
   "source": [
    "# MQTT-SN between FIT and Grid'5000\n",
    "\n",
    "Prerequisites:\n",
    "- Be connected to this Jupyter lab instance https://labs.iot-lab.info\n",
    "## One time Setup\n",
    "\n",
    "First things first, you'll need EnOSlib library to go through this tutorial.\n",
    "- Launch the following\n",
    "- Restart the kernel"
   ]
  },
  {
   "cell_type": "code",
   "execution_count": 1,
   "id": "efd0c63e-fa44-446a-97f6-6aed4a628b38",
   "metadata": {
    "tags": []
   },
   "outputs": [
    {
     "name": "stdout",
     "output_type": "stream",
     "text": [
      "Requirement already satisfied: enoslib in /home/jovyan/.local/lib/python3.9/site-packages (8.0.0a4)\n",
      "Requirement already satisfied: diskcache>=4.1.0 in /home/jovyan/.local/lib/python3.9/site-packages (from enoslib) (5.4.0)\n",
      "Requirement already satisfied: netaddr~=0.8.0 in /home/jovyan/.local/lib/python3.9/site-packages (from enoslib) (0.8.0)\n",
      "Requirement already satisfied: distem~=0.0.0 in /home/jovyan/.local/lib/python3.9/site-packages (from enoslib) (0.0.5)\n",
      "Requirement already satisfied: ring~=0.9.1 in /home/jovyan/.local/lib/python3.9/site-packages (from enoslib) (0.9.1)\n",
      "Requirement already satisfied: iotlabcli>=3.2.1 in /opt/conda/lib/python3.9/site-packages (from enoslib) (3.3.0)\n",
      "Requirement already satisfied: jsonschema<3.1.0,>=3.0.0 in /home/jovyan/.local/lib/python3.9/site-packages (from enoslib) (3.0.2)\n",
      "Requirement already satisfied: execo<2.7,>=2.6.2 in /home/jovyan/.local/lib/python3.9/site-packages (from enoslib) (2.6.8)\n",
      "Requirement already satisfied: cryptography in /opt/conda/lib/python3.9/site-packages (from enoslib) (36.0.1)\n",
      "Requirement already satisfied: python-vagrant>=0.5.15 in /home/jovyan/.local/lib/python3.9/site-packages (from enoslib) (0.5.15)\n",
      "Requirement already satisfied: sshtunnel>=0.3.1 in /home/jovyan/.local/lib/python3.9/site-packages (from enoslib) (0.4.0)\n",
      "Requirement already satisfied: python-grid5000~=1.1.0 in ./src/python-grid5000 (from enoslib) (1.1.1)\n",
      "Requirement already satisfied: iotlabsshcli>=1.0.0 in /home/jovyan/.local/lib/python3.9/site-packages (from enoslib) (1.1.0)\n",
      "Requirement already satisfied: requests[socks] in /opt/conda/lib/python3.9/site-packages (from enoslib) (2.27.1)\n",
      "Requirement already satisfied: rich~=11.0.0 in /home/jovyan/.local/lib/python3.9/site-packages (from enoslib) (11.0.0)\n",
      "Requirement already satisfied: ansible<6.0,>=2.9 in /home/jovyan/.local/lib/python3.9/site-packages (from enoslib) (5.4.0)\n",
      "Requirement already satisfied: ansible-core~=2.12.2 in /home/jovyan/.local/lib/python3.9/site-packages (from ansible<6.0,>=2.9->enoslib) (2.12.3)\n",
      "Requirement already satisfied: jmespath in /opt/conda/lib/python3.9/site-packages (from iotlabcli>=3.2.1->enoslib) (0.10.0)\n",
      "Requirement already satisfied: gevent>=1.1 in /home/jovyan/.local/lib/python3.9/site-packages (from iotlabsshcli>=1.0.0->enoslib) (21.12.0)\n",
      "Requirement already satisfied: parallel-ssh>=2.5.4 in /home/jovyan/.local/lib/python3.9/site-packages (from iotlabsshcli>=1.0.0->enoslib) (2.8.0)\n",
      "Requirement already satisfied: psutil==5.7.0 in /home/jovyan/.local/lib/python3.9/site-packages (from iotlabsshcli>=1.0.0->enoslib) (5.7.0)\n",
      "Collecting argparse\n",
      "  Downloading argparse-1.4.0-py2.py3-none-any.whl (23 kB)\n",
      "Requirement already satisfied: scp in /home/jovyan/.local/lib/python3.9/site-packages (from iotlabsshcli>=1.0.0->enoslib) (0.14.4)\n",
      "Requirement already satisfied: attrs>=17.4.0 in /opt/conda/lib/python3.9/site-packages (from jsonschema<3.1.0,>=3.0.0->enoslib) (21.4.0)\n",
      "Requirement already satisfied: setuptools in /opt/conda/lib/python3.9/site-packages (from jsonschema<3.1.0,>=3.0.0->enoslib) (60.5.0)\n",
      "Requirement already satisfied: pyrsistent>=0.14.0 in /opt/conda/lib/python3.9/site-packages (from jsonschema<3.1.0,>=3.0.0->enoslib) (0.18.0)\n",
      "Requirement already satisfied: six>=1.11.0 in /opt/conda/lib/python3.9/site-packages (from jsonschema<3.1.0,>=3.0.0->enoslib) (1.16.0)\n",
      "Requirement already satisfied: pyyaml>=5.1 in /home/jovyan/.local/lib/python3.9/site-packages (from python-grid5000~=1.1.0->enoslib) (6.0)\n",
      "Requirement already satisfied: ipython in /opt/conda/lib/python3.9/site-packages (from python-grid5000~=1.1.0->enoslib) (8.0.0)\n",
      "Requirement already satisfied: pygments<3.0.0,>=2.6.0 in /opt/conda/lib/python3.9/site-packages (from rich~=11.0.0->enoslib) (2.11.2)\n",
      "Requirement already satisfied: colorama<0.5.0,>=0.4.0 in /opt/conda/lib/python3.9/site-packages (from rich~=11.0.0->enoslib) (0.4.4)\n",
      "Requirement already satisfied: commonmark<0.10.0,>=0.9.0 in /home/jovyan/.local/lib/python3.9/site-packages (from rich~=11.0.0->enoslib) (0.9.1)\n",
      "Requirement already satisfied: wirerope==0.4.5 in /home/jovyan/.local/lib/python3.9/site-packages (from ring~=0.9.1->enoslib) (0.4.5)\n",
      "Requirement already satisfied: paramiko>=2.7.2 in /home/jovyan/.local/lib/python3.9/site-packages (from sshtunnel>=0.3.1->enoslib) (2.9.2)\n",
      "Requirement already satisfied: cffi>=1.12 in /opt/conda/lib/python3.9/site-packages (from cryptography->enoslib) (1.15.0)\n",
      "Requirement already satisfied: certifi>=2017.4.17 in /opt/conda/lib/python3.9/site-packages (from requests[socks]->enoslib) (2021.10.8)\n",
      "Requirement already satisfied: urllib3<1.27,>=1.21.1 in /opt/conda/lib/python3.9/site-packages (from requests[socks]->enoslib) (1.26.8)\n",
      "Requirement already satisfied: idna<4,>=2.5 in /opt/conda/lib/python3.9/site-packages (from requests[socks]->enoslib) (3.3)\n",
      "Requirement already satisfied: charset-normalizer~=2.0.0 in /opt/conda/lib/python3.9/site-packages (from requests[socks]->enoslib) (2.0.10)\n",
      "Requirement already satisfied: PySocks!=1.5.7,>=1.5.6 in /opt/conda/lib/python3.9/site-packages (from requests[socks]->enoslib) (1.7.1)\n",
      "Requirement already satisfied: jinja2 in /opt/conda/lib/python3.9/site-packages (from ansible-core~=2.12.2->ansible<6.0,>=2.9->enoslib) (3.0.3)\n",
      "Requirement already satisfied: resolvelib<0.6.0,>=0.5.3 in /home/jovyan/.local/lib/python3.9/site-packages (from ansible-core~=2.12.2->ansible<6.0,>=2.9->enoslib) (0.5.4)\n",
      "Requirement already satisfied: packaging in /opt/conda/lib/python3.9/site-packages (from ansible-core~=2.12.2->ansible<6.0,>=2.9->enoslib) (21.3)\n",
      "Requirement already satisfied: pycparser in /opt/conda/lib/python3.9/site-packages (from cffi>=1.12->cryptography->enoslib) (2.21)\n",
      "Requirement already satisfied: zope.interface in /home/jovyan/.local/lib/python3.9/site-packages (from gevent>=1.1->iotlabsshcli>=1.0.0->enoslib) (5.4.0)\n",
      "Requirement already satisfied: zope.event in /home/jovyan/.local/lib/python3.9/site-packages (from gevent>=1.1->iotlabsshcli>=1.0.0->enoslib) (4.5.0)\n",
      "Requirement already satisfied: greenlet<2.0,>=1.1.0 in /opt/conda/lib/python3.9/site-packages (from gevent>=1.1->iotlabsshcli>=1.0.0->enoslib) (1.1.2)\n",
      "Requirement already satisfied: ssh-python>=0.9.0 in /home/jovyan/.local/lib/python3.9/site-packages (from parallel-ssh>=2.5.4->iotlabsshcli>=1.0.0->enoslib) (0.9.0)\n",
      "Requirement already satisfied: ssh2-python>=0.22.0 in /home/jovyan/.local/lib/python3.9/site-packages (from parallel-ssh>=2.5.4->iotlabsshcli>=1.0.0->enoslib) (0.27.0)\n",
      "Requirement already satisfied: pynacl>=1.0.1 in /home/jovyan/.local/lib/python3.9/site-packages (from paramiko>=2.7.2->sshtunnel>=0.3.1->enoslib) (1.5.0)\n",
      "Requirement already satisfied: bcrypt>=3.1.3 in /home/jovyan/.local/lib/python3.9/site-packages (from paramiko>=2.7.2->sshtunnel>=0.3.1->enoslib) (3.2.0)\n",
      "Requirement already satisfied: black in /opt/conda/lib/python3.9/site-packages (from ipython->python-grid5000~=1.1.0->enoslib) (21.12b0)\n",
      "Requirement already satisfied: prompt-toolkit!=3.0.0,!=3.0.1,<3.1.0,>=2.0.0 in /opt/conda/lib/python3.9/site-packages (from ipython->python-grid5000~=1.1.0->enoslib) (3.0.24)\n",
      "Requirement already satisfied: jedi>=0.16 in /opt/conda/lib/python3.9/site-packages (from ipython->python-grid5000~=1.1.0->enoslib) (0.18.1)\n",
      "Requirement already satisfied: stack-data in /opt/conda/lib/python3.9/site-packages (from ipython->python-grid5000~=1.1.0->enoslib) (0.1.4)\n",
      "Requirement already satisfied: matplotlib-inline in /opt/conda/lib/python3.9/site-packages (from ipython->python-grid5000~=1.1.0->enoslib) (0.1.3)\n",
      "Requirement already satisfied: pickleshare in /opt/conda/lib/python3.9/site-packages (from ipython->python-grid5000~=1.1.0->enoslib) (0.7.5)\n",
      "Requirement already satisfied: backcall in /opt/conda/lib/python3.9/site-packages (from ipython->python-grid5000~=1.1.0->enoslib) (0.2.0)\n",
      "Requirement already satisfied: decorator in /opt/conda/lib/python3.9/site-packages (from ipython->python-grid5000~=1.1.0->enoslib) (5.1.1)\n",
      "Requirement already satisfied: traitlets>=5 in /opt/conda/lib/python3.9/site-packages (from ipython->python-grid5000~=1.1.0->enoslib) (5.1.1)\n",
      "Requirement already satisfied: pexpect>4.3 in /opt/conda/lib/python3.9/site-packages (from ipython->python-grid5000~=1.1.0->enoslib) (4.8.0)\n",
      "Requirement already satisfied: parso<0.9.0,>=0.8.0 in /opt/conda/lib/python3.9/site-packages (from jedi>=0.16->ipython->python-grid5000~=1.1.0->enoslib) (0.8.3)\n",
      "Requirement already satisfied: ptyprocess>=0.5 in /opt/conda/lib/python3.9/site-packages (from pexpect>4.3->ipython->python-grid5000~=1.1.0->enoslib) (0.7.0)\n",
      "Requirement already satisfied: wcwidth in /opt/conda/lib/python3.9/site-packages (from prompt-toolkit!=3.0.0,!=3.0.1,<3.1.0,>=2.0.0->ipython->python-grid5000~=1.1.0->enoslib) (0.2.5)\n",
      "Requirement already satisfied: typing-extensions>=3.10.0.0 in /opt/conda/lib/python3.9/site-packages (from black->ipython->python-grid5000~=1.1.0->enoslib) (4.0.1)\n",
      "Requirement already satisfied: pathspec<1,>=0.9.0 in /opt/conda/lib/python3.9/site-packages (from black->ipython->python-grid5000~=1.1.0->enoslib) (0.9.0)\n",
      "Requirement already satisfied: mypy-extensions>=0.4.3 in /opt/conda/lib/python3.9/site-packages (from black->ipython->python-grid5000~=1.1.0->enoslib) (0.4.3)\n",
      "Requirement already satisfied: click>=7.1.2 in /opt/conda/lib/python3.9/site-packages (from black->ipython->python-grid5000~=1.1.0->enoslib) (8.0.3)\n",
      "Requirement already satisfied: tomli<2.0.0,>=0.2.6 in /opt/conda/lib/python3.9/site-packages (from black->ipython->python-grid5000~=1.1.0->enoslib) (1.2.2)\n",
      "Requirement already satisfied: platformdirs>=2 in /opt/conda/lib/python3.9/site-packages (from black->ipython->python-grid5000~=1.1.0->enoslib) (2.3.0)\n",
      "Requirement already satisfied: MarkupSafe>=2.0 in /opt/conda/lib/python3.9/site-packages (from jinja2->ansible-core~=2.12.2->ansible<6.0,>=2.9->enoslib) (2.0.1)\n",
      "Requirement already satisfied: pyparsing!=3.0.5,>=2.0.2 in /opt/conda/lib/python3.9/site-packages (from packaging->ansible-core~=2.12.2->ansible<6.0,>=2.9->enoslib) (3.0.6)\n",
      "Requirement already satisfied: pure-eval in /opt/conda/lib/python3.9/site-packages (from stack-data->ipython->python-grid5000~=1.1.0->enoslib) (0.2.1)\n",
      "Requirement already satisfied: asttokens in /opt/conda/lib/python3.9/site-packages (from stack-data->ipython->python-grid5000~=1.1.0->enoslib) (2.0.5)\n",
      "Requirement already satisfied: executing in /opt/conda/lib/python3.9/site-packages (from stack-data->ipython->python-grid5000~=1.1.0->enoslib) (0.8.2)\n",
      "Installing collected packages: argparse\n",
      "Successfully installed argparse-1.4.0\n"
     ]
    }
   ],
   "source": [
    "!pip install -U --pre --user --no-cache enoslib"
   ]
  },
  {
   "cell_type": "code",
   "execution_count": 2,
   "id": "f87e2463-ecfa-4e41-9c7f-ba6def88ea98",
   "metadata": {},
   "outputs": [
    {
     "name": "stderr",
     "output_type": "stream",
     "text": [
      "The Vagrant executable cannot be found. Please check if it is in the system path.\n",
      "Using custom api_url: https://www.iot-lab.info/api/\n"
     ]
    },
    {
     "name": "stdout",
     "output_type": "stream",
     "text": [
      "Note: Openstack clients not installed\n"
     ]
    }
   ],
   "source": [
    "# This must not fail (restart the kernel after installing the library)\n",
    "import enoslib as en"
   ]
  },
  {
   "cell_type": "markdown",
   "id": "af5f02c1-48f4-4ffc-a4d2-211a2d278d35",
   "metadata": {},
   "source": [
    "### Setup access to Grid'5000 \n",
    "\n",
    "We need two kind of accesses to the Grid'5000 platform:\n",
    "- REST API Access to interact with  Grid'5000 exposed resources (jobs, nodes, networks, firewall ....)\n",
    "- SSH Access to control the remote machine once acquired\n",
    "\n",
    "---\n",
    "The REST API access is performed using HTTP request using BasicAuth Authentication mecanism through the [`python-grid5000`](https://pypi.org/project/python-grid5000/) wrapper.\n",
    "This requires to store the username/password in a file located in your home directory."
   ]
  },
  {
   "cell_type": "code",
   "execution_count": 3,
   "id": "6cc33738-1df7-43cc-9a3e-160341a715b6",
   "metadata": {},
   "outputs": [
    {
     "name": "stdin",
     "output_type": "stream",
     "text": [
      "Grid'5000 password:  ········\n"
     ]
    },
    {
     "name": "stdout",
     "output_type": "stream",
     "text": [
      "/home/jovyan/.python-grid5000.yaml created successfully\n"
     ]
    }
   ],
   "source": [
    "from grid5000.cli import auth\n",
    "\n",
    "# will prompt for the password and write the authentication file\n",
    "auth(\"msimonin\")"
   ]
  },
  {
   "cell_type": "markdown",
   "id": "6b96d091-527d-4366-8ca2-1412986eb4a0",
   "metadata": {},
   "source": [
    "---\n",
    "The SSH access relies on SSH key authentication.\n",
    "Add the content of the public key in the Grid'5000 interface in [your grid'5000 account](https://api.grid5000.fr/stable/users/) > ssh_keys"
   ]
  },
  {
   "cell_type": "code",
   "execution_count": 4,
   "id": "c8003ffa-548d-4a14-9890-c4ccb3751522",
   "metadata": {},
   "outputs": [
    {
     "name": "stdout",
     "output_type": "stream",
     "text": [
      "ssh-rsa AAAAB3NzaC1yc2EAAAADAQABAAABgQC1GkxHp8fSTVcQfOSc3dDndPYgU906XcF4DlWkX7pP8KEYoaDhSkIrtwYNCyUylj9uPzze8rB8qFaSDHlorb/sz5YfAhaHfvwqSDQXeHa0O14dtQOWzYj8sSznA3JSrHZCvSzG6v8QhvJZ6Bt4SZp7R0e2pIOwqDMcNwy+V2RNt8puvDkJyqbYk7ecPnRBSNL9EGxfLWB2hRLW8nAKuVWKLAPEVqmC4Mp9Ij5cNMMugMReWK9CvnDxvwB5ZgM55NHU4a6ilsMAIpZidm04YxKA/X4Cb5VtOIpHy0YtxFmEvwrLX++gUQ7U8AFXUz2/8CYWtJRjXVZWP7pbfZN55lXznXMwfvpD3YrxdTMrYS1HPMCq6PandZsmB8u3htBmPum5GsaIYkZOW9g9kLQfsUqZSWpE4r3opM/fWOD8iXXdM2QHdIK1Ix31Bg3F8ir1wcXj0W67D6qzBIlU0wlhDuSJnrZ8QTTvCri0iG+iEvJlYXZYG+D0KE+szW4L1FSOwe0= jupyterhub@iotlab\n"
     ]
    }
   ],
   "source": [
    "!cat ~/.ssh/id_rsa.pub"
   ]
  },
  {
   "cell_type": "markdown",
   "id": "243d7bf5-812d-4acb-a900-df7d72cfd155",
   "metadata": {},
   "source": [
    "## FIT side\n",
    "\n",
    "### Firmware compilations"
   ]
  },
  {
   "cell_type": "code",
   "execution_count": 5,
   "id": "16f2af92-e5fc-404f-a43f-63a990075263",
   "metadata": {},
   "outputs": [
    {
     "name": "stdout",
     "output_type": "stream",
     "text": [
      "Use CHANNEL=17, PAN_ID=0x157e\n"
     ]
    }
   ],
   "source": [
    "import os,binascii,random\n",
    "pan_id = binascii.b2a_hex(os.urandom(2)).decode()\n",
    "channel = random.randint(11, 26)\n",
    "print('Use CHANNEL={}, PAN_ID=0x{}'.format(channel, pan_id))"
   ]
  },
  {
   "cell_type": "code",
   "execution_count": 6,
   "id": "a3a1abf3-dacc-4cd6-8ba4-3eec6a4c2af8",
   "metadata": {},
   "outputs": [
    {
     "name": "stdout",
     "output_type": "stream",
     "text": [
      "env: CHANNEL=14\n",
      "env: PAN_ID=0xce70\n",
      "env: ETHOS_BAUDRATE=500000\n"
     ]
    }
   ],
   "source": [
    "%env CHANNEL=14\n",
    "%env PAN_ID=0xce70\n",
    "%env ETHOS_BAUDRATE=500000"
   ]
  },
  {
   "cell_type": "code",
   "execution_count": 7,
   "id": "a6cb1167-7525-48e8-8e7d-40dece549842",
   "metadata": {
    "tags": []
   },
   "outputs": [
    {
     "name": "stdout",
     "output_type": "stream",
     "text": [
      "env: APP_DIR=../../../../riot/RIOT/examples/gnrc_border_router\n",
      "make: Entering directory '/home/jovyan/work/training/riot/RIOT/examples/gnrc_border_router'\n",
      "\u001b[1;32mBuilding application \"gnrc_border_router\" for \"iotlab-m3\" with MCU \"stm32\".\u001b[0m\n",
      "\n",
      "\"make\" -C /home/jovyan/work/training/riot/RIOT/boards/iotlab-m3\n",
      "\"make\" -C /home/jovyan/work/training/riot/RIOT/boards/common/iotlab\n",
      "\"make\" -C /home/jovyan/work/training/riot/RIOT/core\n",
      "\"make\" -C /home/jovyan/work/training/riot/RIOT/cpu/stm32\n",
      "\"make\" -C /home/jovyan/work/training/riot/RIOT/cpu/cortexm_common\n",
      "\"make\" -C /home/jovyan/work/training/riot/RIOT/cpu/cortexm_common/periph\n",
      "\"make\" -C /home/jovyan/work/training/riot/RIOT/cpu/stm32/periph\n",
      "\"make\" -C /home/jovyan/work/training/riot/RIOT/cpu/stm32/stmclk\n",
      "\"make\" -C /home/jovyan/work/training/riot/RIOT/cpu/stm32/vectors\n",
      "\"make\" -C /home/jovyan/work/training/riot/RIOT/drivers\n",
      "\"make\" -C /home/jovyan/work/training/riot/RIOT/drivers/at86rf2xx\n",
      "\"make\" -C /home/jovyan/work/training/riot/RIOT/drivers/ethos\n",
      "\"make\" -C /home/jovyan/work/training/riot/RIOT/drivers/netdev\n",
      "\"make\" -C /home/jovyan/work/training/riot/RIOT/drivers/periph_common\n",
      "\"make\" -C /home/jovyan/work/training/riot/RIOT/sys\n",
      "\"make\" -C /home/jovyan/work/training/riot/RIOT/sys/auto_init\n",
      "\"make\" -C /home/jovyan/work/training/riot/RIOT/sys/div\n",
      "\"make\" -C /home/jovyan/work/training/riot/RIOT/sys/evtimer\n",
      "\"make\" -C /home/jovyan/work/training/riot/RIOT/sys/fmt\n",
      "\"make\" -C /home/jovyan/work/training/riot/RIOT/sys/iolist\n",
      "\"make\" -C /home/jovyan/work/training/riot/RIOT/sys/isrpipe\n",
      "\"make\" -C /home/jovyan/work/training/riot/RIOT/sys/luid\n",
      "\"make\" -C /home/jovyan/work/training/riot/RIOT/sys/malloc_thread_safe\n",
      "\"make\" -C /home/jovyan/work/training/riot/RIOT/sys/net/application_layer/uhcp\n",
      "\"make\" -C /home/jovyan/work/training/riot/RIOT/sys/net/crosslayer/inet_csum\n",
      "\"make\" -C /home/jovyan/work/training/riot/RIOT/sys/net/gnrc\n",
      "\"make\" -C /home/jovyan/work/training/riot/RIOT/sys/net/gnrc/netapi\n",
      "\"make\" -C /home/jovyan/work/training/riot/RIOT/sys/net/gnrc/netif\n",
      "\"make\" -C /home/jovyan/work/training/riot/RIOT/sys/net/gnrc/netif/ethernet\n",
      "\"make\" -C /home/jovyan/work/training/riot/RIOT/sys/net/gnrc/netif/hdr\n",
      "\"make\" -C /home/jovyan/work/training/riot/RIOT/sys/net/gnrc/netif/ieee802154\n",
      "\"make\" -C /home/jovyan/work/training/riot/RIOT/sys/net/gnrc/netif/init_devs\n",
      "\"make\" -C /home/jovyan/work/training/riot/RIOT/sys/net/gnrc/netreg\n",
      "\"make\" -C /home/jovyan/work/training/riot/RIOT/sys/net/gnrc/network_layer/icmpv6\n",
      "\"make\" -C /home/jovyan/work/training/riot/RIOT/sys/net/gnrc/network_layer/icmpv6/echo\n",
      "\"make\" -C /home/jovyan/work/training/riot/RIOT/sys/net/gnrc/network_layer/ipv6\n",
      "\"make\" -C /home/jovyan/work/training/riot/RIOT/sys/net/gnrc/network_layer/ipv6/hdr\n",
      "\"make\" -C /home/jovyan/work/training/riot/RIOT/sys/net/gnrc/network_layer/ipv6/nib\n",
      "\"make\" -C /home/jovyan/work/training/riot/RIOT/sys/net/gnrc/network_layer/ndp\n",
      "\"make\" -C /home/jovyan/work/training/riot/RIOT/sys/net/gnrc/network_layer/sixlowpan\n",
      "\"make\" -C /home/jovyan/work/training/riot/RIOT/sys/net/gnrc/network_layer/sixlowpan/ctx\n",
      "\"make\" -C /home/jovyan/work/training/riot/RIOT/sys/net/gnrc/network_layer/sixlowpan/frag\n",
      "\"make\" -C /home/jovyan/work/training/riot/RIOT/sys/net/gnrc/network_layer/sixlowpan/frag/fb\n",
      "\"make\" -C /home/jovyan/work/training/riot/RIOT/sys/net/gnrc/network_layer/sixlowpan/frag/rb\n",
      "\"make\" -C /home/jovyan/work/training/riot/RIOT/sys/net/gnrc/network_layer/sixlowpan/iphc\n",
      "\"make\" -C /home/jovyan/work/training/riot/RIOT/sys/net/gnrc/network_layer/sixlowpan/nd\n",
      "\"make\" -C /home/jovyan/work/training/riot/RIOT/sys/net/gnrc/pkt\n",
      "\"make\" -C /home/jovyan/work/training/riot/RIOT/sys/net/gnrc/pktbuf\n",
      "\"make\" -C /home/jovyan/work/training/riot/RIOT/sys/net/gnrc/pktbuf_static\n",
      "\"make\" -C /home/jovyan/work/training/riot/RIOT/sys/net/gnrc/sock\n",
      "\"make\" -C /home/jovyan/work/training/riot/RIOT/sys/net/gnrc/sock/udp\n",
      "\"make\" -C /home/jovyan/work/training/riot/RIOT/sys/net/gnrc/transport_layer/udp\n",
      "\"make\" -C /home/jovyan/work/training/riot/RIOT/sys/net/gnrc/application_layer/uhcpc\n",
      "\"make\" -C /home/jovyan/work/training/riot/RIOT/sys/net/link_layer/eui_provider\n",
      "\"make\" -C /home/jovyan/work/training/riot/RIOT/sys/net/link_layer/ieee802154\n",
      "\"make\" -C /home/jovyan/work/training/riot/RIOT/sys/net/link_layer/l2util\n",
      "\"make\" -C /home/jovyan/work/training/riot/RIOT/sys/net/netif\n",
      "\"make\" -C /home/jovyan/work/training/riot/RIOT/sys/net/netutils\n",
      "\"make\" -C /home/jovyan/work/training/riot/RIOT/sys/net/network_layer/icmpv6\n",
      "\"make\" -C /home/jovyan/work/training/riot/RIOT/sys/net/network_layer/ipv6/addr\n",
      "\"make\" -C /home/jovyan/work/training/riot/RIOT/sys/net/network_layer/ipv6/hdr\n",
      "\"make\" -C /home/jovyan/work/training/riot/RIOT/sys/net/network_layer/sixlowpan\n",
      "\"make\" -C /home/jovyan/work/training/riot/RIOT/sys/net/transport_layer/udp\n",
      "\"make\" -C /home/jovyan/work/training/riot/RIOT/sys/newlib_syscalls_default\n",
      "\"make\" -C /home/jovyan/work/training/riot/RIOT/sys/pm_layered\n",
      "\"make\" -C /home/jovyan/work/training/riot/RIOT/sys/posix/inet\n",
      "\"make\" -C /home/jovyan/work/training/riot/RIOT/sys/ps\n",
      "\"make\" -C /home/jovyan/work/training/riot/RIOT/sys/random\n",
      "\"make\" -C /home/jovyan/work/training/riot/RIOT/sys/shell\n",
      "\"make\" -C /home/jovyan/work/training/riot/RIOT/sys/shell/commands\n",
      "\"make\" -C /home/jovyan/work/training/riot/RIOT/sys/tsrb\n",
      "\"make\" -C /home/jovyan/work/training/riot/RIOT/sys/xtimer\n",
      "   text\t   data\t    bss\t    dec\t    hex\tfilename\n",
      "  80048\t    144\t  22188\t 102380\t  18fec\t/home/jovyan/work/training/riot/RIOT/examples/gnrc_border_router/bin/iotlab-m3/gnrc_border_router.elf\n",
      "make: Leaving directory '/home/jovyan/work/training/riot/RIOT/examples/gnrc_border_router'\n"
     ]
    }
   ],
   "source": [
    "%env APP_DIR=../../../../riot/RIOT/examples/gnrc_border_router\n",
    "!make -C $APP_DIR BOARD=iotlab-m3 DEFAULT_CHANNEL=$CHANNEL DEFAULT_PAN_ID=$PAN_ID && cp $APP_DIR/bin/iotlab-m3/*.bin ."
   ]
  },
  {
   "cell_type": "code",
   "execution_count": 8,
   "id": "923be597-18db-422a-8260-90de84da0577",
   "metadata": {
    "tags": []
   },
   "outputs": [
    {
     "name": "stdout",
     "output_type": "stream",
     "text": [
      "env: APP_DIR=../../../../riot/RIOT/examples/emcute_mqttsn\n",
      "make: Entering directory '/home/jovyan/work/training/riot/RIOT/examples/emcute_mqttsn'\n",
      "\u001b[1;32mBuilding application \"emcute_mqttsn\" for \"iotlab-m3\" with MCU \"stm32\".\u001b[0m\n",
      "\n",
      "\"make\" -C /home/jovyan/work/training/riot/RIOT/boards/iotlab-m3\n",
      "\"make\" -C /home/jovyan/work/training/riot/RIOT/boards/common/iotlab\n",
      "\"make\" -C /home/jovyan/work/training/riot/RIOT/core\n",
      "\"make\" -C /home/jovyan/work/training/riot/RIOT/cpu/stm32\n",
      "\"make\" -C /home/jovyan/work/training/riot/RIOT/cpu/cortexm_common\n",
      "\"make\" -C /home/jovyan/work/training/riot/RIOT/cpu/cortexm_common/periph\n",
      "\"make\" -C /home/jovyan/work/training/riot/RIOT/cpu/stm32/periph\n",
      "\"make\" -C /home/jovyan/work/training/riot/RIOT/cpu/stm32/stmclk\n",
      "\"make\" -C /home/jovyan/work/training/riot/RIOT/cpu/stm32/vectors\n",
      "\"make\" -C /home/jovyan/work/training/riot/RIOT/drivers\n",
      "\"make\" -C /home/jovyan/work/training/riot/RIOT/drivers/at86rf2xx\n",
      "\"make\" -C /home/jovyan/work/training/riot/RIOT/drivers/netdev\n",
      "\"make\" -C /home/jovyan/work/training/riot/RIOT/drivers/periph_common\n",
      "\"make\" -C /home/jovyan/work/training/riot/RIOT/sys\n",
      "\"make\" -C /home/jovyan/work/training/riot/RIOT/sys/auto_init\n",
      "\"make\" -C /home/jovyan/work/training/riot/RIOT/sys/div\n",
      "\"make\" -C /home/jovyan/work/training/riot/RIOT/sys/evtimer\n",
      "\"make\" -C /home/jovyan/work/training/riot/RIOT/sys/fmt\n",
      "\"make\" -C /home/jovyan/work/training/riot/RIOT/sys/isrpipe\n",
      "\"make\" -C /home/jovyan/work/training/riot/RIOT/sys/luid\n",
      "\"make\" -C /home/jovyan/work/training/riot/RIOT/sys/malloc_thread_safe\n",
      "\"make\" -C /home/jovyan/work/training/riot/RIOT/sys/net/application_layer/emcute\n",
      "\"make\" -C /home/jovyan/work/training/riot/RIOT/sys/net/crosslayer/inet_csum\n",
      "\"make\" -C /home/jovyan/work/training/riot/RIOT/sys/net/gnrc\n",
      "\"make\" -C /home/jovyan/work/training/riot/RIOT/sys/net/gnrc/netapi\n",
      "\"make\" -C /home/jovyan/work/training/riot/RIOT/sys/net/gnrc/netif\n",
      "\"make\" -C /home/jovyan/work/training/riot/RIOT/sys/net/gnrc/netif/hdr\n",
      "\"make\" -C /home/jovyan/work/training/riot/RIOT/sys/net/gnrc/netif/ieee802154\n",
      "\"make\" -C /home/jovyan/work/training/riot/RIOT/sys/net/gnrc/netif/init_devs\n",
      "\"make\" -C /home/jovyan/work/training/riot/RIOT/sys/net/gnrc/netreg\n",
      "\"make\" -C /home/jovyan/work/training/riot/RIOT/sys/net/gnrc/network_layer/icmpv6\n",
      "\"make\" -C /home/jovyan/work/training/riot/RIOT/sys/net/gnrc/network_layer/icmpv6/echo\n",
      "\"make\" -C /home/jovyan/work/training/riot/RIOT/sys/net/gnrc/network_layer/ipv6\n",
      "\"make\" -C /home/jovyan/work/training/riot/RIOT/sys/net/gnrc/network_layer/ipv6/hdr\n",
      "\"make\" -C /home/jovyan/work/training/riot/RIOT/sys/net/gnrc/network_layer/ipv6/nib\n",
      "\"make\" -C /home/jovyan/work/training/riot/RIOT/sys/net/gnrc/network_layer/ndp\n",
      "\"make\" -C /home/jovyan/work/training/riot/RIOT/sys/net/gnrc/network_layer/sixlowpan\n",
      "\"make\" -C /home/jovyan/work/training/riot/RIOT/sys/net/gnrc/network_layer/sixlowpan/ctx\n",
      "\"make\" -C /home/jovyan/work/training/riot/RIOT/sys/net/gnrc/network_layer/sixlowpan/frag\n",
      "\"make\" -C /home/jovyan/work/training/riot/RIOT/sys/net/gnrc/network_layer/sixlowpan/frag/fb\n",
      "\"make\" -C /home/jovyan/work/training/riot/RIOT/sys/net/gnrc/network_layer/sixlowpan/frag/rb\n",
      "\"make\" -C /home/jovyan/work/training/riot/RIOT/sys/net/gnrc/network_layer/sixlowpan/iphc\n",
      "\"make\" -C /home/jovyan/work/training/riot/RIOT/sys/net/gnrc/network_layer/sixlowpan/nd\n",
      "\"make\" -C /home/jovyan/work/training/riot/RIOT/sys/net/gnrc/pkt\n",
      "\"make\" -C /home/jovyan/work/training/riot/RIOT/sys/net/gnrc/pktbuf\n",
      "\"make\" -C /home/jovyan/work/training/riot/RIOT/sys/net/gnrc/pktbuf_static\n",
      "\"make\" -C /home/jovyan/work/training/riot/RIOT/sys/net/gnrc/sock\n",
      "\"make\" -C /home/jovyan/work/training/riot/RIOT/sys/net/gnrc/sock/udp\n",
      "\"make\" -C /home/jovyan/work/training/riot/RIOT/sys/net/gnrc/transport_layer/udp\n",
      "\"make\" -C /home/jovyan/work/training/riot/RIOT/sys/net/link_layer/eui_provider\n",
      "\"make\" -C /home/jovyan/work/training/riot/RIOT/sys/net/link_layer/ieee802154\n",
      "\"make\" -C /home/jovyan/work/training/riot/RIOT/sys/net/link_layer/l2util\n",
      "\"make\" -C /home/jovyan/work/training/riot/RIOT/sys/net/netif\n",
      "\"make\" -C /home/jovyan/work/training/riot/RIOT/sys/net/netutils\n",
      "\"make\" -C /home/jovyan/work/training/riot/RIOT/sys/net/network_layer/icmpv6\n",
      "\"make\" -C /home/jovyan/work/training/riot/RIOT/sys/net/network_layer/ipv6/addr\n",
      "\"make\" -C /home/jovyan/work/training/riot/RIOT/sys/net/network_layer/ipv6/hdr\n",
      "\"make\" -C /home/jovyan/work/training/riot/RIOT/sys/net/network_layer/sixlowpan\n",
      "\"make\" -C /home/jovyan/work/training/riot/RIOT/sys/net/transport_layer/udp\n",
      "\"make\" -C /home/jovyan/work/training/riot/RIOT/sys/newlib_syscalls_default\n",
      "\"make\" -C /home/jovyan/work/training/riot/RIOT/sys/pm_layered\n",
      "\"make\" -C /home/jovyan/work/training/riot/RIOT/sys/ps\n",
      "\"make\" -C /home/jovyan/work/training/riot/RIOT/sys/random\n",
      "\"make\" -C /home/jovyan/work/training/riot/RIOT/sys/shell\n",
      "\"make\" -C /home/jovyan/work/training/riot/RIOT/sys/shell/commands\n",
      "\"make\" -C /home/jovyan/work/training/riot/RIOT/sys/stdio_uart\n",
      "\"make\" -C /home/jovyan/work/training/riot/RIOT/sys/tsrb\n",
      "\"make\" -C /home/jovyan/work/training/riot/RIOT/sys/xtimer\n",
      "   text\t   data\t    bss\t    dec\t    hex\tfilename\n",
      "  73124\t    148\t  18788\t  92060\t  1679c\t/home/jovyan/work/training/riot/RIOT/examples/emcute_mqttsn/bin/iotlab-m3/emcute_mqttsn.elf\n",
      "make: Leaving directory '/home/jovyan/work/training/riot/RIOT/examples/emcute_mqttsn'\n"
     ]
    }
   ],
   "source": [
    "%env APP_DIR=../../../../riot/RIOT/examples/emcute_mqttsn\n",
    "!make -C $APP_DIR BOARD=iotlab-m3 DEFAULT_CHANNEL=$CHANNEL DEFAULT_PAN_ID=$PAN_ID && cp $APP_DIR/bin/iotlab-m3/*.bin ."
   ]
  },
  {
   "cell_type": "markdown",
   "id": "a74c6fdb-bd1f-483f-8fbd-fd99cd0e98e2",
   "metadata": {},
   "source": [
    "### Get some resources"
   ]
  },
  {
   "cell_type": "code",
   "execution_count": 1,
   "id": "1097445d-9fe9-4acb-8aad-085dc715cf2b",
   "metadata": {},
   "outputs": [
    {
     "name": "stderr",
     "output_type": "stream",
     "text": [
      "The Vagrant executable cannot be found. Please check if it is in the system path.\n",
      "Using custom api_url: https://www.iot-lab.info/api/\n"
     ]
    },
    {
     "name": "stdout",
     "output_type": "stream",
     "text": [
      "Note: Openstack clients not installed\n"
     ]
    }
   ],
   "source": [
    "import enoslib as en\n",
    "\n",
    "en.init_logging()\n",
    "FIT_SITE = \"grenoble\""
   ]
  },
  {
   "cell_type": "code",
   "execution_count": 2,
   "id": "4907ee08-cb8c-4b25-8f77-3d271fc10d60",
   "metadata": {},
   "outputs": [
    {
     "data": {
      "text/html": [
       "\n",
       "        <style> .enoslib {\n",
       "    width: auto;\n",
       "}\n",
       "\n",
       ".enoslib_object {\n",
       "    width: auto;\n",
       "    font-size: 1em;\n",
       "    line-height: 1.5;\n",
       "    background-color: rgb(250, 249, 249);\n",
       "    font-family: 'Segoe UI';\n",
       "    color: black;\n",
       "}\n",
       "\n",
       ".enoslib_object ul {\n",
       "    padding: 0;\n",
       "}\n",
       "\n",
       ".enoslib_object input+label {\n",
       "    margin-bottom: 0%;\n",
       "}\n",
       "\n",
       ".object_name {\n",
       "    padding: 6px 0 6px 3px;\n",
       "    border-bottom-width: 1px;\n",
       "    border-bottom-style: solid;\n",
       "    border-bottom-color: #777;\n",
       "    color: #555;\n",
       "}\n",
       "\n",
       ".object_name>div,\n",
       ".object_name>ul {\n",
       "    display: inline;\n",
       "    margin-top: 0;\n",
       "    margin-bottom: 0;\n",
       "}\n",
       "\n",
       "ul.enoslist {\n",
       "    list-style: none !important;\n",
       "    padding: 3px !important;\n",
       "    margin: 0 !important;\n",
       "}\n",
       "\n",
       "input.att+label {\n",
       "    display: inline-block;\n",
       "    /*width: 140px;*/\n",
       "    color: rgb(36, 35, 35);\n",
       "    font-weight: 500;\n",
       "    padding: 4px 0 2px 0;\n",
       "}\n",
       "\n",
       "input.att:enabled+label {\n",
       "    cursor: pointer;\n",
       "    width: auto;\n",
       "}\n",
       "\n",
       "input.att {\n",
       "    display: none;\n",
       "}\n",
       "\n",
       "input.att+label:before {\n",
       "    display: inline-block;\n",
       "    content: '►';\n",
       "    font-size: 11px;\n",
       "    width: 15px;\n",
       "    text-align: center;\n",
       "}\n",
       "\n",
       "input.att:checked+label:before {\n",
       "    content: '▼';\n",
       "}\n",
       "\n",
       "input.att:disabled+label:before {\n",
       "    content: none;\n",
       "}\n",
       "\n",
       "input.att+label>span {\n",
       "    display: inline-block;\n",
       "    margin-left: 4px;\n",
       "}\n",
       "\n",
       "input.att+label>span.len {\n",
       "    font-size: small;\n",
       "}\n",
       "\n",
       "input.att:checked+label>span.len {\n",
       "    display: none;\n",
       "}\n",
       "\n",
       "label+span {\n",
       "    color: rgb(70, 69, 69);\n",
       "}\n",
       "\n",
       "input.att~ul {\n",
       "    display: none;\n",
       "}\n",
       "\n",
       "input.att:checked~ul {\n",
       "    display: block;\n",
       "}\n",
       "\n",
       "table {\n",
       "    width: auto;\n",
       "    border-collapse: collapse;\n",
       "    margin: 2%;\n",
       "}\n",
       "\n",
       "td,\n",
       "th {\n",
       "    padding: 8px;\n",
       "    height: 15px;\n",
       "    font-size: small;\n",
       "}\n",
       "\n",
       "td {\n",
       "    text-align: left !important;\n",
       "    color: rgb(160, 160, 160)\n",
       "}\n",
       "\n",
       "th {\n",
       "    text-align: center;\n",
       "    color: black;\n",
       "}\n",
       "\n",
       "input~ul {\n",
       "    position: relative;\n",
       "    left: 25px;\n",
       "}\n",
       "\n",
       "input.att~table {\n",
       "    display: none;\n",
       "}\n",
       "\n",
       "input.att:checked~table {\n",
       "    display: block;\n",
       "} </style>\n",
       "        <div class=\"enoslib\">\n",
       "        <div class=\"enoslib_object\">\n",
       "            <div class=\"object_name\">\n",
       "                &lt;class &#x27;enoslib.infra.enos_iotlab.configuration.Configuration&#x27;&gt;@0x7f5d483435b0\n",
       "            </div>\n",
       "            <ul class=\"enoslist\">\n",
       "                \n",
       "        <li>\n",
       "        <input type=\"checkbox\" id=\"job_name-931cc293-1951-4f22-bbe6-9eac228d8dc2\" class=\"att\" disabled=\"\">\n",
       "        <label for=\"job_name-931cc293-1951-4f22-bbe6-9eac228d8dc2\">\n",
       "            <span>job_name:&nbsp;</span>\n",
       "        </label>\n",
       "        <span>riot_m3</span>\n",
       "        </li>\n",
       "        <li>\n",
       "        <input type=\"checkbox\" id=\"walltime-7cd20392-f346-406b-b1cf-1ba129bb293b\" class=\"att\" disabled=\"\">\n",
       "        <label for=\"walltime-7cd20392-f346-406b-b1cf-1ba129bb293b\">\n",
       "            <span>walltime:&nbsp;</span>\n",
       "        </label>\n",
       "        <span>02:00</span>\n",
       "        </li>\n",
       "                <li>\n",
       "                    <input type=\"checkbox\" id=\"resources-e151ccd7-0558-4d1b-ab36-3547b7bbc2ca\" class=\"att\">\n",
       "                    <label for=\"resources-e151ccd7-0558-4d1b-ab36-3547b7bbc2ca\">resources <span class=\"len\">(2)</span></label>\n",
       "                    <ul id=\"resources\" class=\"enoslist\">\n",
       "                        \n",
       "                <li>\n",
       "                    <input type=\"checkbox\" id=\"machines-2c7c2a00-0383-4276-8d57-85326a1d5dc5\" class=\"att\">\n",
       "                    <label for=\"machines-2c7c2a00-0383-4276-8d57-85326a1d5dc5\">machines <span class=\"len\">(2)</span></label>\n",
       "                    <ul id=\"machines\" class=\"enoslist\">\n",
       "                        <table><thead><tr><th>roles</th><th>image</th><th>archi</th><th>site</th><th>number</th></tr></thead><tbody><tr><td><ul class=\"list\"><li>border_router</li></ul></td><td>gnrc_border_router.bin</td><td>m3:at86rf231</td><td>grenoble</td><td>1</td></tr><tr><td><ul class=\"list\"><li>other</li></ul></td><td>emcute_mqttsn.bin</td><td>m3:at86rf231</td><td>grenoble</td><td>1</td></tr></tbody></table>\n",
       "                    </ul>\n",
       "                </li>\n",
       "                \n",
       "                <li>\n",
       "                    <input type=\"checkbox\" id=\"networks-b78a33f4-4f31-41d0-9c78-af4557a7cc8a\" class=\"att\">\n",
       "                    <label for=\"networks-b78a33f4-4f31-41d0-9c78-af4557a7cc8a\">networks <span class=\"len\">(0)</span></label>\n",
       "                    <ul id=\"networks\" class=\"enoslist\">\n",
       "                        \n",
       "                    </ul>\n",
       "                </li>\n",
       "                \n",
       "                    </ul>\n",
       "                </li>\n",
       "                \n",
       "            </ul>\n",
       "                </div>\n",
       "        </div>\n",
       "    "
      ],
      "text/plain": [
       "Conf@0x7f5d483435b0\n",
       "{\n",
       "    \"job_name\": \"riot_m3\",\n",
       "    \"walltime\": \"02:00\",\n",
       "    \"resources\": {\n",
       "        \"machines\": [\n",
       "            {\n",
       "                \"roles\": [\n",
       "                    \"border_router\"\n",
       "                ],\n",
       "                \"image\": \"gnrc_border_router.bin\",\n",
       "                \"archi\": \"m3:at86rf231\",\n",
       "                \"site\": \"grenoble\",\n",
       "                \"number\": 1\n",
       "            },\n",
       "            {\n",
       "                \"roles\": [\n",
       "                    \"other\"\n",
       "                ],\n",
       "                \"image\": \"emcute_mqttsn.bin\",\n",
       "                \"archi\": \"m3:at86rf231\",\n",
       "                \"site\": \"grenoble\",\n",
       "                \"number\": 1\n",
       "            }\n",
       "        ],\n",
       "        \"networks\": []\n",
       "    }\n",
       "}"
      ]
     },
     "execution_count": 2,
     "metadata": {},
     "output_type": "execute_result"
    }
   ],
   "source": [
    "fit_conf = (\n",
    "    en.IotlabConf.from_settings(job_name=\"riot_m3\", walltime=\"02:00\")\n",
    "    .add_machine(roles=[\"border_router\"], archi=\"m3:at86rf231\", site=FIT_SITE, number=1, image=\"gnrc_border_router.bin\")    \n",
    "    .add_machine(roles=[\"other\"], archi=\"m3:at86rf231\", site=FIT_SITE, number=1, image=\"emcute_mqttsn.bin\")    \n",
    ")\n",
    "fit_conf"
   ]
  },
  {
   "cell_type": "code",
   "execution_count": 3,
   "id": "a1ab91de-9e0e-4eb6-b64e-604a3ee8c7a1",
   "metadata": {},
   "outputs": [
    {
     "data": {
      "text/html": [
       "<pre style=\"white-space:pre;overflow-x:auto;line-height:normal;font-family:Menlo,'DejaVu Sans Mono',consolas,'Courier New',monospace\"><span style=\"color: #000080; text-decoration-color: #000080\">INFO    </span> Waiting for job id <span style=\"font-weight: bold\">(</span><span style=\"color: #008080; text-decoration-color: #008080; font-weight: bold\">303860</span><span style=\"font-weight: bold\">)</span> to be in running state                 <a href=\"file:///home/jovyan/.local/lib/python3.9/site-packages/enoslib/infra/enos_iotlab/iotlab_api.py\"><span style=\"color: #7f7f7f; text-decoration-color: #7f7f7f\">iotlab_api.py</span></a><span style=\"color: #7f7f7f; text-decoration-color: #7f7f7f\">:</span><a href=\"file:///home/jovyan/.local/lib/python3.9/site-packages/enoslib/infra/enos_iotlab/iotlab_api.py#174\"><span style=\"color: #7f7f7f; text-decoration-color: #7f7f7f\">174</span></a>\n",
       "</pre>\n"
      ],
      "text/plain": [
       "\u001b[34mINFO    \u001b[0m Waiting for job id \u001b[1m(\u001b[0m\u001b[1;36m303860\u001b[0m\u001b[1m)\u001b[0m to be in running state                 \u001b]8;id=472688;file:///home/jovyan/.local/lib/python3.9/site-packages/enoslib/infra/enos_iotlab/iotlab_api.py\u001b\\\u001b[2miotlab_api.py\u001b[0m\u001b]8;;\u001b\\\u001b[2m:\u001b[0m\u001b]8;id=752518;file:///home/jovyan/.local/lib/python3.9/site-packages/enoslib/infra/enos_iotlab/iotlab_api.py#174\u001b\\\u001b[2m174\u001b[0m\u001b]8;;\u001b\\\n"
      ]
     },
     "metadata": {},
     "output_type": "display_data"
    },
    {
     "data": {
      "text/html": [
       "<pre style=\"white-space:pre;overflow-x:auto;line-height:normal;font-family:Menlo,'DejaVu Sans Mono',consolas,'Courier New',monospace\"><span style=\"color: #000080; text-decoration-color: #000080\">INFO    </span> Job id <span style=\"font-weight: bold\">(</span><span style=\"color: #008080; text-decoration-color: #008080; font-weight: bold\">303860</span><span style=\"font-weight: bold\">)</span> is running                                         <a href=\"file:///home/jovyan/.local/lib/python3.9/site-packages/enoslib/infra/enos_iotlab/iotlab_api.py\"><span style=\"color: #7f7f7f; text-decoration-color: #7f7f7f\">iotlab_api.py</span></a><span style=\"color: #7f7f7f; text-decoration-color: #7f7f7f\">:</span><a href=\"file:///home/jovyan/.local/lib/python3.9/site-packages/enoslib/infra/enos_iotlab/iotlab_api.py#176\"><span style=\"color: #7f7f7f; text-decoration-color: #7f7f7f\">176</span></a>\n",
       "</pre>\n"
      ],
      "text/plain": [
       "\u001b[34mINFO    \u001b[0m Job id \u001b[1m(\u001b[0m\u001b[1;36m303860\u001b[0m\u001b[1m)\u001b[0m is running                                         \u001b]8;id=871560;file:///home/jovyan/.local/lib/python3.9/site-packages/enoslib/infra/enos_iotlab/iotlab_api.py\u001b\\\u001b[2miotlab_api.py\u001b[0m\u001b]8;;\u001b\\\u001b[2m:\u001b[0m\u001b]8;id=218092;file:///home/jovyan/.local/lib/python3.9/site-packages/enoslib/infra/enos_iotlab/iotlab_api.py#176\u001b\\\u001b[2m176\u001b[0m\u001b]8;;\u001b\\\n"
      ]
     },
     "metadata": {},
     "output_type": "display_data"
    },
    {
     "data": {
      "text/html": [
       "<pre style=\"white-space:pre;overflow-x:auto;line-height:normal;font-family:Menlo,'DejaVu Sans Mono',consolas,'Courier New',monospace\"><span style=\"color: #000080; text-decoration-color: #000080\">INFO    </span> Finished reserving nodes: hosts <span style=\"font-weight: bold\">[]</span>, sensors                          <a href=\"file:///home/jovyan/.local/lib/python3.9/site-packages/enoslib/infra/enos_iotlab/provider.py\"><span style=\"color: #7f7f7f; text-decoration-color: #7f7f7f\">provider.py</span></a><span style=\"color: #7f7f7f; text-decoration-color: #7f7f7f\">:</span><a href=\"file:///home/jovyan/.local/lib/python3.9/site-packages/enoslib/infra/enos_iotlab/provider.py#213\"><span style=\"color: #7f7f7f; text-decoration-color: #7f7f7f\">213</span></a>\n",
       "         <span style=\"font-weight: bold\">[&lt;</span><span style=\"color: #800080; text-decoration-color: #800080; font-weight: bold\">IotlabSensor</span><span style=\"color: #000000; text-decoration-color: #000000; font-weight: bold\">(</span><span style=\"color: #808000; text-decoration-color: #808000\">roles</span><span style=\"color: #000000; text-decoration-color: #000000\">=</span><span style=\"color: #000000; text-decoration-color: #000000; font-weight: bold\">[</span><span style=\"color: #008000; text-decoration-color: #008000\">'border_router'</span><span style=\"color: #000000; text-decoration-color: #000000; font-weight: bold\">]</span><span style=\"color: #000000; text-decoration-color: #000000\">, </span>                             <span style=\"color: #7f7f7f; text-decoration-color: #7f7f7f\">               </span>\n",
       "         <span style=\"color: #808000; text-decoration-color: #808000\">address</span><span style=\"color: #000000; text-decoration-color: #000000\">=</span><span style=\"color: #800080; text-decoration-color: #800080\">m3</span><span style=\"color: #000000; text-decoration-color: #000000\">-</span><span style=\"color: #008080; text-decoration-color: #008080; font-weight: bold\">100.</span><span style=\"color: #000000; text-decoration-color: #000000\">grenoble.iot-lab.info, </span><span style=\"color: #808000; text-decoration-color: #808000\">site</span><span style=\"color: #000000; text-decoration-color: #000000\">=</span><span style=\"color: #800080; text-decoration-color: #800080\">grenoble</span><span style=\"color: #000000; text-decoration-color: #000000\">, </span>                <span style=\"color: #7f7f7f; text-decoration-color: #7f7f7f\">               </span>\n",
       "         <span style=\"color: #808000; text-decoration-color: #808000\">uid</span><span style=\"color: #000000; text-decoration-color: #000000\">=</span><span style=\"color: #800080; text-decoration-color: #800080\">b080</span><span style=\"color: #000000; text-decoration-color: #000000; font-weight: bold\">)</span><span style=\"font-weight: bold\">&gt;</span><span style=\"color: #808000; text-decoration-color: #808000\">image</span>=<span style=\"color: #800080; text-decoration-color: #800080\">gnrc_border_router</span>.bin<span style=\"font-weight: bold\">)</span>&gt;,                            <span style=\"color: #7f7f7f; text-decoration-color: #7f7f7f\">               </span>\n",
       "         <span style=\"font-weight: bold\">&lt;</span><span style=\"color: #800080; text-decoration-color: #800080; font-weight: bold\">IotlabSensor</span><span style=\"color: #000000; text-decoration-color: #000000; font-weight: bold\">(</span><span style=\"color: #808000; text-decoration-color: #808000\">roles</span><span style=\"color: #000000; text-decoration-color: #000000\">=</span><span style=\"color: #000000; text-decoration-color: #000000; font-weight: bold\">[</span><span style=\"color: #008000; text-decoration-color: #008000\">'other'</span><span style=\"color: #000000; text-decoration-color: #000000; font-weight: bold\">]</span><span style=\"color: #000000; text-decoration-color: #000000\">, </span><span style=\"color: #808000; text-decoration-color: #808000\">address</span><span style=\"color: #000000; text-decoration-color: #000000\">=</span><span style=\"color: #800080; text-decoration-color: #800080\">m3</span><span style=\"color: #000000; text-decoration-color: #000000\">-</span><span style=\"color: #008080; text-decoration-color: #008080; font-weight: bold\">101.</span><span style=\"color: #000000; text-decoration-color: #000000\">grenoble.iot-lab.info,</span> <span style=\"color: #7f7f7f; text-decoration-color: #7f7f7f\">               </span>\n",
       "         <span style=\"color: #808000; text-decoration-color: #808000\">site</span><span style=\"color: #000000; text-decoration-color: #000000\">=</span><span style=\"color: #800080; text-decoration-color: #800080\">grenoble</span><span style=\"color: #000000; text-decoration-color: #000000\">, </span><span style=\"color: #808000; text-decoration-color: #808000\">uid</span><span style=\"color: #000000; text-decoration-color: #000000\">=</span><span style=\"color: #008080; text-decoration-color: #008080; font-weight: bold\">9181</span><span style=\"color: #000000; text-decoration-color: #000000; font-weight: bold\">)</span><span style=\"font-weight: bold\">&gt;</span><span style=\"color: #808000; text-decoration-color: #808000\">image</span>=<span style=\"color: #800080; text-decoration-color: #800080\">emcute_mqttsn</span>.bin<span style=\"font-weight: bold\">)</span>&gt;<span style=\"font-weight: bold\">]</span>                  <span style=\"color: #7f7f7f; text-decoration-color: #7f7f7f\">               </span>\n",
       "</pre>\n"
      ],
      "text/plain": [
       "\u001b[34mINFO    \u001b[0m Finished reserving nodes: hosts \u001b[1m[\u001b[0m\u001b[1m]\u001b[0m, sensors                          \u001b]8;id=629019;file:///home/jovyan/.local/lib/python3.9/site-packages/enoslib/infra/enos_iotlab/provider.py\u001b\\\u001b[2mprovider.py\u001b[0m\u001b]8;;\u001b\\\u001b[2m:\u001b[0m\u001b]8;id=42794;file:///home/jovyan/.local/lib/python3.9/site-packages/enoslib/infra/enos_iotlab/provider.py#213\u001b\\\u001b[2m213\u001b[0m\u001b]8;;\u001b\\\n",
       "         \u001b[1m[\u001b[0m\u001b[1m<\u001b[0m\u001b[1;35mIotlabSensor\u001b[0m\u001b[1;39m(\u001b[0m\u001b[33mroles\u001b[0m\u001b[39m=\u001b[0m\u001b[1;39m[\u001b[0m\u001b[32m'border_router'\u001b[0m\u001b[1;39m]\u001b[0m\u001b[39m, \u001b[0m                             \u001b[2m               \u001b[0m\n",
       "         \u001b[33maddress\u001b[0m\u001b[39m=\u001b[0m\u001b[35mm3\u001b[0m\u001b[39m-\u001b[0m\u001b[1;36m100.\u001b[0m\u001b[39mgrenoble.iot-lab.info, \u001b[0m\u001b[33msite\u001b[0m\u001b[39m=\u001b[0m\u001b[35mgrenoble\u001b[0m\u001b[39m, \u001b[0m                \u001b[2m               \u001b[0m\n",
       "         \u001b[33muid\u001b[0m\u001b[39m=\u001b[0m\u001b[35mb080\u001b[0m\u001b[1;39m)\u001b[0m\u001b[1m>\u001b[0m\u001b[33mimage\u001b[0m=\u001b[35mgnrc_border_router\u001b[0m.bin\u001b[1m)\u001b[0m>,                            \u001b[2m               \u001b[0m\n",
       "         \u001b[1m<\u001b[0m\u001b[1;35mIotlabSensor\u001b[0m\u001b[1;39m(\u001b[0m\u001b[33mroles\u001b[0m\u001b[39m=\u001b[0m\u001b[1;39m[\u001b[0m\u001b[32m'other'\u001b[0m\u001b[1;39m]\u001b[0m\u001b[39m, \u001b[0m\u001b[33maddress\u001b[0m\u001b[39m=\u001b[0m\u001b[35mm3\u001b[0m\u001b[39m-\u001b[0m\u001b[1;36m101.\u001b[0m\u001b[39mgrenoble.iot-lab.info,\u001b[0m \u001b[2m               \u001b[0m\n",
       "         \u001b[33msite\u001b[0m\u001b[39m=\u001b[0m\u001b[35mgrenoble\u001b[0m\u001b[39m, \u001b[0m\u001b[33muid\u001b[0m\u001b[39m=\u001b[0m\u001b[1;36m9181\u001b[0m\u001b[1;39m)\u001b[0m\u001b[1m>\u001b[0m\u001b[33mimage\u001b[0m=\u001b[35memcute_mqttsn\u001b[0m.bin\u001b[1m)\u001b[0m>\u001b[1m]\u001b[0m                  \u001b[2m               \u001b[0m\n"
      ]
     },
     "metadata": {},
     "output_type": "display_data"
    },
    {
     "data": {
      "text/html": [
       "<pre style=\"white-space:pre;overflow-x:auto;line-height:normal;font-family:Menlo,'DejaVu Sans Mono',consolas,'Courier New',monospace\"><span style=\"color: #000080; text-decoration-color: #000080\">INFO    </span> Flashing image <span style=\"font-weight: bold\">(</span>gnrc_border_router.bin<span style=\"font-weight: bold\">)</span> on nodes                   <a href=\"file:///home/jovyan/.local/lib/python3.9/site-packages/enoslib/infra/enos_iotlab/iotlab_api.py\"><span style=\"color: #7f7f7f; text-decoration-color: #7f7f7f\">iotlab_api.py</span></a><span style=\"color: #7f7f7f; text-decoration-color: #7f7f7f\">:</span><a href=\"file:///home/jovyan/.local/lib/python3.9/site-packages/enoslib/infra/enos_iotlab/iotlab_api.py#219\"><span style=\"color: #7f7f7f; text-decoration-color: #7f7f7f\">219</span></a>\n",
       "         <span style=\"font-weight: bold\">([</span><span style=\"color: #008000; text-decoration-color: #008000\">'m3-100.grenoble.iot-lab.info'</span><span style=\"font-weight: bold\">])</span>                                 <span style=\"color: #7f7f7f; text-decoration-color: #7f7f7f\">                 </span>\n",
       "</pre>\n"
      ],
      "text/plain": [
       "\u001b[34mINFO    \u001b[0m Flashing image \u001b[1m(\u001b[0mgnrc_border_router.bin\u001b[1m)\u001b[0m on nodes                   \u001b]8;id=477268;file:///home/jovyan/.local/lib/python3.9/site-packages/enoslib/infra/enos_iotlab/iotlab_api.py\u001b\\\u001b[2miotlab_api.py\u001b[0m\u001b]8;;\u001b\\\u001b[2m:\u001b[0m\u001b]8;id=805751;file:///home/jovyan/.local/lib/python3.9/site-packages/enoslib/infra/enos_iotlab/iotlab_api.py#219\u001b\\\u001b[2m219\u001b[0m\u001b]8;;\u001b\\\n",
       "         \u001b[1m(\u001b[0m\u001b[1m[\u001b[0m\u001b[32m'm3-100.grenoble.iot-lab.info'\u001b[0m\u001b[1m]\u001b[0m\u001b[1m)\u001b[0m                                 \u001b[2m                 \u001b[0m\n"
      ]
     },
     "metadata": {},
     "output_type": "display_data"
    },
    {
     "data": {
      "text/html": [
       "<pre style=\"white-space:pre;overflow-x:auto;line-height:normal;font-family:Menlo,'DejaVu Sans Mono',consolas,'Courier New',monospace\"><span style=\"color: #000080; text-decoration-color: #000080\">INFO    </span> Flashing image <span style=\"font-weight: bold\">(</span>emcute_mqttsn.bin<span style=\"font-weight: bold\">)</span> on nodes                        <a href=\"file:///home/jovyan/.local/lib/python3.9/site-packages/enoslib/infra/enos_iotlab/iotlab_api.py\"><span style=\"color: #7f7f7f; text-decoration-color: #7f7f7f\">iotlab_api.py</span></a><span style=\"color: #7f7f7f; text-decoration-color: #7f7f7f\">:</span><a href=\"file:///home/jovyan/.local/lib/python3.9/site-packages/enoslib/infra/enos_iotlab/iotlab_api.py#219\"><span style=\"color: #7f7f7f; text-decoration-color: #7f7f7f\">219</span></a>\n",
       "         <span style=\"font-weight: bold\">([</span><span style=\"color: #008000; text-decoration-color: #008000\">'m3-101.grenoble.iot-lab.info'</span><span style=\"font-weight: bold\">])</span>                                 <span style=\"color: #7f7f7f; text-decoration-color: #7f7f7f\">                 </span>\n",
       "</pre>\n"
      ],
      "text/plain": [
       "\u001b[34mINFO    \u001b[0m Flashing image \u001b[1m(\u001b[0memcute_mqttsn.bin\u001b[1m)\u001b[0m on nodes                        \u001b]8;id=119724;file:///home/jovyan/.local/lib/python3.9/site-packages/enoslib/infra/enos_iotlab/iotlab_api.py\u001b\\\u001b[2miotlab_api.py\u001b[0m\u001b]8;;\u001b\\\u001b[2m:\u001b[0m\u001b]8;id=435134;file:///home/jovyan/.local/lib/python3.9/site-packages/enoslib/infra/enos_iotlab/iotlab_api.py#219\u001b\\\u001b[2m219\u001b[0m\u001b]8;;\u001b\\\n",
       "         \u001b[1m(\u001b[0m\u001b[1m[\u001b[0m\u001b[32m'm3-101.grenoble.iot-lab.info'\u001b[0m\u001b[1m]\u001b[0m\u001b[1m)\u001b[0m                                 \u001b[2m                 \u001b[0m\n"
      ]
     },
     "metadata": {},
     "output_type": "display_data"
    }
   ],
   "source": [
    "fit = en.Iotlab(fit_conf)\n",
    "fit_roles, _ = fit.init()"
   ]
  },
  {
   "cell_type": "code",
   "execution_count": 4,
   "id": "123d7bc5-d60c-4c6a-9b3c-ebc6f5de9e90",
   "metadata": {},
   "outputs": [
    {
     "data": {
      "text/html": [
       "<pre style=\"white-space:pre;overflow-x:auto;line-height:normal;font-family:Menlo,'DejaVu Sans Mono',consolas,'Courier New',monospace\"><span style=\"color: #000080; text-decoration-color: #000080\">INFO    </span> Executing command <span style=\"font-weight: bold\">(</span>reset<span style=\"font-weight: bold\">)</span> on nodes                                 <a href=\"file:///home/jovyan/.local/lib/python3.9/site-packages/enoslib/infra/enos_iotlab/iotlab_api.py\"><span style=\"color: #7f7f7f; text-decoration-color: #7f7f7f\">iotlab_api.py</span></a><span style=\"color: #7f7f7f; text-decoration-color: #7f7f7f\">:</span><a href=\"file:///home/jovyan/.local/lib/python3.9/site-packages/enoslib/infra/enos_iotlab/iotlab_api.py#274\"><span style=\"color: #7f7f7f; text-decoration-color: #7f7f7f\">274</span></a>\n",
       "         <span style=\"font-weight: bold\">([</span><span style=\"color: #008000; text-decoration-color: #008000\">'m3-100.grenoble.iot-lab.info'</span><span style=\"font-weight: bold\">])</span>                                 <span style=\"color: #7f7f7f; text-decoration-color: #7f7f7f\">                 </span>\n",
       "</pre>\n"
      ],
      "text/plain": [
       "\u001b[34mINFO    \u001b[0m Executing command \u001b[1m(\u001b[0mreset\u001b[1m)\u001b[0m on nodes                                 \u001b]8;id=498269;file:///home/jovyan/.local/lib/python3.9/site-packages/enoslib/infra/enos_iotlab/iotlab_api.py\u001b\\\u001b[2miotlab_api.py\u001b[0m\u001b]8;;\u001b\\\u001b[2m:\u001b[0m\u001b]8;id=324200;file:///home/jovyan/.local/lib/python3.9/site-packages/enoslib/infra/enos_iotlab/iotlab_api.py#274\u001b\\\u001b[2m274\u001b[0m\u001b]8;;\u001b\\\n",
       "         \u001b[1m(\u001b[0m\u001b[1m[\u001b[0m\u001b[32m'm3-100.grenoble.iot-lab.info'\u001b[0m\u001b[1m]\u001b[0m\u001b[1m)\u001b[0m                                 \u001b[2m                 \u001b[0m\n"
      ]
     },
     "metadata": {},
     "output_type": "display_data"
    }
   ],
   "source": [
    "br = fit_roles[\"border_router\"][0]\n",
    "br.reset()"
   ]
  },
  {
   "cell_type": "code",
   "execution_count": 5,
   "id": "46fa11ae-405f-48dc-8ed5-e309d431781a",
   "metadata": {},
   "outputs": [
    {
     "data": {
      "text/html": [
       "<pre style=\"white-space:pre;overflow-x:auto;line-height:normal;font-family:Menlo,'DejaVu Sans Mono',consolas,'Courier New',monospace\"><span style=\"color: #000080; text-decoration-color: #000080\">INFO    </span> Executing command <span style=\"font-weight: bold\">(</span>reset<span style=\"font-weight: bold\">)</span> on nodes                                 <a href=\"file:///home/jovyan/.local/lib/python3.9/site-packages/enoslib/infra/enos_iotlab/iotlab_api.py\"><span style=\"color: #7f7f7f; text-decoration-color: #7f7f7f\">iotlab_api.py</span></a><span style=\"color: #7f7f7f; text-decoration-color: #7f7f7f\">:</span><a href=\"file:///home/jovyan/.local/lib/python3.9/site-packages/enoslib/infra/enos_iotlab/iotlab_api.py#274\"><span style=\"color: #7f7f7f; text-decoration-color: #7f7f7f\">274</span></a>\n",
       "         <span style=\"font-weight: bold\">([</span><span style=\"color: #008000; text-decoration-color: #008000\">'m3-101.grenoble.iot-lab.info'</span><span style=\"font-weight: bold\">])</span>                                 <span style=\"color: #7f7f7f; text-decoration-color: #7f7f7f\">                 </span>\n",
       "</pre>\n"
      ],
      "text/plain": [
       "\u001b[34mINFO    \u001b[0m Executing command \u001b[1m(\u001b[0mreset\u001b[1m)\u001b[0m on nodes                                 \u001b]8;id=122336;file:///home/jovyan/.local/lib/python3.9/site-packages/enoslib/infra/enos_iotlab/iotlab_api.py\u001b\\\u001b[2miotlab_api.py\u001b[0m\u001b]8;;\u001b\\\u001b[2m:\u001b[0m\u001b]8;id=404672;file:///home/jovyan/.local/lib/python3.9/site-packages/enoslib/infra/enos_iotlab/iotlab_api.py#274\u001b\\\u001b[2m274\u001b[0m\u001b]8;;\u001b\\\n",
       "         \u001b[1m(\u001b[0m\u001b[1m[\u001b[0m\u001b[32m'm3-101.grenoble.iot-lab.info'\u001b[0m\u001b[1m]\u001b[0m\u001b[1m)\u001b[0m                                 \u001b[2m                 \u001b[0m\n"
      ]
     },
     "metadata": {},
     "output_type": "display_data"
    }
   ],
   "source": [
    "other = fit_roles[\"other\"][0]\n",
    "other.reset()"
   ]
  },
  {
   "cell_type": "markdown",
   "id": "82ef229a-533a-435b-980f-87e0317e49ac",
   "metadata": {},
   "source": [
    "### Setting up IPv6"
   ]
  },
  {
   "cell_type": "code",
   "execution_count": 6,
   "id": "645f4642-ab5e-47b1-8a3a-0d31663af443",
   "metadata": {},
   "outputs": [],
   "source": [
    "import iotlabcli\n",
    "iotlab_user, _ = iotlabcli.auth.get_user_credentials()\n",
    "fit_frontend = en.Host(\"%s.iot-lab.info\" % FIT_SITE, alias=FIT_SITE, user=iotlab_user) "
   ]
  },
  {
   "cell_type": "markdown",
   "id": "2c22b0ad-c188-494c-99c0-18a4f69de82f",
   "metadata": {},
   "source": [
    "At this point you need to pick a free tap number and a [free subnet](https://www.iot-lab.info/legacy/tutorials/understand-ipv6-subnetting-on-the-fit-iot-lab-testbed/index.html)  "
   ]
  },
  {
   "cell_type": "code",
   "execution_count": 7,
   "id": "f041a67f-65e9-4d41-88e0-3d8d63f3bf7b",
   "metadata": {},
   "outputs": [
    {
     "data": {
      "application/vnd.jupyter.widget-view+json": {
       "model_id": "",
       "version_major": 2,
       "version_minor": 0
      },
      "text/plain": [
       "Output()"
      ]
     },
     "metadata": {},
     "output_type": "display_data"
    },
    {
     "data": {
      "text/html": [
       "<pre style=\"white-space:pre;overflow-x:auto;line-height:normal;font-family:Menlo,'DejaVu Sans Mono',consolas,'Courier New',monospace\"></pre>\n"
      ],
      "text/plain": []
     },
     "metadata": {},
     "output_type": "display_data"
    },
    {
     "data": {
      "text/html": [
       "<pre style=\"white-space:pre;overflow-x:auto;line-height:normal;font-family:Menlo,'DejaVu Sans Mono',consolas,'Courier New',monospace\"><span style=\"color: #000080; text-decoration-color: #000080; font-weight: bold\">Finished </span><span style=\"color: #000080; text-decoration-color: #000080; font-weight: bold\">1</span><span style=\"color: #000080; text-decoration-color: #000080; font-weight: bold\"> tasks</span> <span style=\"font-weight: bold; font-style: italic\">(</span><span style=\"font-style: italic\">ip </span><span style=\"color: #008080; text-decoration-color: #008080; font-weight: bold; font-style: italic\">-6</span><span style=\"font-style: italic\"> route</span><span style=\"font-weight: bold; font-style: italic\">)</span>\n",
       "</pre>\n"
      ],
      "text/plain": [
       "\u001b[1;34mFinished \u001b[0m\u001b[1;34m1\u001b[0m\u001b[1;34m tasks\u001b[0m \u001b[1;3m(\u001b[0m\u001b[3mip \u001b[0m\u001b[1;3;36m-6\u001b[0m\u001b[3m route\u001b[0m\u001b[1;3m)\u001b[0m\n"
      ]
     },
     "metadata": {},
     "output_type": "display_data"
    },
    {
     "data": {
      "text/html": [
       "<pre style=\"white-space:pre;overflow-x:auto;line-height:normal;font-family:Menlo,'DejaVu Sans Mono',consolas,'Courier New',monospace\"><span style=\"color: #00ff00; text-decoration-color: #00ff00\">─────────────────────────────────────────────────────────────────────────────────────────────</span>\n",
       "</pre>\n"
      ],
      "text/plain": [
       "\u001b[92m─────────────────────────────────────────────────────────────────────────────────────────────\u001b[0m\n"
      ]
     },
     "metadata": {},
     "output_type": "display_data"
    },
    {
     "name": "stdout",
     "output_type": "stream",
     "text": [
      "::1 dev lo proto kernel metric 256 pref medium\n",
      "2001:660:5307:30ff::/64 dev ens3 proto kernel metric 256 pref medium\n",
      "fe80::/64 dev ens3 proto kernel metric 256 pref medium\n",
      "fe80::/64 dev ens7 proto kernel metric 256 pref medium\n",
      "default via 2001:660:5307:30ff:ff:: dev ens3 metric 1024 onlink pref medium\n"
     ]
    }
   ],
   "source": [
    "r = en.run(f\"ip -6 route\", roles=fit_frontend)\n",
    "print(r[0].stdout)"
   ]
  },
  {
   "cell_type": "code",
   "execution_count": 8,
   "id": "7aac9ab7-22ab-460c-b42e-c04cab19ee29",
   "metadata": {},
   "outputs": [],
   "source": [
    "# change me\n",
    "tap = \"tap43\"\n",
    "prefix = \"2001:660:5307:3144\""
   ]
  },
  {
   "cell_type": "code",
   "execution_count": 9,
   "id": "00474406-f270-486a-b026-5165c91ea204",
   "metadata": {},
   "outputs": [
    {
     "data": {
      "application/vnd.jupyter.widget-view+json": {
       "model_id": "",
       "version_major": 2,
       "version_minor": 0
      },
      "text/plain": [
       "Output()"
      ]
     },
     "metadata": {},
     "output_type": "display_data"
    },
    {
     "data": {
      "text/html": [
       "<pre style=\"white-space:pre;overflow-x:auto;line-height:normal;font-family:Menlo,'DejaVu Sans Mono',consolas,'Courier New',monospace\"></pre>\n"
      ],
      "text/plain": []
     },
     "metadata": {},
     "output_type": "display_data"
    },
    {
     "data": {
      "text/html": [
       "<pre style=\"white-space:pre;overflow-x:auto;line-height:normal;font-family:Menlo,'DejaVu Sans Mono',consolas,'Courier New',monospace\"><span style=\"color: #000080; text-decoration-color: #000080; font-weight: bold\">Finished </span><span style=\"color: #000080; text-decoration-color: #000080; font-weight: bold\">1</span><span style=\"color: #000080; text-decoration-color: #000080; font-weight: bold\"> tasks</span> <span style=\"font-weight: bold; font-style: italic\">(</span><span style=\"font-style: italic\">ps aux | grep tap43 | grep simonin| grep -v grep | awk </span><span style=\"color: #008000; text-decoration-color: #008000; font-style: italic\">'{print $2}'</span><span style=\"font-style: italic\"> | xargs</span>\n",
       "<span style=\"font-style: italic\">-r kill</span><span style=\"font-weight: bold; font-style: italic\">)</span>\n",
       "</pre>\n"
      ],
      "text/plain": [
       "\u001b[1;34mFinished \u001b[0m\u001b[1;34m1\u001b[0m\u001b[1;34m tasks\u001b[0m \u001b[1;3m(\u001b[0m\u001b[3mps aux | grep tap43 | grep simonin| grep -v grep | awk \u001b[0m\u001b[3;32m'\u001b[0m\u001b[3;32m{\u001b[0m\u001b[3;32mprint $2\u001b[0m\u001b[3;32m}\u001b[0m\u001b[3;32m'\u001b[0m\u001b[3m | xargs\u001b[0m\n",
       "\u001b[3m-r kill\u001b[0m\u001b[1;3m)\u001b[0m\n"
      ]
     },
     "metadata": {},
     "output_type": "display_data"
    },
    {
     "data": {
      "text/html": [
       "<pre style=\"white-space:pre;overflow-x:auto;line-height:normal;font-family:Menlo,'DejaVu Sans Mono',consolas,'Courier New',monospace\"><span style=\"color: #00ff00; text-decoration-color: #00ff00\">─────────────────────────────────────────────────────────────────────────────────────────────</span>\n",
       "</pre>\n"
      ],
      "text/plain": [
       "\u001b[92m─────────────────────────────────────────────────────────────────────────────────────────────\u001b[0m\n"
      ]
     },
     "metadata": {},
     "output_type": "display_data"
    },
    {
     "data": {
      "application/vnd.jupyter.widget-view+json": {
       "model_id": "",
       "version_major": 2,
       "version_minor": 0
      },
      "text/plain": [
       "Output()"
      ]
     },
     "metadata": {},
     "output_type": "display_data"
    },
    {
     "data": {
      "text/html": [
       "<pre style=\"white-space:pre;overflow-x:auto;line-height:normal;font-family:Menlo,'DejaVu Sans Mono',consolas,'Courier New',monospace\"></pre>\n"
      ],
      "text/plain": []
     },
     "metadata": {},
     "output_type": "display_data"
    },
    {
     "data": {
      "text/html": [
       "<pre style=\"white-space:pre;overflow-x:auto;line-height:normal;font-family:Menlo,'DejaVu Sans Mono',consolas,'Courier New',monospace\"><span style=\"color: #000080; text-decoration-color: #000080; font-weight: bold\">Finished </span><span style=\"color: #000080; text-decoration-color: #000080; font-weight: bold\">1</span><span style=\"color: #000080; text-decoration-color: #000080; font-weight: bold\"> tasks</span> <span style=\"font-weight: bold; font-style: italic\">(</span><span style=\"font-style: italic\">sudo ethos_uhcpd.py m3-</span><span style=\"color: #008080; text-decoration-color: #008080; font-weight: bold; font-style: italic\">100</span><span style=\"font-style: italic\"> tap43 </span><span style=\"color: #00ff00; text-decoration-color: #00ff00; font-weight: bold; font-style: italic\">2001:660:5307:3144::1</span><span style=\"font-style: italic\">/</span><span style=\"color: #008080; text-decoration-color: #008080; font-weight: bold; font-style: italic\">64</span><span style=\"font-style: italic\"> </span><span style=\"color: #008080; text-decoration-color: #008080; font-weight: bold; font-style: italic\">2</span><span style=\"font-style: italic\">&gt;&amp;</span><span style=\"color: #008080; text-decoration-color: #008080; font-weight: bold; font-style: italic\">1</span><span style=\"font-style: italic\"> &gt;&gt; </span>\n",
       "<span style=\"font-style: italic\">ethos_uhcpd.out</span><span style=\"font-weight: bold; font-style: italic\">)</span>\n",
       "</pre>\n"
      ],
      "text/plain": [
       "\u001b[1;34mFinished \u001b[0m\u001b[1;34m1\u001b[0m\u001b[1;34m tasks\u001b[0m \u001b[1;3m(\u001b[0m\u001b[3msudo ethos_uhcpd.py m3-\u001b[0m\u001b[1;3;36m100\u001b[0m\u001b[3m tap43 \u001b[0m\u001b[1;3;92m2001:660:5307:3144::1\u001b[0m\u001b[3m/\u001b[0m\u001b[1;3;36m64\u001b[0m\u001b[3m \u001b[0m\u001b[1;3;36m2\u001b[0m\u001b[3m>&\u001b[0m\u001b[1;3;36m1\u001b[0m\u001b[3m >> \u001b[0m\n",
       "\u001b[3methos_uhcpd.out\u001b[0m\u001b[1;3m)\u001b[0m\n"
      ]
     },
     "metadata": {},
     "output_type": "display_data"
    },
    {
     "data": {
      "text/html": [
       "<pre style=\"white-space:pre;overflow-x:auto;line-height:normal;font-family:Menlo,'DejaVu Sans Mono',consolas,'Courier New',monospace\"><span style=\"color: #00ff00; text-decoration-color: #00ff00\">─────────────────────────────────────────────────────────────────────────────────────────────</span>\n",
       "</pre>\n"
      ],
      "text/plain": [
       "\u001b[92m─────────────────────────────────────────────────────────────────────────────────────────────\u001b[0m\n"
      ]
     },
     "metadata": {},
     "output_type": "display_data"
    }
   ],
   "source": [
    "en.run(f\"ps aux | grep tap43 | grep {iotlab_user}| grep -v grep | awk '{{print $2}}' | xargs -r kill\", roles=fit_frontend)\n",
    "r = en.run(f\"sudo ethos_uhcpd.py {br.alias} {tap} {prefix}::1/64 2>&1 >> ethos_uhcpd.out\", roles=fit_frontend, background=True)"
   ]
  },
  {
   "cell_type": "code",
   "execution_count": 10,
   "id": "087454e4-c074-4cfd-bfe2-aa11ced1a67a",
   "metadata": {},
   "outputs": [
    {
     "data": {
      "application/vnd.jupyter.widget-view+json": {
       "model_id": "",
       "version_major": 2,
       "version_minor": 0
      },
      "text/plain": [
       "Output()"
      ]
     },
     "metadata": {},
     "output_type": "display_data"
    },
    {
     "data": {
      "text/html": [
       "<pre style=\"white-space:pre;overflow-x:auto;line-height:normal;font-family:Menlo,'DejaVu Sans Mono',consolas,'Courier New',monospace\"></pre>\n"
      ],
      "text/plain": []
     },
     "metadata": {},
     "output_type": "display_data"
    },
    {
     "data": {
      "text/html": [
       "<pre style=\"white-space:pre;overflow-x:auto;line-height:normal;font-family:Menlo,'DejaVu Sans Mono',consolas,'Courier New',monospace\"><span style=\"color: #000080; text-decoration-color: #000080; font-weight: bold\">Finished </span><span style=\"color: #000080; text-decoration-color: #000080; font-weight: bold\">1</span><span style=\"color: #000080; text-decoration-color: #000080; font-weight: bold\"> tasks</span> <span style=\"font-weight: bold; font-style: italic\">(</span><span style=\"font-style: italic\">ip </span><span style=\"color: #008080; text-decoration-color: #008080; font-weight: bold; font-style: italic\">-6</span><span style=\"font-style: italic\"> route</span><span style=\"font-weight: bold; font-style: italic\">)</span>\n",
       "</pre>\n"
      ],
      "text/plain": [
       "\u001b[1;34mFinished \u001b[0m\u001b[1;34m1\u001b[0m\u001b[1;34m tasks\u001b[0m \u001b[1;3m(\u001b[0m\u001b[3mip \u001b[0m\u001b[1;3;36m-6\u001b[0m\u001b[3m route\u001b[0m\u001b[1;3m)\u001b[0m\n"
      ]
     },
     "metadata": {},
     "output_type": "display_data"
    },
    {
     "data": {
      "text/html": [
       "<pre style=\"white-space:pre;overflow-x:auto;line-height:normal;font-family:Menlo,'DejaVu Sans Mono',consolas,'Courier New',monospace\"><span style=\"color: #00ff00; text-decoration-color: #00ff00\">─────────────────────────────────────────────────────────────────────────────────────────────</span>\n",
       "</pre>\n"
      ],
      "text/plain": [
       "\u001b[92m─────────────────────────────────────────────────────────────────────────────────────────────\u001b[0m\n"
      ]
     },
     "metadata": {},
     "output_type": "display_data"
    },
    {
     "name": "stdout",
     "output_type": "stream",
     "text": [
      "::1 dev lo proto kernel metric 256 pref medium\n",
      "2001:660:5307:30ff::/64 dev ens3 proto kernel metric 256 pref medium\n",
      "2001:660:5307:3144::/64 via fe80::2 dev tap43 metric 1024 pref medium\n",
      "fe80::/64 dev ens3 proto kernel metric 256 pref medium\n",
      "fe80::/64 dev ens7 proto kernel metric 256 pref medium\n",
      "fe80::/64 dev tap43 proto kernel metric 256 pref medium\n",
      "default via 2001:660:5307:30ff:ff:: dev ens3 metric 1024 onlink pref medium\n"
     ]
    }
   ],
   "source": [
    "r = en.run(f\"ip -6 route\", roles=fit_frontend)\n",
    "print(r[0].stdout)"
   ]
  },
  {
   "cell_type": "markdown",
   "id": "52206ed1-ebd2-4977-94db-7cf9afc9eb83",
   "metadata": {},
   "source": [
    "The other M3 device should get its IPv6 in the chosen after few seconds.\n",
    "Retry the following until you get this IPv6 (or until you get bored)\n",
    "\n",
    "Note that the command sends a command (`ifconfig`) to the other M3 device after SSH-ing to the frontend."
   ]
  },
  {
   "cell_type": "code",
   "execution_count": 11,
   "id": "d7700cf9-3997-4813-bf18-656d304f5aac",
   "metadata": {},
   "outputs": [
    {
     "data": {
      "application/vnd.jupyter.widget-view+json": {
       "model_id": "",
       "version_major": 2,
       "version_minor": 0
      },
      "text/plain": [
       "Output()"
      ]
     },
     "metadata": {},
     "output_type": "display_data"
    },
    {
     "data": {
      "text/html": [
       "<pre style=\"white-space:pre;overflow-x:auto;line-height:normal;font-family:Menlo,'DejaVu Sans Mono',consolas,'Courier New',monospace\"></pre>\n"
      ],
      "text/plain": []
     },
     "metadata": {},
     "output_type": "display_data"
    },
    {
     "data": {
      "text/html": [
       "<pre style=\"white-space:pre;overflow-x:auto;line-height:normal;font-family:Menlo,'DejaVu Sans Mono',consolas,'Courier New',monospace\"><span style=\"color: #000080; text-decoration-color: #000080; font-weight: bold\">Finished </span><span style=\"color: #000080; text-decoration-color: #000080; font-weight: bold\">1</span><span style=\"color: #000080; text-decoration-color: #000080; font-weight: bold\"> tasks</span> <span style=\"font-weight: bold; font-style: italic\">(</span><span style=\"font-style: italic\">echo ifconfig | nc -w1  m3-</span><span style=\"color: #008080; text-decoration-color: #008080; font-weight: bold; font-style: italic\">101</span><span style=\"font-style: italic\"> </span><span style=\"color: #008080; text-decoration-color: #008080; font-weight: bold; font-style: italic\">20000</span><span style=\"font-weight: bold; font-style: italic\">)</span>\n",
       "</pre>\n"
      ],
      "text/plain": [
       "\u001b[1;34mFinished \u001b[0m\u001b[1;34m1\u001b[0m\u001b[1;34m tasks\u001b[0m \u001b[1;3m(\u001b[0m\u001b[3mecho ifconfig | nc -w1  m3-\u001b[0m\u001b[1;3;36m101\u001b[0m\u001b[3m \u001b[0m\u001b[1;3;36m20000\u001b[0m\u001b[1;3m)\u001b[0m\n"
      ]
     },
     "metadata": {},
     "output_type": "display_data"
    },
    {
     "data": {
      "text/html": [
       "<pre style=\"white-space:pre;overflow-x:auto;line-height:normal;font-family:Menlo,'DejaVu Sans Mono',consolas,'Courier New',monospace\"><span style=\"color: #00ff00; text-decoration-color: #00ff00\">─────────────────────────────────────────────────────────────────────────────────────────────</span>\n",
       "</pre>\n"
      ],
      "text/plain": [
       "\u001b[92m─────────────────────────────────────────────────────────────────────────────────────────────\u001b[0m\n"
      ]
     },
     "metadata": {},
     "output_type": "display_data"
    },
    {
     "name": "stdout",
     "output_type": "stream",
     "text": [
      "ifconfig\n",
      "Iface  5  HWaddr: 1D:60  Channel: 14  Page: 0  NID: 0xce70  PHY: O-QPSK \n",
      "          \n",
      "          Long HWaddr: A6:DA:E9:93:B3:CC:9D:60 \n",
      "           TX-Power: 0dBm  State: IDLE  max. Retrans.: 3  CSMA Retries: 4 \n",
      "          AUTOACK  ACK_REQ  CSMA  L2-PDU:102  MTU:1280  HL:64  6LO  \n",
      "          IPHC  \n",
      "          Source address length: 8\n",
      "          Link type: wireless\n",
      "          inet6 addr: fe80::a4da:e993:b3cc:9d60  scope: link  VAL\n",
      "          inet6 addr: 2001:660:5307:3144:a4da:e993:b3cc:9d60  scope: global  VAL\n",
      "          inet6 group: ff02::1\n",
      "          \n",
      "> \n"
     ]
    }
   ],
   "source": [
    "r = en.run(f\"echo ifconfig | nc -w1  {other.alias} 20000\", fit_frontend)\n",
    "print(r[0].stdout)"
   ]
  },
  {
   "cell_type": "code",
   "execution_count": 12,
   "id": "e1a16d39-dd14-4d59-8032-a12beb89251c",
   "metadata": {},
   "outputs": [],
   "source": [
    "# record this for future use\n",
    "FIT_IPv6 = \"2001:660:5307:3144:a4da:e993:b3cc:9d60\""
   ]
  },
  {
   "cell_type": "code",
   "execution_count": 13,
   "id": "f380d20b-a9cb-4abc-b0ef-478af6538591",
   "metadata": {},
   "outputs": [
    {
     "data": {
      "application/vnd.jupyter.widget-view+json": {
       "model_id": "",
       "version_major": 2,
       "version_minor": 0
      },
      "text/plain": [
       "Output()"
      ]
     },
     "metadata": {},
     "output_type": "display_data"
    },
    {
     "data": {
      "text/html": [
       "<pre style=\"white-space:pre;overflow-x:auto;line-height:normal;font-family:Menlo,'DejaVu Sans Mono',consolas,'Courier New',monospace\"></pre>\n"
      ],
      "text/plain": []
     },
     "metadata": {},
     "output_type": "display_data"
    },
    {
     "data": {
      "text/html": [
       "<pre style=\"white-space:pre;overflow-x:auto;line-height:normal;font-family:Menlo,'DejaVu Sans Mono',consolas,'Courier New',monospace\"><span style=\"color: #000080; text-decoration-color: #000080; font-weight: bold\">Finished </span><span style=\"color: #000080; text-decoration-color: #000080; font-weight: bold\">1</span><span style=\"color: #000080; text-decoration-color: #000080; font-weight: bold\"> tasks</span> <span style=\"font-weight: bold; font-style: italic\">(</span><span style=\"font-style: italic\">echo ping6 </span><span style=\"color: #00ff00; text-decoration-color: #00ff00; font-weight: bold; font-style: italic\">2001:4860:4860::8888</span><span style=\"font-style: italic\"> | nc -w5  m3-</span><span style=\"color: #008080; text-decoration-color: #008080; font-weight: bold; font-style: italic\">101</span><span style=\"font-style: italic\"> </span><span style=\"color: #008080; text-decoration-color: #008080; font-weight: bold; font-style: italic\">20000</span><span style=\"font-weight: bold; font-style: italic\">)</span>\n",
       "</pre>\n"
      ],
      "text/plain": [
       "\u001b[1;34mFinished \u001b[0m\u001b[1;34m1\u001b[0m\u001b[1;34m tasks\u001b[0m \u001b[1;3m(\u001b[0m\u001b[3mecho ping6 \u001b[0m\u001b[1;3;92m2001:4860:4860::8888\u001b[0m\u001b[3m | nc -w5  m3-\u001b[0m\u001b[1;3;36m101\u001b[0m\u001b[3m \u001b[0m\u001b[1;3;36m20000\u001b[0m\u001b[1;3m)\u001b[0m\n"
      ]
     },
     "metadata": {},
     "output_type": "display_data"
    },
    {
     "data": {
      "text/html": [
       "<pre style=\"white-space:pre;overflow-x:auto;line-height:normal;font-family:Menlo,'DejaVu Sans Mono',consolas,'Courier New',monospace\"><span style=\"color: #00ff00; text-decoration-color: #00ff00\">─────────────────────────────────────────────────────────────────────────────────────────────</span>\n",
       "</pre>\n"
      ],
      "text/plain": [
       "\u001b[92m─────────────────────────────────────────────────────────────────────────────────────────────\u001b[0m\n"
      ]
     },
     "metadata": {},
     "output_type": "display_data"
    },
    {
     "name": "stdout",
     "output_type": "stream",
     "text": [
      "ping6 2001:4860:4860::8888\n",
      "12 bytes from 2001:4860:4860::8888: icmp_seq=0 ttl=113 rssi=-55 dBm time=51.849 ms\n",
      "12 bytes from 2001:4860:4860::8888: icmp_seq=1 ttl=113 rssi=-55 dBm time=34.339 ms\n",
      "12 bytes from 2001:4860:4860::8888: icmp_seq=2 ttl=113 rssi=-55 dBm time=27.130 ms\n",
      "\n",
      "--- 2001:4860:4860::8888 PING statistics ---\n",
      "3 packets transmitted, 3 packets received, 0% packet loss\n",
      "round-trip min/avg/max = 27.130/37.772/51.849 ms\n",
      "> \n"
     ]
    }
   ],
   "source": [
    "# connectivity test with ... google\n",
    "r = en.run(f\"echo ping6 2001:4860:4860::8888 | nc -w5  {other.alias} 20000\", fit_frontend)\n",
    "print(r[0].stdout)"
   ]
  },
  {
   "cell_type": "markdown",
   "id": "b336117c-1e36-4fbe-91c4-1bcf7c8923b7",
   "metadata": {},
   "source": [
    "## Grid'5000 side\n",
    "\n",
    "### Get some resources"
   ]
  },
  {
   "cell_type": "code",
   "execution_count": 14,
   "id": "00b00f9e-6f5b-4c86-b5cf-afad14c3a291",
   "metadata": {},
   "outputs": [
    {
     "data": {
      "text/html": [
       "\n",
       "        <style> .enoslib {\n",
       "    width: auto;\n",
       "}\n",
       "\n",
       ".enoslib_object {\n",
       "    width: auto;\n",
       "    font-size: 1em;\n",
       "    line-height: 1.5;\n",
       "    background-color: rgb(250, 249, 249);\n",
       "    font-family: 'Segoe UI';\n",
       "    color: black;\n",
       "}\n",
       "\n",
       ".enoslib_object ul {\n",
       "    padding: 0;\n",
       "}\n",
       "\n",
       ".enoslib_object input+label {\n",
       "    margin-bottom: 0%;\n",
       "}\n",
       "\n",
       ".object_name {\n",
       "    padding: 6px 0 6px 3px;\n",
       "    border-bottom-width: 1px;\n",
       "    border-bottom-style: solid;\n",
       "    border-bottom-color: #777;\n",
       "    color: #555;\n",
       "}\n",
       "\n",
       ".object_name>div,\n",
       ".object_name>ul {\n",
       "    display: inline;\n",
       "    margin-top: 0;\n",
       "    margin-bottom: 0;\n",
       "}\n",
       "\n",
       "ul.enoslist {\n",
       "    list-style: none !important;\n",
       "    padding: 3px !important;\n",
       "    margin: 0 !important;\n",
       "}\n",
       "\n",
       "input.att+label {\n",
       "    display: inline-block;\n",
       "    /*width: 140px;*/\n",
       "    color: rgb(36, 35, 35);\n",
       "    font-weight: 500;\n",
       "    padding: 4px 0 2px 0;\n",
       "}\n",
       "\n",
       "input.att:enabled+label {\n",
       "    cursor: pointer;\n",
       "    width: auto;\n",
       "}\n",
       "\n",
       "input.att {\n",
       "    display: none;\n",
       "}\n",
       "\n",
       "input.att+label:before {\n",
       "    display: inline-block;\n",
       "    content: '►';\n",
       "    font-size: 11px;\n",
       "    width: 15px;\n",
       "    text-align: center;\n",
       "}\n",
       "\n",
       "input.att:checked+label:before {\n",
       "    content: '▼';\n",
       "}\n",
       "\n",
       "input.att:disabled+label:before {\n",
       "    content: none;\n",
       "}\n",
       "\n",
       "input.att+label>span {\n",
       "    display: inline-block;\n",
       "    margin-left: 4px;\n",
       "}\n",
       "\n",
       "input.att+label>span.len {\n",
       "    font-size: small;\n",
       "}\n",
       "\n",
       "input.att:checked+label>span.len {\n",
       "    display: none;\n",
       "}\n",
       "\n",
       "label+span {\n",
       "    color: rgb(70, 69, 69);\n",
       "}\n",
       "\n",
       "input.att~ul {\n",
       "    display: none;\n",
       "}\n",
       "\n",
       "input.att:checked~ul {\n",
       "    display: block;\n",
       "}\n",
       "\n",
       "table {\n",
       "    width: auto;\n",
       "    border-collapse: collapse;\n",
       "    margin: 2%;\n",
       "}\n",
       "\n",
       "td,\n",
       "th {\n",
       "    padding: 8px;\n",
       "    height: 15px;\n",
       "    font-size: small;\n",
       "}\n",
       "\n",
       "td {\n",
       "    text-align: left !important;\n",
       "    color: rgb(160, 160, 160)\n",
       "}\n",
       "\n",
       "th {\n",
       "    text-align: center;\n",
       "    color: black;\n",
       "}\n",
       "\n",
       "input~ul {\n",
       "    position: relative;\n",
       "    left: 25px;\n",
       "}\n",
       "\n",
       "input.att~table {\n",
       "    display: none;\n",
       "}\n",
       "\n",
       "input.att:checked~table {\n",
       "    display: block;\n",
       "} </style>\n",
       "        <div class=\"enoslib\">\n",
       "        <div class=\"enoslib_object\">\n",
       "            <div class=\"object_name\">\n",
       "                &lt;class &#x27;enoslib.infra.enos_g5k.configuration.Configuration&#x27;&gt;@0x7f5d3c41f0a0\n",
       "            </div>\n",
       "            <ul class=\"enoslist\">\n",
       "                \n",
       "        <li>\n",
       "        <input type=\"checkbox\" id=\"dhcp-525833b5-32fd-4b0b-b3a1-69c45a22d2df\" class=\"att\" disabled=\"\">\n",
       "        <label for=\"dhcp-525833b5-32fd-4b0b-b3a1-69c45a22d2df\">\n",
       "            <span>dhcp:&nbsp;</span>\n",
       "        </label>\n",
       "        <span>True</span>\n",
       "        </li>\n",
       "        <li>\n",
       "        <input type=\"checkbox\" id=\"force_deploy-d7d3108d-7102-4c38-b28c-7dc35e72ac31\" class=\"att\" disabled=\"\">\n",
       "        <label for=\"force_deploy-d7d3108d-7102-4c38-b28c-7dc35e72ac31\">\n",
       "            <span>force_deploy:&nbsp;</span>\n",
       "        </label>\n",
       "        <span>False</span>\n",
       "        </li>\n",
       "        <li>\n",
       "        <input type=\"checkbox\" id=\"env_name-cfad1b2d-93c1-4e2a-8789-cbbc72aa91af\" class=\"att\" disabled=\"\">\n",
       "        <label for=\"env_name-cfad1b2d-93c1-4e2a-8789-cbbc72aa91af\">\n",
       "            <span>env_name:&nbsp;</span>\n",
       "        </label>\n",
       "        <span>debian11-x64-nfs</span>\n",
       "        </li>\n",
       "        <li>\n",
       "        <input type=\"checkbox\" id=\"job_name-17c4c715-d254-4c0d-b371-c9d5bfa11654\" class=\"att\" disabled=\"\">\n",
       "        <label for=\"job_name-17c4c715-d254-4c0d-b371-c9d5bfa11654\">\n",
       "            <span>job_name:&nbsp;</span>\n",
       "        </label>\n",
       "        <span>rsd-01</span>\n",
       "        </li>\n",
       "        <li>\n",
       "        <input type=\"checkbox\" id=\"job_type-c09e0a75-274a-47d4-b0da-12fdcd3e6db4\" class=\"att\" disabled=\"\">\n",
       "        <label for=\"job_type-c09e0a75-274a-47d4-b0da-12fdcd3e6db4\">\n",
       "            <span>job_type:&nbsp;</span>\n",
       "        </label>\n",
       "        <span>allow_classic_ssh</span>\n",
       "        </li>\n",
       "        <li>\n",
       "        <input type=\"checkbox\" id=\"key-fed21fef-9231-4cd4-bcca-4b1efe722abd\" class=\"att\" disabled=\"\">\n",
       "        <label for=\"key-fed21fef-9231-4cd4-bcca-4b1efe722abd\">\n",
       "            <span>key:&nbsp;</span>\n",
       "        </label>\n",
       "        <span>/home/jovyan/.ssh/id_rsa.pub</span>\n",
       "        </li>\n",
       "        <li>\n",
       "        <input type=\"checkbox\" id=\"queue-f8eb8d4a-14a5-4854-8933-2fec780ee94e\" class=\"att\" disabled=\"\">\n",
       "        <label for=\"queue-f8eb8d4a-14a5-4854-8933-2fec780ee94e\">\n",
       "            <span>queue:&nbsp;</span>\n",
       "        </label>\n",
       "        <span>default</span>\n",
       "        </li>\n",
       "        <li>\n",
       "        <input type=\"checkbox\" id=\"walltime-f027530c-602c-4033-b302-b79cce0a0b50\" class=\"att\" disabled=\"\">\n",
       "        <label for=\"walltime-f027530c-602c-4033-b302-b79cce0a0b50\">\n",
       "            <span>walltime:&nbsp;</span>\n",
       "        </label>\n",
       "        <span>02:00:00</span>\n",
       "        </li>\n",
       "                <li>\n",
       "                    <input type=\"checkbox\" id=\"resources-43b923fa-04e1-404d-8f55-bf2dd746f5f0\" class=\"att\">\n",
       "                    <label for=\"resources-43b923fa-04e1-404d-8f55-bf2dd746f5f0\">resources <span class=\"len\">(2)</span></label>\n",
       "                    <ul id=\"resources\" class=\"enoslist\">\n",
       "                        \n",
       "                <li>\n",
       "                    <input type=\"checkbox\" id=\"machines-a24b9099-4fe7-48e5-8835-31c35f088f09\" class=\"att\">\n",
       "                    <label for=\"machines-a24b9099-4fe7-48e5-8835-31c35f088f09\">machines <span class=\"len\">(1)</span></label>\n",
       "                    <ul id=\"machines\" class=\"enoslist\">\n",
       "                        <table><thead><tr><th>roles</th><th>primary_network</th><th>secondary_networks</th><th>cluster</th><th>nodes</th></tr></thead><tbody><tr><td><ul class=\"list\"><li>broker</li></ul></td><td>57df626b-3a22-4788-9267-2857d1084be6</td><td></td><td>paravance</td><td>1</td></tr></tbody></table>\n",
       "                    </ul>\n",
       "                </li>\n",
       "                \n",
       "                <li>\n",
       "                    <input type=\"checkbox\" id=\"networks-5425de4b-8c16-45f0-940f-c148b4ee8dd0\" class=\"att\">\n",
       "                    <label for=\"networks-5425de4b-8c16-45f0-940f-c148b4ee8dd0\">networks <span class=\"len\">(1)</span></label>\n",
       "                    <ul id=\"networks\" class=\"enoslist\">\n",
       "                        <table><thead><tr><th>id</th><th>type</th><th>roles</th><th>site</th></tr></thead><tbody><tr><td>57df626b-3a22-4788-9267-2857d1084be6</td><td>prod</td><td><ul class=\"list\"><li>my_network</li></ul></td><td>rennes</td></tr></tbody></table>\n",
       "                    </ul>\n",
       "                </li>\n",
       "                \n",
       "                    </ul>\n",
       "                </li>\n",
       "                \n",
       "            </ul>\n",
       "                </div>\n",
       "        </div>\n",
       "    "
      ],
      "text/plain": [
       "Conf@0x7f5d3c41f0a0\n",
       "{\n",
       "    \"dhcp\": true,\n",
       "    \"force_deploy\": false,\n",
       "    \"env_name\": \"debian11-x64-nfs\",\n",
       "    \"job_name\": \"rsd-01\",\n",
       "    \"job_type\": \"allow_classic_ssh\",\n",
       "    \"key\": \"/home/jovyan/.ssh/id_rsa.pub\",\n",
       "    \"queue\": \"default\",\n",
       "    \"walltime\": \"02:00:00\",\n",
       "    \"resources\": {\n",
       "        \"machines\": [\n",
       "            {\n",
       "                \"roles\": [\n",
       "                    \"broker\"\n",
       "                ],\n",
       "                \"primary_network\": \"57df626b-3a22-4788-9267-2857d1084be6\",\n",
       "                \"secondary_networks\": [],\n",
       "                \"cluster\": \"paravance\",\n",
       "                \"nodes\": 1\n",
       "            }\n",
       "        ],\n",
       "        \"networks\": [\n",
       "            {\n",
       "                \"id\": \"57df626b-3a22-4788-9267-2857d1084be6\",\n",
       "                \"type\": \"prod\",\n",
       "                \"roles\": [\n",
       "                    \"my_network\"\n",
       "                ],\n",
       "                \"site\": \"rennes\"\n",
       "            }\n",
       "        ]\n",
       "    }\n",
       "}"
      ]
     },
     "execution_count": 14,
     "metadata": {},
     "output_type": "execute_result"
    }
   ],
   "source": [
    "network = en.G5kNetworkConf(type=\"prod\", roles=[\"my_network\"], site=\"rennes\")\n",
    "\n",
    "conf = (\n",
    "    en.G5kConf.from_settings(job_type=\"allow_classic_ssh\", job_name=\"rsd-01\")\n",
    "    .add_network_conf(network)\n",
    "    .add_machine(\n",
    "        roles=[\"broker\"], cluster=\"paravance\", nodes=1, primary_network=network\n",
    "    )\n",
    "    .finalize()\n",
    ")\n",
    "conf"
   ]
  },
  {
   "cell_type": "code",
   "execution_count": 15,
   "id": "16d87442-a6c6-4367-92ed-c5c8f9667d20",
   "metadata": {},
   "outputs": [
    {
     "data": {
      "text/html": [
       "<pre style=\"white-space:pre;overflow-x:auto;line-height:normal;font-family:Menlo,'DejaVu Sans Mono',consolas,'Courier New',monospace\"><span style=\"color: #000080; text-decoration-color: #000080\">INFO    </span> Reloading rsd-<span style=\"color: #008080; text-decoration-color: #008080; font-weight: bold\">01</span> from grenoble                                  <a href=\"file:///home/jovyan/.local/lib/python3.9/site-packages/enoslib/infra/enos_g5k/g5k_api_utils.py\"><span style=\"color: #7f7f7f; text-decoration-color: #7f7f7f\">g5k_api_utils.py</span></a><span style=\"color: #7f7f7f; text-decoration-color: #7f7f7f\">:</span><a href=\"file:///home/jovyan/.local/lib/python3.9/site-packages/enoslib/infra/enos_g5k/g5k_api_utils.py#175\"><span style=\"color: #7f7f7f; text-decoration-color: #7f7f7f\">175</span></a>\n",
       "</pre>\n"
      ],
      "text/plain": [
       "\u001b[34mINFO    \u001b[0m Reloading rsd-\u001b[1;36m01\u001b[0m from grenoble                                  \u001b]8;id=746071;file:///home/jovyan/.local/lib/python3.9/site-packages/enoslib/infra/enos_g5k/g5k_api_utils.py\u001b\\\u001b[2mg5k_api_utils.py\u001b[0m\u001b]8;;\u001b\\\u001b[2m:\u001b[0m\u001b]8;id=447950;file:///home/jovyan/.local/lib/python3.9/site-packages/enoslib/infra/enos_g5k/g5k_api_utils.py#175\u001b\\\u001b[2m175\u001b[0m\u001b]8;;\u001b\\\n"
      ]
     },
     "metadata": {},
     "output_type": "display_data"
    },
    {
     "data": {
      "text/html": [
       "<pre style=\"white-space:pre;overflow-x:auto;line-height:normal;font-family:Menlo,'DejaVu Sans Mono',consolas,'Courier New',monospace\"><span style=\"color: #000080; text-decoration-color: #000080\">INFO    </span> Reloading rsd-<span style=\"color: #008080; text-decoration-color: #008080; font-weight: bold\">01</span> from lille                                     <a href=\"file:///home/jovyan/.local/lib/python3.9/site-packages/enoslib/infra/enos_g5k/g5k_api_utils.py\"><span style=\"color: #7f7f7f; text-decoration-color: #7f7f7f\">g5k_api_utils.py</span></a><span style=\"color: #7f7f7f; text-decoration-color: #7f7f7f\">:</span><a href=\"file:///home/jovyan/.local/lib/python3.9/site-packages/enoslib/infra/enos_g5k/g5k_api_utils.py#175\"><span style=\"color: #7f7f7f; text-decoration-color: #7f7f7f\">175</span></a>\n",
       "</pre>\n"
      ],
      "text/plain": [
       "\u001b[34mINFO    \u001b[0m Reloading rsd-\u001b[1;36m01\u001b[0m from lille                                     \u001b]8;id=246675;file:///home/jovyan/.local/lib/python3.9/site-packages/enoslib/infra/enos_g5k/g5k_api_utils.py\u001b\\\u001b[2mg5k_api_utils.py\u001b[0m\u001b]8;;\u001b\\\u001b[2m:\u001b[0m\u001b]8;id=909864;file:///home/jovyan/.local/lib/python3.9/site-packages/enoslib/infra/enos_g5k/g5k_api_utils.py#175\u001b\\\u001b[2m175\u001b[0m\u001b]8;;\u001b\\\n"
      ]
     },
     "metadata": {},
     "output_type": "display_data"
    },
    {
     "data": {
      "text/html": [
       "<pre style=\"white-space:pre;overflow-x:auto;line-height:normal;font-family:Menlo,'DejaVu Sans Mono',consolas,'Courier New',monospace\"><span style=\"color: #000080; text-decoration-color: #000080\">INFO    </span> Reloading rsd-<span style=\"color: #008080; text-decoration-color: #008080; font-weight: bold\">01</span> from luxembourg                                <a href=\"file:///home/jovyan/.local/lib/python3.9/site-packages/enoslib/infra/enos_g5k/g5k_api_utils.py\"><span style=\"color: #7f7f7f; text-decoration-color: #7f7f7f\">g5k_api_utils.py</span></a><span style=\"color: #7f7f7f; text-decoration-color: #7f7f7f\">:</span><a href=\"file:///home/jovyan/.local/lib/python3.9/site-packages/enoslib/infra/enos_g5k/g5k_api_utils.py#175\"><span style=\"color: #7f7f7f; text-decoration-color: #7f7f7f\">175</span></a>\n",
       "</pre>\n"
      ],
      "text/plain": [
       "\u001b[34mINFO    \u001b[0m Reloading rsd-\u001b[1;36m01\u001b[0m from luxembourg                                \u001b]8;id=186571;file:///home/jovyan/.local/lib/python3.9/site-packages/enoslib/infra/enos_g5k/g5k_api_utils.py\u001b\\\u001b[2mg5k_api_utils.py\u001b[0m\u001b]8;;\u001b\\\u001b[2m:\u001b[0m\u001b]8;id=109316;file:///home/jovyan/.local/lib/python3.9/site-packages/enoslib/infra/enos_g5k/g5k_api_utils.py#175\u001b\\\u001b[2m175\u001b[0m\u001b]8;;\u001b\\\n"
      ]
     },
     "metadata": {},
     "output_type": "display_data"
    },
    {
     "data": {
      "text/html": [
       "<pre style=\"white-space:pre;overflow-x:auto;line-height:normal;font-family:Menlo,'DejaVu Sans Mono',consolas,'Courier New',monospace\"><span style=\"color: #000080; text-decoration-color: #000080\">INFO    </span> Reloading rsd-<span style=\"color: #008080; text-decoration-color: #008080; font-weight: bold\">01</span> from lyon                                      <a href=\"file:///home/jovyan/.local/lib/python3.9/site-packages/enoslib/infra/enos_g5k/g5k_api_utils.py\"><span style=\"color: #7f7f7f; text-decoration-color: #7f7f7f\">g5k_api_utils.py</span></a><span style=\"color: #7f7f7f; text-decoration-color: #7f7f7f\">:</span><a href=\"file:///home/jovyan/.local/lib/python3.9/site-packages/enoslib/infra/enos_g5k/g5k_api_utils.py#175\"><span style=\"color: #7f7f7f; text-decoration-color: #7f7f7f\">175</span></a>\n",
       "</pre>\n"
      ],
      "text/plain": [
       "\u001b[34mINFO    \u001b[0m Reloading rsd-\u001b[1;36m01\u001b[0m from lyon                                      \u001b]8;id=226717;file:///home/jovyan/.local/lib/python3.9/site-packages/enoslib/infra/enos_g5k/g5k_api_utils.py\u001b\\\u001b[2mg5k_api_utils.py\u001b[0m\u001b]8;;\u001b\\\u001b[2m:\u001b[0m\u001b]8;id=687531;file:///home/jovyan/.local/lib/python3.9/site-packages/enoslib/infra/enos_g5k/g5k_api_utils.py#175\u001b\\\u001b[2m175\u001b[0m\u001b]8;;\u001b\\\n"
      ]
     },
     "metadata": {},
     "output_type": "display_data"
    },
    {
     "data": {
      "text/html": [
       "<pre style=\"white-space:pre;overflow-x:auto;line-height:normal;font-family:Menlo,'DejaVu Sans Mono',consolas,'Courier New',monospace\"><span style=\"color: #000080; text-decoration-color: #000080\">INFO    </span> Reloading rsd-<span style=\"color: #008080; text-decoration-color: #008080; font-weight: bold\">01</span> from nancy                                     <a href=\"file:///home/jovyan/.local/lib/python3.9/site-packages/enoslib/infra/enos_g5k/g5k_api_utils.py\"><span style=\"color: #7f7f7f; text-decoration-color: #7f7f7f\">g5k_api_utils.py</span></a><span style=\"color: #7f7f7f; text-decoration-color: #7f7f7f\">:</span><a href=\"file:///home/jovyan/.local/lib/python3.9/site-packages/enoslib/infra/enos_g5k/g5k_api_utils.py#175\"><span style=\"color: #7f7f7f; text-decoration-color: #7f7f7f\">175</span></a>\n",
       "</pre>\n"
      ],
      "text/plain": [
       "\u001b[34mINFO    \u001b[0m Reloading rsd-\u001b[1;36m01\u001b[0m from nancy                                     \u001b]8;id=438267;file:///home/jovyan/.local/lib/python3.9/site-packages/enoslib/infra/enos_g5k/g5k_api_utils.py\u001b\\\u001b[2mg5k_api_utils.py\u001b[0m\u001b]8;;\u001b\\\u001b[2m:\u001b[0m\u001b]8;id=570341;file:///home/jovyan/.local/lib/python3.9/site-packages/enoslib/infra/enos_g5k/g5k_api_utils.py#175\u001b\\\u001b[2m175\u001b[0m\u001b]8;;\u001b\\\n"
      ]
     },
     "metadata": {},
     "output_type": "display_data"
    },
    {
     "data": {
      "text/html": [
       "<pre style=\"white-space:pre;overflow-x:auto;line-height:normal;font-family:Menlo,'DejaVu Sans Mono',consolas,'Courier New',monospace\"><span style=\"color: #000080; text-decoration-color: #000080\">INFO    </span> Reloading rsd-<span style=\"color: #008080; text-decoration-color: #008080; font-weight: bold\">01</span> from nantes                                    <a href=\"file:///home/jovyan/.local/lib/python3.9/site-packages/enoslib/infra/enos_g5k/g5k_api_utils.py\"><span style=\"color: #7f7f7f; text-decoration-color: #7f7f7f\">g5k_api_utils.py</span></a><span style=\"color: #7f7f7f; text-decoration-color: #7f7f7f\">:</span><a href=\"file:///home/jovyan/.local/lib/python3.9/site-packages/enoslib/infra/enos_g5k/g5k_api_utils.py#175\"><span style=\"color: #7f7f7f; text-decoration-color: #7f7f7f\">175</span></a>\n",
       "</pre>\n"
      ],
      "text/plain": [
       "\u001b[34mINFO    \u001b[0m Reloading rsd-\u001b[1;36m01\u001b[0m from nantes                                    \u001b]8;id=350640;file:///home/jovyan/.local/lib/python3.9/site-packages/enoslib/infra/enos_g5k/g5k_api_utils.py\u001b\\\u001b[2mg5k_api_utils.py\u001b[0m\u001b]8;;\u001b\\\u001b[2m:\u001b[0m\u001b]8;id=615523;file:///home/jovyan/.local/lib/python3.9/site-packages/enoslib/infra/enos_g5k/g5k_api_utils.py#175\u001b\\\u001b[2m175\u001b[0m\u001b]8;;\u001b\\\n"
      ]
     },
     "metadata": {},
     "output_type": "display_data"
    },
    {
     "data": {
      "text/html": [
       "<pre style=\"white-space:pre;overflow-x:auto;line-height:normal;font-family:Menlo,'DejaVu Sans Mono',consolas,'Courier New',monospace\"><span style=\"color: #000080; text-decoration-color: #000080\">INFO    </span> Reloading rsd-<span style=\"color: #008080; text-decoration-color: #008080; font-weight: bold\">01</span> from rennes                                    <a href=\"file:///home/jovyan/.local/lib/python3.9/site-packages/enoslib/infra/enos_g5k/g5k_api_utils.py\"><span style=\"color: #7f7f7f; text-decoration-color: #7f7f7f\">g5k_api_utils.py</span></a><span style=\"color: #7f7f7f; text-decoration-color: #7f7f7f\">:</span><a href=\"file:///home/jovyan/.local/lib/python3.9/site-packages/enoslib/infra/enos_g5k/g5k_api_utils.py#175\"><span style=\"color: #7f7f7f; text-decoration-color: #7f7f7f\">175</span></a>\n",
       "</pre>\n"
      ],
      "text/plain": [
       "\u001b[34mINFO    \u001b[0m Reloading rsd-\u001b[1;36m01\u001b[0m from rennes                                    \u001b]8;id=324778;file:///home/jovyan/.local/lib/python3.9/site-packages/enoslib/infra/enos_g5k/g5k_api_utils.py\u001b\\\u001b[2mg5k_api_utils.py\u001b[0m\u001b]8;;\u001b\\\u001b[2m:\u001b[0m\u001b]8;id=200047;file:///home/jovyan/.local/lib/python3.9/site-packages/enoslib/infra/enos_g5k/g5k_api_utils.py#175\u001b\\\u001b[2m175\u001b[0m\u001b]8;;\u001b\\\n"
      ]
     },
     "metadata": {},
     "output_type": "display_data"
    },
    {
     "data": {
      "text/html": [
       "<pre style=\"white-space:pre;overflow-x:auto;line-height:normal;font-family:Menlo,'DejaVu Sans Mono',consolas,'Courier New',monospace\"><span style=\"color: #000080; text-decoration-color: #000080\">INFO    </span> Reloading rsd-<span style=\"color: #008080; text-decoration-color: #008080; font-weight: bold\">01</span> from sophia                                    <a href=\"file:///home/jovyan/.local/lib/python3.9/site-packages/enoslib/infra/enos_g5k/g5k_api_utils.py\"><span style=\"color: #7f7f7f; text-decoration-color: #7f7f7f\">g5k_api_utils.py</span></a><span style=\"color: #7f7f7f; text-decoration-color: #7f7f7f\">:</span><a href=\"file:///home/jovyan/.local/lib/python3.9/site-packages/enoslib/infra/enos_g5k/g5k_api_utils.py#175\"><span style=\"color: #7f7f7f; text-decoration-color: #7f7f7f\">175</span></a>\n",
       "</pre>\n"
      ],
      "text/plain": [
       "\u001b[34mINFO    \u001b[0m Reloading rsd-\u001b[1;36m01\u001b[0m from sophia                                    \u001b]8;id=135640;file:///home/jovyan/.local/lib/python3.9/site-packages/enoslib/infra/enos_g5k/g5k_api_utils.py\u001b\\\u001b[2mg5k_api_utils.py\u001b[0m\u001b]8;;\u001b\\\u001b[2m:\u001b[0m\u001b]8;id=838487;file:///home/jovyan/.local/lib/python3.9/site-packages/enoslib/infra/enos_g5k/g5k_api_utils.py#175\u001b\\\u001b[2m175\u001b[0m\u001b]8;;\u001b\\\n"
      ]
     },
     "metadata": {},
     "output_type": "display_data"
    },
    {
     "data": {
      "text/html": [
       "<pre style=\"white-space:pre;overflow-x:auto;line-height:normal;font-family:Menlo,'DejaVu Sans Mono',consolas,'Courier New',monospace\"><span style=\"color: #000080; text-decoration-color: #000080\">INFO    </span> Submitting <span style=\"font-weight: bold\">{</span><span style=\"color: #008000; text-decoration-color: #008000\">'name'</span>: <span style=\"color: #008000; text-decoration-color: #008000\">'rsd-01'</span>, <span style=\"color: #008000; text-decoration-color: #008000\">'types'</span>: <span style=\"font-weight: bold\">[</span><span style=\"color: #008000; text-decoration-color: #008000\">'allow_classic_ssh'</span><span style=\"font-weight: bold\">]</span>,   <a href=\"file:///home/jovyan/.local/lib/python3.9/site-packages/enoslib/infra/enos_g5k/g5k_api_utils.py\"><span style=\"color: #7f7f7f; text-decoration-color: #7f7f7f\">g5k_api_utils.py</span></a><span style=\"color: #7f7f7f; text-decoration-color: #7f7f7f\">:</span><a href=\"file:///home/jovyan/.local/lib/python3.9/site-packages/enoslib/infra/enos_g5k/g5k_api_utils.py#286\"><span style=\"color: #7f7f7f; text-decoration-color: #7f7f7f\">286</span></a>\n",
       "         <span style=\"color: #008000; text-decoration-color: #008000\">'resources'</span>: <span style=\"color: #008000; text-decoration-color: #008000\">\"{cluster='paravance'}/nodes=1,walltime=02:00:00\"</span>, <span style=\"color: #7f7f7f; text-decoration-color: #7f7f7f\">                    </span>\n",
       "         <span style=\"color: #008000; text-decoration-color: #008000\">'command'</span>: <span style=\"color: #008000; text-decoration-color: #008000\">'sleep 31536000'</span>, <span style=\"color: #008000; text-decoration-color: #008000\">'queue'</span>: <span style=\"color: #008000; text-decoration-color: #008000\">'default'</span><span style=\"font-weight: bold\">}</span> on rennes      <span style=\"color: #7f7f7f; text-decoration-color: #7f7f7f\">                    </span>\n",
       "</pre>\n"
      ],
      "text/plain": [
       "\u001b[34mINFO    \u001b[0m Submitting \u001b[1m{\u001b[0m\u001b[32m'name'\u001b[0m: \u001b[32m'rsd-01'\u001b[0m, \u001b[32m'types'\u001b[0m: \u001b[1m[\u001b[0m\u001b[32m'allow_classic_ssh'\u001b[0m\u001b[1m]\u001b[0m,   \u001b]8;id=138338;file:///home/jovyan/.local/lib/python3.9/site-packages/enoslib/infra/enos_g5k/g5k_api_utils.py\u001b\\\u001b[2mg5k_api_utils.py\u001b[0m\u001b]8;;\u001b\\\u001b[2m:\u001b[0m\u001b]8;id=27339;file:///home/jovyan/.local/lib/python3.9/site-packages/enoslib/infra/enos_g5k/g5k_api_utils.py#286\u001b\\\u001b[2m286\u001b[0m\u001b]8;;\u001b\\\n",
       "         \u001b[32m'resources'\u001b[0m: \u001b[32m\"\u001b[0m\u001b[32m{\u001b[0m\u001b[32mcluster\u001b[0m\u001b[32m='paravance'\u001b[0m\u001b[32m}\u001b[0m\u001b[32m/\u001b[0m\u001b[32mnodes\u001b[0m\u001b[32m=\u001b[0m\u001b[32m1\u001b[0m\u001b[32m,\u001b[0m\u001b[32mwalltime\u001b[0m\u001b[32m=\u001b[0m\u001b[32m02\u001b[0m\u001b[32m:00:00\"\u001b[0m, \u001b[2m                    \u001b[0m\n",
       "         \u001b[32m'command'\u001b[0m: \u001b[32m'sleep 31536000'\u001b[0m, \u001b[32m'queue'\u001b[0m: \u001b[32m'default'\u001b[0m\u001b[1m}\u001b[0m on rennes      \u001b[2m                    \u001b[0m\n"
      ]
     },
     "metadata": {},
     "output_type": "display_data"
    },
    {
     "data": {
      "text/html": [
       "<pre style=\"white-space:pre;overflow-x:auto;line-height:normal;font-family:Menlo,'DejaVu Sans Mono',consolas,'Courier New',monospace\"><span style=\"color: #000080; text-decoration-color: #000080\">INFO    </span> Waiting for <span style=\"color: #008080; text-decoration-color: #008080; font-weight: bold\">1879409</span> on rennes <span style=\"font-weight: bold\">[</span><span style=\"color: #008080; text-decoration-color: #008080; font-weight: bold\">2022</span>-<span style=\"color: #008080; text-decoration-color: #008080; font-weight: bold\">03</span>-<span style=\"color: #008080; text-decoration-color: #008080; font-weight: bold\">09</span> <span style=\"color: #00ff00; text-decoration-color: #00ff00; font-weight: bold\">16:53:21</span><span style=\"font-weight: bold\">]</span>             <a href=\"file:///home/jovyan/.local/lib/python3.9/site-packages/enoslib/infra/enos_g5k/g5k_api_utils.py\"><span style=\"color: #7f7f7f; text-decoration-color: #7f7f7f\">g5k_api_utils.py</span></a><span style=\"color: #7f7f7f; text-decoration-color: #7f7f7f\">:</span><a href=\"file:///home/jovyan/.local/lib/python3.9/site-packages/enoslib/infra/enos_g5k/g5k_api_utils.py#317\"><span style=\"color: #7f7f7f; text-decoration-color: #7f7f7f\">317</span></a>\n",
       "</pre>\n"
      ],
      "text/plain": [
       "\u001b[34mINFO    \u001b[0m Waiting for \u001b[1;36m1879409\u001b[0m on rennes \u001b[1m[\u001b[0m\u001b[1;36m2022\u001b[0m-\u001b[1;36m03\u001b[0m-\u001b[1;36m09\u001b[0m \u001b[1;92m16:53:21\u001b[0m\u001b[1m]\u001b[0m             \u001b]8;id=784451;file:///home/jovyan/.local/lib/python3.9/site-packages/enoslib/infra/enos_g5k/g5k_api_utils.py\u001b\\\u001b[2mg5k_api_utils.py\u001b[0m\u001b]8;;\u001b\\\u001b[2m:\u001b[0m\u001b]8;id=961998;file:///home/jovyan/.local/lib/python3.9/site-packages/enoslib/infra/enos_g5k/g5k_api_utils.py#317\u001b\\\u001b[2m317\u001b[0m\u001b]8;;\u001b\\\n"
      ]
     },
     "metadata": {},
     "output_type": "display_data"
    },
    {
     "data": {
      "text/html": [
       "<pre style=\"white-space:pre;overflow-x:auto;line-height:normal;font-family:Menlo,'DejaVu Sans Mono',consolas,'Courier New',monospace\"><span style=\"color: #000080; text-decoration-color: #000080\">INFO    </span> All jobs are Running !                                          <a href=\"file:///home/jovyan/.local/lib/python3.9/site-packages/enoslib/infra/enos_g5k/g5k_api_utils.py\"><span style=\"color: #7f7f7f; text-decoration-color: #7f7f7f\">g5k_api_utils.py</span></a><span style=\"color: #7f7f7f; text-decoration-color: #7f7f7f\">:</span><a href=\"file:///home/jovyan/.local/lib/python3.9/site-packages/enoslib/infra/enos_g5k/g5k_api_utils.py#324\"><span style=\"color: #7f7f7f; text-decoration-color: #7f7f7f\">324</span></a>\n",
       "</pre>\n"
      ],
      "text/plain": [
       "\u001b[34mINFO    \u001b[0m All jobs are Running !                                          \u001b]8;id=78771;file:///home/jovyan/.local/lib/python3.9/site-packages/enoslib/infra/enos_g5k/g5k_api_utils.py\u001b\\\u001b[2mg5k_api_utils.py\u001b[0m\u001b]8;;\u001b\\\u001b[2m:\u001b[0m\u001b]8;id=642838;file:///home/jovyan/.local/lib/python3.9/site-packages/enoslib/infra/enos_g5k/g5k_api_utils.py#324\u001b\\\u001b[2m324\u001b[0m\u001b]8;;\u001b\\\n"
      ]
     },
     "metadata": {},
     "output_type": "display_data"
    }
   ],
   "source": [
    "g5k = en.G5k(conf)\n",
    "g5k_roles, g5k_networks = g5k.init()"
   ]
  },
  {
   "cell_type": "markdown",
   "id": "86e23aab-c592-48d0-9946-5c956ecec03b",
   "metadata": {},
   "source": [
    "### Setting up IPv6"
   ]
  },
  {
   "cell_type": "code",
   "execution_count": 16,
   "id": "e242da2b-edae-42fc-8b5b-256f3ba43199",
   "metadata": {},
   "outputs": [
    {
     "data": {
      "application/vnd.jupyter.widget-view+json": {
       "model_id": "",
       "version_major": 2,
       "version_minor": 0
      },
      "text/plain": [
       "Output()"
      ]
     },
     "metadata": {},
     "output_type": "display_data"
    },
    {
     "data": {
      "text/html": [
       "<pre style=\"white-space:pre;overflow-x:auto;line-height:normal;font-family:Menlo,'DejaVu Sans Mono',consolas,'Courier New',monospace\"></pre>\n"
      ],
      "text/plain": []
     },
     "metadata": {},
     "output_type": "display_data"
    },
    {
     "data": {
      "text/html": [
       "<pre style=\"white-space:pre;overflow-x:auto;line-height:normal;font-family:Menlo,'DejaVu Sans Mono',consolas,'Courier New',monospace\"><span style=\"color: #000080; text-decoration-color: #000080; font-weight: bold\">Finished </span><span style=\"color: #000080; text-decoration-color: #000080; font-weight: bold\">1</span><span style=\"color: #000080; text-decoration-color: #000080; font-weight: bold\"> tasks</span> <span style=\"font-weight: bold; font-style: italic\">(</span><span style=\"font-style: italic\">shell</span><span style=\"font-weight: bold; font-style: italic\">)</span>\n",
       "</pre>\n"
      ],
      "text/plain": [
       "\u001b[1;34mFinished \u001b[0m\u001b[1;34m1\u001b[0m\u001b[1;34m tasks\u001b[0m \u001b[1;3m(\u001b[0m\u001b[3mshell\u001b[0m\u001b[1;3m)\u001b[0m\n"
      ]
     },
     "metadata": {},
     "output_type": "display_data"
    },
    {
     "data": {
      "text/html": [
       "<pre style=\"white-space:pre;overflow-x:auto;line-height:normal;font-family:Menlo,'DejaVu Sans Mono',consolas,'Courier New',monospace\"><span style=\"color: #00ff00; text-decoration-color: #00ff00\">─────────────────────────────────────────────────────────────────────────────────────────────</span>\n",
       "</pre>\n"
      ],
      "text/plain": [
       "\u001b[92m─────────────────────────────────────────────────────────────────────────────────────────────\u001b[0m\n"
      ]
     },
     "metadata": {},
     "output_type": "display_data"
    },
    {
     "data": {
      "application/vnd.jupyter.widget-view+json": {
       "model_id": "",
       "version_major": 2,
       "version_minor": 0
      },
      "text/plain": [
       "Output()"
      ]
     },
     "metadata": {},
     "output_type": "display_data"
    },
    {
     "data": {
      "text/html": [
       "<pre style=\"white-space:pre;overflow-x:auto;line-height:normal;font-family:Menlo,'DejaVu Sans Mono',consolas,'Courier New',monospace\"></pre>\n"
      ],
      "text/plain": []
     },
     "metadata": {},
     "output_type": "display_data"
    },
    {
     "data": {
      "text/html": [
       "<pre style=\"white-space:pre;overflow-x:auto;line-height:normal;font-family:Menlo,'DejaVu Sans Mono',consolas,'Courier New',monospace\"><span style=\"color: #000080; text-decoration-color: #000080; font-weight: bold\">Finished </span><span style=\"color: #000080; text-decoration-color: #000080; font-weight: bold\">1</span><span style=\"color: #000080; text-decoration-color: #000080; font-weight: bold\"> tasks</span> <span style=\"font-weight: bold; font-style: italic\">(</span><span style=\"font-style: italic\">ip a</span><span style=\"font-weight: bold; font-style: italic\">)</span>\n",
       "</pre>\n"
      ],
      "text/plain": [
       "\u001b[1;34mFinished \u001b[0m\u001b[1;34m1\u001b[0m\u001b[1;34m tasks\u001b[0m \u001b[1;3m(\u001b[0m\u001b[3mip a\u001b[0m\u001b[1;3m)\u001b[0m\n"
      ]
     },
     "metadata": {},
     "output_type": "display_data"
    },
    {
     "data": {
      "text/html": [
       "<pre style=\"white-space:pre;overflow-x:auto;line-height:normal;font-family:Menlo,'DejaVu Sans Mono',consolas,'Courier New',monospace\"><span style=\"color: #00ff00; text-decoration-color: #00ff00\">─────────────────────────────────────────────────────────────────────────────────────────────</span>\n",
       "</pre>\n"
      ],
      "text/plain": [
       "\u001b[92m─────────────────────────────────────────────────────────────────────────────────────────────\u001b[0m\n"
      ]
     },
     "metadata": {},
     "output_type": "display_data"
    },
    {
     "name": "stdout",
     "output_type": "stream",
     "text": [
      "1: lo: <LOOPBACK,UP,LOWER_UP> mtu 65536 qdisc noqueue state UNKNOWN group default qlen 1000\n",
      "    link/loopback 00:00:00:00:00:00 brd 00:00:00:00:00:00\n",
      "    inet 127.0.0.1/8 scope host lo\n",
      "       valid_lft forever preferred_lft forever\n",
      "    inet6 ::1/128 scope host \n",
      "       valid_lft forever preferred_lft forever\n",
      "2: eno3: <BROADCAST,MULTICAST> mtu 1500 qdisc mq state DOWN group default qlen 1000\n",
      "    link/ether ec:f4:bb:d0:ff:e4 brd ff:ff:ff:ff:ff:ff\n",
      "    altname enp7s0f0\n",
      "3: eno4: <BROADCAST,MULTICAST> mtu 1500 qdisc mq state DOWN group default qlen 1000\n",
      "    link/ether ec:f4:bb:d0:ff:e5 brd ff:ff:ff:ff:ff:ff\n",
      "    altname enp7s0f1\n",
      "4: eno1: <BROADCAST,MULTICAST,UP,LOWER_UP> mtu 1500 qdisc mq master br0 state UP group default qlen 1000\n",
      "    link/ether ec:f4:bb:d0:ff:e0 brd ff:ff:ff:ff:ff:ff\n",
      "    altname enp1s0f0\n",
      "5: eno2: <BROADCAST,MULTICAST> mtu 1500 qdisc mq state DOWN group default qlen 1000\n",
      "    link/ether ec:f4:bb:d0:ff:e2 brd ff:ff:ff:ff:ff:ff\n",
      "    altname enp1s0f1\n",
      "6: br0: <BROADCAST,MULTICAST,UP,LOWER_UP> mtu 1500 qdisc noqueue state UP group default qlen 1000\n",
      "    link/ether ec:f4:bb:d0:ff:e0 brd ff:ff:ff:ff:ff:ff\n",
      "    inet 172.16.96.71/20 brd 172.16.111.255 scope global dynamic br0\n",
      "       valid_lft 86347sec preferred_lft 86347sec\n",
      "    inet6 2001:660:4406:700:1::47/128 scope global tentative \n",
      "       valid_lft forever preferred_lft forever\n",
      "    inet6 fe80::eef4:bbff:fed0:ffe0/64 scope link \n",
      "       valid_lft forever preferred_lft forever\n"
     ]
    }
   ],
   "source": [
    "with en.actions(roles=g5k_roles) as a:\n",
    "    # enable ipv6\n",
    "    a.shell(\"dhclient -6 br0\")\n",
    "    \n",
    "r = en.run(\"ip a\", g5k_roles)\n",
    "print(r[0].stdout)"
   ]
  },
  {
   "cell_type": "code",
   "execution_count": 17,
   "id": "1dae6906-d715-43fc-bc73-b486286986a4",
   "metadata": {},
   "outputs": [],
   "source": [
    "G5K_IPv6 = \"2001:660:4406:700:1::47\""
   ]
  },
  {
   "cell_type": "markdown",
   "id": "cc02dce1-23e8-4324-8ea1-06e45211e3fc",
   "metadata": {},
   "source": [
    "## Cross traffic connectivity \n",
    "\n",
    "### Grid'5000 -> FIT"
   ]
  },
  {
   "cell_type": "code",
   "execution_count": 18,
   "id": "2c0c5091-ff79-46b7-a943-b64410106487",
   "metadata": {},
   "outputs": [
    {
     "data": {
      "application/vnd.jupyter.widget-view+json": {
       "model_id": "",
       "version_major": 2,
       "version_minor": 0
      },
      "text/plain": [
       "Output()"
      ]
     },
     "metadata": {},
     "output_type": "display_data"
    },
    {
     "data": {
      "text/html": [
       "<pre style=\"white-space:pre;overflow-x:auto;line-height:normal;font-family:Menlo,'DejaVu Sans Mono',consolas,'Courier New',monospace\"></pre>\n"
      ],
      "text/plain": []
     },
     "metadata": {},
     "output_type": "display_data"
    },
    {
     "data": {
      "text/html": [
       "<pre style=\"white-space:pre;overflow-x:auto;line-height:normal;font-family:Menlo,'DejaVu Sans Mono',consolas,'Courier New',monospace\"><span style=\"color: #000080; text-decoration-color: #000080; font-weight: bold\">Finished </span><span style=\"color: #000080; text-decoration-color: #000080; font-weight: bold\">1</span><span style=\"color: #000080; text-decoration-color: #000080; font-weight: bold\"> tasks</span> <span style=\"font-weight: bold; font-style: italic\">(</span><span style=\"font-style: italic\">ping -c </span><span style=\"color: #008080; text-decoration-color: #008080; font-weight: bold; font-style: italic\">5</span><span style=\"font-style: italic\"> </span><span style=\"color: #00ff00; text-decoration-color: #00ff00; font-weight: bold; font-style: italic\">2001:660:5307:3144:a4da:e993:b3cc:9d60</span><span style=\"font-weight: bold; font-style: italic\">)</span>\n",
       "</pre>\n"
      ],
      "text/plain": [
       "\u001b[1;34mFinished \u001b[0m\u001b[1;34m1\u001b[0m\u001b[1;34m tasks\u001b[0m \u001b[1;3m(\u001b[0m\u001b[3mping -c \u001b[0m\u001b[1;3;36m5\u001b[0m\u001b[3m \u001b[0m\u001b[1;3;92m2001:660:5307:3144:a4da:e993:b3cc:9d60\u001b[0m\u001b[1;3m)\u001b[0m\n"
      ]
     },
     "metadata": {},
     "output_type": "display_data"
    },
    {
     "data": {
      "text/html": [
       "<pre style=\"white-space:pre;overflow-x:auto;line-height:normal;font-family:Menlo,'DejaVu Sans Mono',consolas,'Courier New',monospace\"><span style=\"color: #00ff00; text-decoration-color: #00ff00\">─────────────────────────────────────────────────────────────────────────────────────────────</span>\n",
       "</pre>\n"
      ],
      "text/plain": [
       "\u001b[92m─────────────────────────────────────────────────────────────────────────────────────────────\u001b[0m\n"
      ]
     },
     "metadata": {},
     "output_type": "display_data"
    },
    {
     "name": "stdout",
     "output_type": "stream",
     "text": [
      "PING 2001:660:5307:3144:a4da:e993:b3cc:9d60(2001:660:5307:3144:a4da:e993:b3cc:9d60) 56 data bytes\n",
      "64 bytes from 2001:660:5307:3144:a4da:e993:b3cc:9d60: icmp_seq=2 ttl=51 time=104 ms\n",
      "64 bytes from 2001:660:5307:3144:a4da:e993:b3cc:9d60: icmp_seq=3 ttl=51 time=62.7 ms\n",
      "64 bytes from 2001:660:5307:3144:a4da:e993:b3cc:9d60: icmp_seq=4 ttl=51 time=53.1 ms\n",
      "64 bytes from 2001:660:5307:3144:a4da:e993:b3cc:9d60: icmp_seq=5 ttl=51 time=59.8 ms\n",
      "\n",
      "--- 2001:660:5307:3144:a4da:e993:b3cc:9d60 ping statistics ---\n",
      "5 packets transmitted, 4 received, 20% packet loss, time 4032ms\n",
      "rtt min/avg/max/mdev = 53.051/69.912/104.138/20.065 ms\n"
     ]
    }
   ],
   "source": [
    "r = en.run(f\"ping -c 5 {FIT_IPv6}\", roles=g5k_roles)\n",
    "print(r[0].stdout)"
   ]
  },
  {
   "cell_type": "markdown",
   "id": "84dde85b-58ee-40a8-b434-791ce175e120",
   "metadata": {},
   "source": [
    "### FIT -> Grid5000"
   ]
  },
  {
   "cell_type": "code",
   "execution_count": null,
   "id": "792912e9-159a-46c4-b1f9-be894edd4d75",
   "metadata": {},
   "outputs": [
    {
     "data": {
      "text/html": [
       "<pre style=\"white-space:pre;overflow-x:auto;line-height:normal;font-family:Menlo,'DejaVu Sans Mono',consolas,'Courier New',monospace\"><span style=\"color: #000080; text-decoration-color: #000080\">INFO    </span> Reloading rsd-<span style=\"color: #008080; text-decoration-color: #008080; font-weight: bold\">01</span> from grenoble                                  <a href=\"file:///home/jovyan/.local/lib/python3.9/site-packages/enoslib/infra/enos_g5k/g5k_api_utils.py\"><span style=\"color: #7f7f7f; text-decoration-color: #7f7f7f\">g5k_api_utils.py</span></a><span style=\"color: #7f7f7f; text-decoration-color: #7f7f7f\">:</span><a href=\"file:///home/jovyan/.local/lib/python3.9/site-packages/enoslib/infra/enos_g5k/g5k_api_utils.py#175\"><span style=\"color: #7f7f7f; text-decoration-color: #7f7f7f\">175</span></a>\n",
       "</pre>\n"
      ],
      "text/plain": [
       "\u001b[34mINFO    \u001b[0m Reloading rsd-\u001b[1;36m01\u001b[0m from grenoble                                  \u001b]8;id=343444;file:///home/jovyan/.local/lib/python3.9/site-packages/enoslib/infra/enos_g5k/g5k_api_utils.py\u001b\\\u001b[2mg5k_api_utils.py\u001b[0m\u001b]8;;\u001b\\\u001b[2m:\u001b[0m\u001b]8;id=36721;file:///home/jovyan/.local/lib/python3.9/site-packages/enoslib/infra/enos_g5k/g5k_api_utils.py#175\u001b\\\u001b[2m175\u001b[0m\u001b]8;;\u001b\\\n"
      ]
     },
     "metadata": {},
     "output_type": "display_data"
    },
    {
     "data": {
      "text/html": [
       "<pre style=\"white-space:pre;overflow-x:auto;line-height:normal;font-family:Menlo,'DejaVu Sans Mono',consolas,'Courier New',monospace\"><span style=\"color: #000080; text-decoration-color: #000080\">INFO    </span> Reloading rsd-<span style=\"color: #008080; text-decoration-color: #008080; font-weight: bold\">01</span> from lille                                     <a href=\"file:///home/jovyan/.local/lib/python3.9/site-packages/enoslib/infra/enos_g5k/g5k_api_utils.py\"><span style=\"color: #7f7f7f; text-decoration-color: #7f7f7f\">g5k_api_utils.py</span></a><span style=\"color: #7f7f7f; text-decoration-color: #7f7f7f\">:</span><a href=\"file:///home/jovyan/.local/lib/python3.9/site-packages/enoslib/infra/enos_g5k/g5k_api_utils.py#175\"><span style=\"color: #7f7f7f; text-decoration-color: #7f7f7f\">175</span></a>\n",
       "</pre>\n"
      ],
      "text/plain": [
       "\u001b[34mINFO    \u001b[0m Reloading rsd-\u001b[1;36m01\u001b[0m from lille                                     \u001b]8;id=740264;file:///home/jovyan/.local/lib/python3.9/site-packages/enoslib/infra/enos_g5k/g5k_api_utils.py\u001b\\\u001b[2mg5k_api_utils.py\u001b[0m\u001b]8;;\u001b\\\u001b[2m:\u001b[0m\u001b]8;id=148591;file:///home/jovyan/.local/lib/python3.9/site-packages/enoslib/infra/enos_g5k/g5k_api_utils.py#175\u001b\\\u001b[2m175\u001b[0m\u001b]8;;\u001b\\\n"
      ]
     },
     "metadata": {},
     "output_type": "display_data"
    },
    {
     "data": {
      "text/html": [
       "<pre style=\"white-space:pre;overflow-x:auto;line-height:normal;font-family:Menlo,'DejaVu Sans Mono',consolas,'Courier New',monospace\"><span style=\"color: #000080; text-decoration-color: #000080\">INFO    </span> Reloading rsd-<span style=\"color: #008080; text-decoration-color: #008080; font-weight: bold\">01</span> from luxembourg                                <a href=\"file:///home/jovyan/.local/lib/python3.9/site-packages/enoslib/infra/enos_g5k/g5k_api_utils.py\"><span style=\"color: #7f7f7f; text-decoration-color: #7f7f7f\">g5k_api_utils.py</span></a><span style=\"color: #7f7f7f; text-decoration-color: #7f7f7f\">:</span><a href=\"file:///home/jovyan/.local/lib/python3.9/site-packages/enoslib/infra/enos_g5k/g5k_api_utils.py#175\"><span style=\"color: #7f7f7f; text-decoration-color: #7f7f7f\">175</span></a>\n",
       "</pre>\n"
      ],
      "text/plain": [
       "\u001b[34mINFO    \u001b[0m Reloading rsd-\u001b[1;36m01\u001b[0m from luxembourg                                \u001b]8;id=719302;file:///home/jovyan/.local/lib/python3.9/site-packages/enoslib/infra/enos_g5k/g5k_api_utils.py\u001b\\\u001b[2mg5k_api_utils.py\u001b[0m\u001b]8;;\u001b\\\u001b[2m:\u001b[0m\u001b]8;id=708642;file:///home/jovyan/.local/lib/python3.9/site-packages/enoslib/infra/enos_g5k/g5k_api_utils.py#175\u001b\\\u001b[2m175\u001b[0m\u001b]8;;\u001b\\\n"
      ]
     },
     "metadata": {},
     "output_type": "display_data"
    },
    {
     "data": {
      "text/html": [
       "<pre style=\"white-space:pre;overflow-x:auto;line-height:normal;font-family:Menlo,'DejaVu Sans Mono',consolas,'Courier New',monospace\"><span style=\"color: #000080; text-decoration-color: #000080\">INFO    </span> Reloading rsd-<span style=\"color: #008080; text-decoration-color: #008080; font-weight: bold\">01</span> from lyon                                      <a href=\"file:///home/jovyan/.local/lib/python3.9/site-packages/enoslib/infra/enos_g5k/g5k_api_utils.py\"><span style=\"color: #7f7f7f; text-decoration-color: #7f7f7f\">g5k_api_utils.py</span></a><span style=\"color: #7f7f7f; text-decoration-color: #7f7f7f\">:</span><a href=\"file:///home/jovyan/.local/lib/python3.9/site-packages/enoslib/infra/enos_g5k/g5k_api_utils.py#175\"><span style=\"color: #7f7f7f; text-decoration-color: #7f7f7f\">175</span></a>\n",
       "</pre>\n"
      ],
      "text/plain": [
       "\u001b[34mINFO    \u001b[0m Reloading rsd-\u001b[1;36m01\u001b[0m from lyon                                      \u001b]8;id=436995;file:///home/jovyan/.local/lib/python3.9/site-packages/enoslib/infra/enos_g5k/g5k_api_utils.py\u001b\\\u001b[2mg5k_api_utils.py\u001b[0m\u001b]8;;\u001b\\\u001b[2m:\u001b[0m\u001b]8;id=380659;file:///home/jovyan/.local/lib/python3.9/site-packages/enoslib/infra/enos_g5k/g5k_api_utils.py#175\u001b\\\u001b[2m175\u001b[0m\u001b]8;;\u001b\\\n"
      ]
     },
     "metadata": {},
     "output_type": "display_data"
    },
    {
     "data": {
      "text/html": [
       "<pre style=\"white-space:pre;overflow-x:auto;line-height:normal;font-family:Menlo,'DejaVu Sans Mono',consolas,'Courier New',monospace\"><span style=\"color: #000080; text-decoration-color: #000080\">INFO    </span> Reloading rsd-<span style=\"color: #008080; text-decoration-color: #008080; font-weight: bold\">01</span> from nancy                                     <a href=\"file:///home/jovyan/.local/lib/python3.9/site-packages/enoslib/infra/enos_g5k/g5k_api_utils.py\"><span style=\"color: #7f7f7f; text-decoration-color: #7f7f7f\">g5k_api_utils.py</span></a><span style=\"color: #7f7f7f; text-decoration-color: #7f7f7f\">:</span><a href=\"file:///home/jovyan/.local/lib/python3.9/site-packages/enoslib/infra/enos_g5k/g5k_api_utils.py#175\"><span style=\"color: #7f7f7f; text-decoration-color: #7f7f7f\">175</span></a>\n",
       "</pre>\n"
      ],
      "text/plain": [
       "\u001b[34mINFO    \u001b[0m Reloading rsd-\u001b[1;36m01\u001b[0m from nancy                                     \u001b]8;id=235909;file:///home/jovyan/.local/lib/python3.9/site-packages/enoslib/infra/enos_g5k/g5k_api_utils.py\u001b\\\u001b[2mg5k_api_utils.py\u001b[0m\u001b]8;;\u001b\\\u001b[2m:\u001b[0m\u001b]8;id=347310;file:///home/jovyan/.local/lib/python3.9/site-packages/enoslib/infra/enos_g5k/g5k_api_utils.py#175\u001b\\\u001b[2m175\u001b[0m\u001b]8;;\u001b\\\n"
      ]
     },
     "metadata": {},
     "output_type": "display_data"
    },
    {
     "data": {
      "text/html": [
       "<pre style=\"white-space:pre;overflow-x:auto;line-height:normal;font-family:Menlo,'DejaVu Sans Mono',consolas,'Courier New',monospace\"><span style=\"color: #000080; text-decoration-color: #000080\">INFO    </span> Reloading rsd-<span style=\"color: #008080; text-decoration-color: #008080; font-weight: bold\">01</span> from nantes                                    <a href=\"file:///home/jovyan/.local/lib/python3.9/site-packages/enoslib/infra/enos_g5k/g5k_api_utils.py\"><span style=\"color: #7f7f7f; text-decoration-color: #7f7f7f\">g5k_api_utils.py</span></a><span style=\"color: #7f7f7f; text-decoration-color: #7f7f7f\">:</span><a href=\"file:///home/jovyan/.local/lib/python3.9/site-packages/enoslib/infra/enos_g5k/g5k_api_utils.py#175\"><span style=\"color: #7f7f7f; text-decoration-color: #7f7f7f\">175</span></a>\n",
       "</pre>\n"
      ],
      "text/plain": [
       "\u001b[34mINFO    \u001b[0m Reloading rsd-\u001b[1;36m01\u001b[0m from nantes                                    \u001b]8;id=503785;file:///home/jovyan/.local/lib/python3.9/site-packages/enoslib/infra/enos_g5k/g5k_api_utils.py\u001b\\\u001b[2mg5k_api_utils.py\u001b[0m\u001b]8;;\u001b\\\u001b[2m:\u001b[0m\u001b]8;id=295709;file:///home/jovyan/.local/lib/python3.9/site-packages/enoslib/infra/enos_g5k/g5k_api_utils.py#175\u001b\\\u001b[2m175\u001b[0m\u001b]8;;\u001b\\\n"
      ]
     },
     "metadata": {},
     "output_type": "display_data"
    },
    {
     "data": {
      "text/html": [
       "<pre style=\"white-space:pre;overflow-x:auto;line-height:normal;font-family:Menlo,'DejaVu Sans Mono',consolas,'Courier New',monospace\"><span style=\"color: #000080; text-decoration-color: #000080\">INFO    </span> Reloading rsd-<span style=\"color: #008080; text-decoration-color: #008080; font-weight: bold\">01</span> from rennes                                    <a href=\"file:///home/jovyan/.local/lib/python3.9/site-packages/enoslib/infra/enos_g5k/g5k_api_utils.py\"><span style=\"color: #7f7f7f; text-decoration-color: #7f7f7f\">g5k_api_utils.py</span></a><span style=\"color: #7f7f7f; text-decoration-color: #7f7f7f\">:</span><a href=\"file:///home/jovyan/.local/lib/python3.9/site-packages/enoslib/infra/enos_g5k/g5k_api_utils.py#175\"><span style=\"color: #7f7f7f; text-decoration-color: #7f7f7f\">175</span></a>\n",
       "</pre>\n"
      ],
      "text/plain": [
       "\u001b[34mINFO    \u001b[0m Reloading rsd-\u001b[1;36m01\u001b[0m from rennes                                    \u001b]8;id=388857;file:///home/jovyan/.local/lib/python3.9/site-packages/enoslib/infra/enos_g5k/g5k_api_utils.py\u001b\\\u001b[2mg5k_api_utils.py\u001b[0m\u001b]8;;\u001b\\\u001b[2m:\u001b[0m\u001b]8;id=653151;file:///home/jovyan/.local/lib/python3.9/site-packages/enoslib/infra/enos_g5k/g5k_api_utils.py#175\u001b\\\u001b[2m175\u001b[0m\u001b]8;;\u001b\\\n"
      ]
     },
     "metadata": {},
     "output_type": "display_data"
    },
    {
     "data": {
      "text/html": [
       "<pre style=\"white-space:pre;overflow-x:auto;line-height:normal;font-family:Menlo,'DejaVu Sans Mono',consolas,'Courier New',monospace\"><span style=\"color: #000080; text-decoration-color: #000080\">INFO    </span> Reloading <span style=\"color: #008080; text-decoration-color: #008080; font-weight: bold\">1879409</span> from rennes                                   <a href=\"file:///home/jovyan/.local/lib/python3.9/site-packages/enoslib/infra/enos_g5k/g5k_api_utils.py\"><span style=\"color: #7f7f7f; text-decoration-color: #7f7f7f\">g5k_api_utils.py</span></a><span style=\"color: #7f7f7f; text-decoration-color: #7f7f7f\">:</span><a href=\"file:///home/jovyan/.local/lib/python3.9/site-packages/enoslib/infra/enos_g5k/g5k_api_utils.py#180\"><span style=\"color: #7f7f7f; text-decoration-color: #7f7f7f\">180</span></a>\n",
       "</pre>\n"
      ],
      "text/plain": [
       "\u001b[34mINFO    \u001b[0m Reloading \u001b[1;36m1879409\u001b[0m from rennes                                   \u001b]8;id=677491;file:///home/jovyan/.local/lib/python3.9/site-packages/enoslib/infra/enos_g5k/g5k_api_utils.py\u001b\\\u001b[2mg5k_api_utils.py\u001b[0m\u001b]8;;\u001b\\\u001b[2m:\u001b[0m\u001b]8;id=679249;file:///home/jovyan/.local/lib/python3.9/site-packages/enoslib/infra/enos_g5k/g5k_api_utils.py#180\u001b\\\u001b[2m180\u001b[0m\u001b]8;;\u001b\\\n"
      ]
     },
     "metadata": {},
     "output_type": "display_data"
    },
    {
     "data": {
      "text/html": [
       "<pre style=\"white-space:pre;overflow-x:auto;line-height:normal;font-family:Menlo,'DejaVu Sans Mono',consolas,'Courier New',monospace\"><span style=\"color: #000080; text-decoration-color: #000080\">INFO    </span> Reloading rsd-<span style=\"color: #008080; text-decoration-color: #008080; font-weight: bold\">01</span> from sophia                                    <a href=\"file:///home/jovyan/.local/lib/python3.9/site-packages/enoslib/infra/enos_g5k/g5k_api_utils.py\"><span style=\"color: #7f7f7f; text-decoration-color: #7f7f7f\">g5k_api_utils.py</span></a><span style=\"color: #7f7f7f; text-decoration-color: #7f7f7f\">:</span><a href=\"file:///home/jovyan/.local/lib/python3.9/site-packages/enoslib/infra/enos_g5k/g5k_api_utils.py#175\"><span style=\"color: #7f7f7f; text-decoration-color: #7f7f7f\">175</span></a>\n",
       "</pre>\n"
      ],
      "text/plain": [
       "\u001b[34mINFO    \u001b[0m Reloading rsd-\u001b[1;36m01\u001b[0m from sophia                                    \u001b]8;id=436901;file:///home/jovyan/.local/lib/python3.9/site-packages/enoslib/infra/enos_g5k/g5k_api_utils.py\u001b\\\u001b[2mg5k_api_utils.py\u001b[0m\u001b]8;;\u001b\\\u001b[2m:\u001b[0m\u001b]8;id=911662;file:///home/jovyan/.local/lib/python3.9/site-packages/enoslib/infra/enos_g5k/g5k_api_utils.py#175\u001b\\\u001b[2m175\u001b[0m\u001b]8;;\u001b\\\n"
      ]
     },
     "metadata": {},
     "output_type": "display_data"
    },
    {
     "data": {
      "application/vnd.jupyter.widget-view+json": {
       "model_id": "8aeb0a80e5d4448b90b350f91e734dcc",
       "version_major": 2,
       "version_minor": 0
      },
      "text/plain": [
       "Output()"
      ]
     },
     "metadata": {},
     "output_type": "display_data"
    }
   ],
   "source": [
    "# open the firewall for the duration of the inner command\n",
    "with g5k.firewall(proto=\"all\"):\n",
    "    r = en.run(f\"echo ping6 {G5K_IPv6} | nc -w5  {other.alias} 20000\", fit_frontend)\n",
    "    print(r[0].stdout)"
   ]
  },
  {
   "cell_type": "markdown",
   "id": "e5eb9804-dbdf-4882-b659-b269e6debf6a",
   "metadata": {},
   "source": [
    "## MQTT FIT <-> G5K"
   ]
  },
  {
   "cell_type": "code",
   "execution_count": null,
   "id": "02b0e2ed-74ab-4bc5-a122-c13a98f277c4",
   "metadata": {},
   "outputs": [],
   "source": [
    "# TODO"
   ]
  }
 ],
 "metadata": {
  "kernelspec": {
   "display_name": "Python 3 (ipykernel)",
   "language": "python",
   "name": "python3"
  },
  "language_info": {
   "codemirror_mode": {
    "name": "ipython",
    "version": 3
   },
   "file_extension": ".py",
   "mimetype": "text/x-python",
   "name": "python",
   "nbconvert_exporter": "python",
   "pygments_lexer": "ipython3",
   "version": "3.9.7"
  }
 },
 "nbformat": 4,
 "nbformat_minor": 5
}
